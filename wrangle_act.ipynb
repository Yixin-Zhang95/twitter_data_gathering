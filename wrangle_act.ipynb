{
 "cells": [
  {
   "cell_type": "markdown",
   "metadata": {
    "extensions": {
     "jupyter_dashboards": {
      "version": 1,
      "views": {
       "grid_default": {
        "col": 0,
        "height": 4,
        "hidden": false,
        "row": 0,
        "width": 4
       },
       "report_default": {
        "hidden": false
       }
      }
     }
    }
   },
   "source": [
    "# Project: Wrangling and Analyze Data"
   ]
  },
  {
   "cell_type": "markdown",
   "metadata": {},
   "source": [
    "## Data Gathering\n",
    "In the cell below, gather **all** three pieces of data for this project and load them in the notebook. **Note:** the methods required to gather each data are different.\n",
    "1. Directly download the WeRateDogs Twitter archive data (twitter_archive_enhanced.csv)"
   ]
  },
  {
   "cell_type": "code",
   "execution_count": 1,
   "metadata": {
    "extensions": {
     "jupyter_dashboards": {
      "version": 1,
      "views": {
       "grid_default": {
        "hidden": true
       },
       "report_default": {
        "hidden": true
       }
      }
     }
    }
   },
   "outputs": [
    {
     "name": "stderr",
     "output_type": "stream",
     "text": [
      "<ipython-input-1-aa14a0c9ca08>:5: FutureWarning: Passing a negative integer is deprecated in version 1.0 and will not be supported in future version. Instead, use None to not limit the column width.\n",
      "  pd.set_option('display.max_colwidth', -1)\n"
     ]
    },
    {
     "data": {
      "text/html": [
       "<div>\n",
       "<style scoped>\n",
       "    .dataframe tbody tr th:only-of-type {\n",
       "        vertical-align: middle;\n",
       "    }\n",
       "\n",
       "    .dataframe tbody tr th {\n",
       "        vertical-align: top;\n",
       "    }\n",
       "\n",
       "    .dataframe thead th {\n",
       "        text-align: right;\n",
       "    }\n",
       "</style>\n",
       "<table border=\"1\" class=\"dataframe\">\n",
       "  <thead>\n",
       "    <tr style=\"text-align: right;\">\n",
       "      <th></th>\n",
       "      <th>tweet_id</th>\n",
       "      <th>in_reply_to_status_id</th>\n",
       "      <th>in_reply_to_user_id</th>\n",
       "      <th>timestamp</th>\n",
       "      <th>source</th>\n",
       "      <th>text</th>\n",
       "      <th>retweeted_status_id</th>\n",
       "      <th>retweeted_status_user_id</th>\n",
       "      <th>retweeted_status_timestamp</th>\n",
       "      <th>expanded_urls</th>\n",
       "      <th>rating_numerator</th>\n",
       "      <th>rating_denominator</th>\n",
       "      <th>name</th>\n",
       "      <th>doggo</th>\n",
       "      <th>floofer</th>\n",
       "      <th>pupper</th>\n",
       "      <th>puppo</th>\n",
       "    </tr>\n",
       "  </thead>\n",
       "  <tbody>\n",
       "    <tr>\n",
       "      <th>0</th>\n",
       "      <td>892420643555336193</td>\n",
       "      <td>NaN</td>\n",
       "      <td>NaN</td>\n",
       "      <td>2017-08-01 16:23:56 +0000</td>\n",
       "      <td>&lt;a href=\"http://twitter.com/download/iphone\" rel=\"nofollow\"&gt;Twitter for iPhone&lt;/a&gt;</td>\n",
       "      <td>This is Phineas. He's a mystical boy. Only ever appears in the hole of a donut. 13/10 https://t.co/MgUWQ76dJU</td>\n",
       "      <td>NaN</td>\n",
       "      <td>NaN</td>\n",
       "      <td>NaN</td>\n",
       "      <td>https://twitter.com/dog_rates/status/892420643555336193/photo/1</td>\n",
       "      <td>13</td>\n",
       "      <td>10</td>\n",
       "      <td>Phineas</td>\n",
       "      <td>None</td>\n",
       "      <td>None</td>\n",
       "      <td>None</td>\n",
       "      <td>None</td>\n",
       "    </tr>\n",
       "    <tr>\n",
       "      <th>1</th>\n",
       "      <td>892177421306343426</td>\n",
       "      <td>NaN</td>\n",
       "      <td>NaN</td>\n",
       "      <td>2017-08-01 00:17:27 +0000</td>\n",
       "      <td>&lt;a href=\"http://twitter.com/download/iphone\" rel=\"nofollow\"&gt;Twitter for iPhone&lt;/a&gt;</td>\n",
       "      <td>This is Tilly. She's just checking pup on you. Hopes you're doing ok. If not, she's available for pats, snugs, boops, the whole bit. 13/10 https://t.co/0Xxu71qeIV</td>\n",
       "      <td>NaN</td>\n",
       "      <td>NaN</td>\n",
       "      <td>NaN</td>\n",
       "      <td>https://twitter.com/dog_rates/status/892177421306343426/photo/1</td>\n",
       "      <td>13</td>\n",
       "      <td>10</td>\n",
       "      <td>Tilly</td>\n",
       "      <td>None</td>\n",
       "      <td>None</td>\n",
       "      <td>None</td>\n",
       "      <td>None</td>\n",
       "    </tr>\n",
       "    <tr>\n",
       "      <th>2</th>\n",
       "      <td>891815181378084864</td>\n",
       "      <td>NaN</td>\n",
       "      <td>NaN</td>\n",
       "      <td>2017-07-31 00:18:03 +0000</td>\n",
       "      <td>&lt;a href=\"http://twitter.com/download/iphone\" rel=\"nofollow\"&gt;Twitter for iPhone&lt;/a&gt;</td>\n",
       "      <td>This is Archie. He is a rare Norwegian Pouncing Corgo. Lives in the tall grass. You never know when one may strike. 12/10 https://t.co/wUnZnhtVJB</td>\n",
       "      <td>NaN</td>\n",
       "      <td>NaN</td>\n",
       "      <td>NaN</td>\n",
       "      <td>https://twitter.com/dog_rates/status/891815181378084864/photo/1</td>\n",
       "      <td>12</td>\n",
       "      <td>10</td>\n",
       "      <td>Archie</td>\n",
       "      <td>None</td>\n",
       "      <td>None</td>\n",
       "      <td>None</td>\n",
       "      <td>None</td>\n",
       "    </tr>\n",
       "    <tr>\n",
       "      <th>3</th>\n",
       "      <td>891689557279858688</td>\n",
       "      <td>NaN</td>\n",
       "      <td>NaN</td>\n",
       "      <td>2017-07-30 15:58:51 +0000</td>\n",
       "      <td>&lt;a href=\"http://twitter.com/download/iphone\" rel=\"nofollow\"&gt;Twitter for iPhone&lt;/a&gt;</td>\n",
       "      <td>This is Darla. She commenced a snooze mid meal. 13/10 happens to the best of us https://t.co/tD36da7qLQ</td>\n",
       "      <td>NaN</td>\n",
       "      <td>NaN</td>\n",
       "      <td>NaN</td>\n",
       "      <td>https://twitter.com/dog_rates/status/891689557279858688/photo/1</td>\n",
       "      <td>13</td>\n",
       "      <td>10</td>\n",
       "      <td>Darla</td>\n",
       "      <td>None</td>\n",
       "      <td>None</td>\n",
       "      <td>None</td>\n",
       "      <td>None</td>\n",
       "    </tr>\n",
       "    <tr>\n",
       "      <th>4</th>\n",
       "      <td>891327558926688256</td>\n",
       "      <td>NaN</td>\n",
       "      <td>NaN</td>\n",
       "      <td>2017-07-29 16:00:24 +0000</td>\n",
       "      <td>&lt;a href=\"http://twitter.com/download/iphone\" rel=\"nofollow\"&gt;Twitter for iPhone&lt;/a&gt;</td>\n",
       "      <td>This is Franklin. He would like you to stop calling him \"cute.\" He is a very fierce shark and should be respected as such. 12/10 #BarkWeek https://t.co/AtUZn91f7f</td>\n",
       "      <td>NaN</td>\n",
       "      <td>NaN</td>\n",
       "      <td>NaN</td>\n",
       "      <td>https://twitter.com/dog_rates/status/891327558926688256/photo/1,https://twitter.com/dog_rates/status/891327558926688256/photo/1</td>\n",
       "      <td>12</td>\n",
       "      <td>10</td>\n",
       "      <td>Franklin</td>\n",
       "      <td>None</td>\n",
       "      <td>None</td>\n",
       "      <td>None</td>\n",
       "      <td>None</td>\n",
       "    </tr>\n",
       "  </tbody>\n",
       "</table>\n",
       "</div>"
      ],
      "text/plain": [
       "             tweet_id  in_reply_to_status_id  in_reply_to_user_id  \\\n",
       "0  892420643555336193 NaN                    NaN                    \n",
       "1  892177421306343426 NaN                    NaN                    \n",
       "2  891815181378084864 NaN                    NaN                    \n",
       "3  891689557279858688 NaN                    NaN                    \n",
       "4  891327558926688256 NaN                    NaN                    \n",
       "\n",
       "                   timestamp  \\\n",
       "0  2017-08-01 16:23:56 +0000   \n",
       "1  2017-08-01 00:17:27 +0000   \n",
       "2  2017-07-31 00:18:03 +0000   \n",
       "3  2017-07-30 15:58:51 +0000   \n",
       "4  2017-07-29 16:00:24 +0000   \n",
       "\n",
       "                                                                               source  \\\n",
       "0  <a href=\"http://twitter.com/download/iphone\" rel=\"nofollow\">Twitter for iPhone</a>   \n",
       "1  <a href=\"http://twitter.com/download/iphone\" rel=\"nofollow\">Twitter for iPhone</a>   \n",
       "2  <a href=\"http://twitter.com/download/iphone\" rel=\"nofollow\">Twitter for iPhone</a>   \n",
       "3  <a href=\"http://twitter.com/download/iphone\" rel=\"nofollow\">Twitter for iPhone</a>   \n",
       "4  <a href=\"http://twitter.com/download/iphone\" rel=\"nofollow\">Twitter for iPhone</a>   \n",
       "\n",
       "                                                                                                                                                                 text  \\\n",
       "0  This is Phineas. He's a mystical boy. Only ever appears in the hole of a donut. 13/10 https://t.co/MgUWQ76dJU                                                        \n",
       "1  This is Tilly. She's just checking pup on you. Hopes you're doing ok. If not, she's available for pats, snugs, boops, the whole bit. 13/10 https://t.co/0Xxu71qeIV   \n",
       "2  This is Archie. He is a rare Norwegian Pouncing Corgo. Lives in the tall grass. You never know when one may strike. 12/10 https://t.co/wUnZnhtVJB                    \n",
       "3  This is Darla. She commenced a snooze mid meal. 13/10 happens to the best of us https://t.co/tD36da7qLQ                                                              \n",
       "4  This is Franklin. He would like you to stop calling him \"cute.\" He is a very fierce shark and should be respected as such. 12/10 #BarkWeek https://t.co/AtUZn91f7f   \n",
       "\n",
       "   retweeted_status_id  retweeted_status_user_id retweeted_status_timestamp  \\\n",
       "0 NaN                  NaN                        NaN                         \n",
       "1 NaN                  NaN                        NaN                         \n",
       "2 NaN                  NaN                        NaN                         \n",
       "3 NaN                  NaN                        NaN                         \n",
       "4 NaN                  NaN                        NaN                         \n",
       "\n",
       "                                                                                                                     expanded_urls  \\\n",
       "0  https://twitter.com/dog_rates/status/892420643555336193/photo/1                                                                   \n",
       "1  https://twitter.com/dog_rates/status/892177421306343426/photo/1                                                                   \n",
       "2  https://twitter.com/dog_rates/status/891815181378084864/photo/1                                                                   \n",
       "3  https://twitter.com/dog_rates/status/891689557279858688/photo/1                                                                   \n",
       "4  https://twitter.com/dog_rates/status/891327558926688256/photo/1,https://twitter.com/dog_rates/status/891327558926688256/photo/1   \n",
       "\n",
       "   rating_numerator  rating_denominator      name doggo floofer pupper puppo  \n",
       "0  13                10                  Phineas   None  None    None   None  \n",
       "1  13                10                  Tilly     None  None    None   None  \n",
       "2  12                10                  Archie    None  None    None   None  \n",
       "3  13                10                  Darla     None  None    None   None  \n",
       "4  12                10                  Franklin  None  None    None   None  "
      ]
     },
     "execution_count": 1,
     "metadata": {},
     "output_type": "execute_result"
    }
   ],
   "source": [
    "import pandas as pd\n",
    "pd.set_option('display.max_rows', None)\n",
    "pd.set_option('display.max_columns', None)\n",
    "pd.set_option('display.width', None)\n",
    "pd.set_option('display.max_colwidth', -1)\n",
    "twitter_archive = pd.read_csv('twitter-archive-enhanced.csv')\n",
    "twitter_archive.head()"
   ]
  },
  {
   "cell_type": "markdown",
   "metadata": {},
   "source": [
    "2. Use the Requests library to download the tweet image prediction (image_predictions.tsv)"
   ]
  },
  {
   "cell_type": "code",
   "execution_count": 2,
   "metadata": {},
   "outputs": [
    {
     "data": {
      "text/html": [
       "<div>\n",
       "<style scoped>\n",
       "    .dataframe tbody tr th:only-of-type {\n",
       "        vertical-align: middle;\n",
       "    }\n",
       "\n",
       "    .dataframe tbody tr th {\n",
       "        vertical-align: top;\n",
       "    }\n",
       "\n",
       "    .dataframe thead th {\n",
       "        text-align: right;\n",
       "    }\n",
       "</style>\n",
       "<table border=\"1\" class=\"dataframe\">\n",
       "  <thead>\n",
       "    <tr style=\"text-align: right;\">\n",
       "      <th></th>\n",
       "      <th>tweet_id</th>\n",
       "      <th>jpg_url</th>\n",
       "      <th>img_num</th>\n",
       "      <th>p1</th>\n",
       "      <th>p1_conf</th>\n",
       "      <th>p1_dog</th>\n",
       "      <th>p2</th>\n",
       "      <th>p2_conf</th>\n",
       "      <th>p2_dog</th>\n",
       "      <th>p3</th>\n",
       "      <th>p3_conf</th>\n",
       "      <th>p3_dog</th>\n",
       "    </tr>\n",
       "  </thead>\n",
       "  <tbody>\n",
       "    <tr>\n",
       "      <th>0</th>\n",
       "      <td>666020888022790149</td>\n",
       "      <td>https://pbs.twimg.com/media/CT4udn0WwAA0aMy.jpg</td>\n",
       "      <td>1</td>\n",
       "      <td>Welsh_springer_spaniel</td>\n",
       "      <td>0.465074</td>\n",
       "      <td>True</td>\n",
       "      <td>collie</td>\n",
       "      <td>0.156665</td>\n",
       "      <td>True</td>\n",
       "      <td>Shetland_sheepdog</td>\n",
       "      <td>0.061428</td>\n",
       "      <td>True</td>\n",
       "    </tr>\n",
       "    <tr>\n",
       "      <th>1</th>\n",
       "      <td>666029285002620928</td>\n",
       "      <td>https://pbs.twimg.com/media/CT42GRgUYAA5iDo.jpg</td>\n",
       "      <td>1</td>\n",
       "      <td>redbone</td>\n",
       "      <td>0.506826</td>\n",
       "      <td>True</td>\n",
       "      <td>miniature_pinscher</td>\n",
       "      <td>0.074192</td>\n",
       "      <td>True</td>\n",
       "      <td>Rhodesian_ridgeback</td>\n",
       "      <td>0.072010</td>\n",
       "      <td>True</td>\n",
       "    </tr>\n",
       "    <tr>\n",
       "      <th>2</th>\n",
       "      <td>666033412701032449</td>\n",
       "      <td>https://pbs.twimg.com/media/CT4521TWwAEvMyu.jpg</td>\n",
       "      <td>1</td>\n",
       "      <td>German_shepherd</td>\n",
       "      <td>0.596461</td>\n",
       "      <td>True</td>\n",
       "      <td>malinois</td>\n",
       "      <td>0.138584</td>\n",
       "      <td>True</td>\n",
       "      <td>bloodhound</td>\n",
       "      <td>0.116197</td>\n",
       "      <td>True</td>\n",
       "    </tr>\n",
       "    <tr>\n",
       "      <th>3</th>\n",
       "      <td>666044226329800704</td>\n",
       "      <td>https://pbs.twimg.com/media/CT5Dr8HUEAA-lEu.jpg</td>\n",
       "      <td>1</td>\n",
       "      <td>Rhodesian_ridgeback</td>\n",
       "      <td>0.408143</td>\n",
       "      <td>True</td>\n",
       "      <td>redbone</td>\n",
       "      <td>0.360687</td>\n",
       "      <td>True</td>\n",
       "      <td>miniature_pinscher</td>\n",
       "      <td>0.222752</td>\n",
       "      <td>True</td>\n",
       "    </tr>\n",
       "    <tr>\n",
       "      <th>4</th>\n",
       "      <td>666049248165822465</td>\n",
       "      <td>https://pbs.twimg.com/media/CT5IQmsXIAAKY4A.jpg</td>\n",
       "      <td>1</td>\n",
       "      <td>miniature_pinscher</td>\n",
       "      <td>0.560311</td>\n",
       "      <td>True</td>\n",
       "      <td>Rottweiler</td>\n",
       "      <td>0.243682</td>\n",
       "      <td>True</td>\n",
       "      <td>Doberman</td>\n",
       "      <td>0.154629</td>\n",
       "      <td>True</td>\n",
       "    </tr>\n",
       "  </tbody>\n",
       "</table>\n",
       "</div>"
      ],
      "text/plain": [
       "             tweet_id                                          jpg_url  \\\n",
       "0  666020888022790149  https://pbs.twimg.com/media/CT4udn0WwAA0aMy.jpg   \n",
       "1  666029285002620928  https://pbs.twimg.com/media/CT42GRgUYAA5iDo.jpg   \n",
       "2  666033412701032449  https://pbs.twimg.com/media/CT4521TWwAEvMyu.jpg   \n",
       "3  666044226329800704  https://pbs.twimg.com/media/CT5Dr8HUEAA-lEu.jpg   \n",
       "4  666049248165822465  https://pbs.twimg.com/media/CT5IQmsXIAAKY4A.jpg   \n",
       "\n",
       "   img_num                      p1   p1_conf  p1_dog                  p2  \\\n",
       "0  1        Welsh_springer_spaniel  0.465074  True    collie               \n",
       "1  1        redbone                 0.506826  True    miniature_pinscher   \n",
       "2  1        German_shepherd         0.596461  True    malinois             \n",
       "3  1        Rhodesian_ridgeback     0.408143  True    redbone              \n",
       "4  1        miniature_pinscher      0.560311  True    Rottweiler           \n",
       "\n",
       "    p2_conf  p2_dog                   p3   p3_conf  p3_dog  \n",
       "0  0.156665  True    Shetland_sheepdog    0.061428  True    \n",
       "1  0.074192  True    Rhodesian_ridgeback  0.072010  True    \n",
       "2  0.138584  True    bloodhound           0.116197  True    \n",
       "3  0.360687  True    miniature_pinscher   0.222752  True    \n",
       "4  0.243682  True    Doberman             0.154629  True    "
      ]
     },
     "execution_count": 2,
     "metadata": {},
     "output_type": "execute_result"
    }
   ],
   "source": [
    "# download image_predictions.tsv based on the url\n",
    "import requests\n",
    "url = 'https://d17h27t6h515a5.cloudfront.net/topher/2017/August/599fd2ad_image-predictions/image-predictions.tsv'\n",
    "response = requests.get(url)\n",
    "with open('image_predictions.tsv', mode = 'wb') as file:\n",
    "    file.write(response.content)\n",
    "\n",
    "# store values in a dataframe\n",
    "df_image = pd.read_csv('image_predictions.tsv', sep = '\\t')\n",
    "df_image.head()"
   ]
  },
  {
   "cell_type": "markdown",
   "metadata": {},
   "source": [
    "3. Use the Tweepy library to query additional data via the Twitter API (tweet_json.txt)"
   ]
  },
  {
   "cell_type": "code",
   "execution_count": 3,
   "metadata": {},
   "outputs": [],
   "source": [
    "# import tweepy\n",
    "# auth = tweepy.OAuthHandler(CONSUMER_KEY, CONSUMER_SECRET)\n",
    "# auth.set_access_token(OAUTH_TOKEN, OAUTH_TOKEN_SECRET)\n",
    "# api = tweepy.API(auth)\n"
   ]
  },
  {
   "cell_type": "code",
   "execution_count": 4,
   "metadata": {},
   "outputs": [],
   "source": [
    "# import os\n",
    "# print('total tweets: {}'.format(len(df_image['tweet_id'])))\n",
    "# counter = 1\n",
    "# with open('tweet_json.txt', 'a', encoding='utf-8') as file:\n",
    "#     for tweet_id in df_image['tweet_id']:\n",
    "#         try:\n",
    "#             tweet = api.get_status(tweet_id,tweet_mode='extended')\n",
    "#             json.dump(tweet._json, file)\n",
    "#             file.write('\\n')\n",
    "            \n",
    "#             counter += 1\n",
    "#             if counter % 100 == 0:\n",
    "#                 print(\"{} / {}\".format(counter, len(df_image['tweet_id'])))\n",
    "#         except:\n",
    "#             os.sys.exc_info()[0]"
   ]
  },
  {
   "cell_type": "code",
   "execution_count": 5,
   "metadata": {},
   "outputs": [
    {
     "data": {
      "text/html": [
       "<div>\n",
       "<style scoped>\n",
       "    .dataframe tbody tr th:only-of-type {\n",
       "        vertical-align: middle;\n",
       "    }\n",
       "\n",
       "    .dataframe tbody tr th {\n",
       "        vertical-align: top;\n",
       "    }\n",
       "\n",
       "    .dataframe thead th {\n",
       "        text-align: right;\n",
       "    }\n",
       "</style>\n",
       "<table border=\"1\" class=\"dataframe\">\n",
       "  <thead>\n",
       "    <tr style=\"text-align: right;\">\n",
       "      <th></th>\n",
       "      <th>id</th>\n",
       "      <th>favorite_count</th>\n",
       "      <th>retweet_count</th>\n",
       "    </tr>\n",
       "  </thead>\n",
       "  <tbody>\n",
       "    <tr>\n",
       "      <th>0</th>\n",
       "      <td>666020888022790149</td>\n",
       "      <td>2319</td>\n",
       "      <td>435</td>\n",
       "    </tr>\n",
       "    <tr>\n",
       "      <th>1</th>\n",
       "      <td>666029285002620928</td>\n",
       "      <td>114</td>\n",
       "      <td>40</td>\n",
       "    </tr>\n",
       "    <tr>\n",
       "      <th>2</th>\n",
       "      <td>666033412701032449</td>\n",
       "      <td>102</td>\n",
       "      <td>37</td>\n",
       "    </tr>\n",
       "    <tr>\n",
       "      <th>3</th>\n",
       "      <td>666044226329800704</td>\n",
       "      <td>251</td>\n",
       "      <td>118</td>\n",
       "    </tr>\n",
       "    <tr>\n",
       "      <th>4</th>\n",
       "      <td>666049248165822465</td>\n",
       "      <td>91</td>\n",
       "      <td>37</td>\n",
       "    </tr>\n",
       "  </tbody>\n",
       "</table>\n",
       "</div>"
      ],
      "text/plain": [
       "                   id  favorite_count  retweet_count\n",
       "0  666020888022790149  2319            435          \n",
       "1  666029285002620928  114             40           \n",
       "2  666033412701032449  102             37           \n",
       "3  666044226329800704  251             118          \n",
       "4  666049248165822465  91              37           "
      ]
     },
     "execution_count": 5,
     "metadata": {},
     "output_type": "execute_result"
    }
   ],
   "source": [
    "# Parsing 'id','favorite_count' and 'reweet_count' from tweet_json.txt\n",
    "import json\n",
    "df_list = []\n",
    "with open('tweet_json.txt','r', encoding = 'utf-8') as file:\n",
    "    tweet = file.readline()\n",
    "    while tweet:\n",
    "        tweet = json.loads(tweet)\n",
    "        id = tweet['id']\n",
    "        favorite_count = tweet['favorite_count']\n",
    "        retweet_count = tweet['retweet_count']\n",
    "        df_list.append({'id': id,\n",
    "                        'favorite_count': int(favorite_count),\n",
    "                        'retweet_count': int(retweet_count)})\n",
    "        tweet = file.readline()\n",
    "\n",
    "# create dataframe and store data into it\n",
    "df_data = pd.DataFrame(df_list, columns = ['id','favorite_count','retweet_count'])\n",
    "df_data.head()"
   ]
  },
  {
   "cell_type": "markdown",
   "metadata": {
    "extensions": {
     "jupyter_dashboards": {
      "version": 1,
      "views": {
       "grid_default": {
        "col": 4,
        "height": 4,
        "hidden": false,
        "row": 28,
        "width": 4
       },
       "report_default": {
        "hidden": false
       }
      }
     }
    }
   },
   "source": [
    "## Assessing Data\n",
    "In this section, detect and document at least **eight (8) quality issues and two (2) tidiness issue**. You must use **both** visual assessment\n",
    "programmatic assessement to assess the data.\n",
    "\n",
    "**Note:** pay attention to the following key points when you access the data.\n",
    "\n",
    "* You only want original ratings (no retweets) that have images. Though there are 5000+ tweets in the dataset, not all are dog ratings and some are retweets.\n",
    "* Assessing and cleaning the entire dataset completely would require a lot of time, and is not necessary to practice and demonstrate your skills in data wrangling. Therefore, the requirements of this project are only to assess and clean at least 8 quality issues and at least 2 tidiness issues in this dataset.\n",
    "* The fact that the rating numerators are greater than the denominators does not need to be cleaned. This [unique rating system](http://knowyourmeme.com/memes/theyre-good-dogs-brent) is a big part of the popularity of WeRateDogs.\n",
    "* You do not need to gather the tweets beyond August 1st, 2017. You can, but note that you won't be able to gather the image predictions for these tweets since you don't have access to the algorithm used.\n",
    "\n"
   ]
  },
  {
   "cell_type": "markdown",
   "metadata": {},
   "source": [
    "### twitter_archive"
   ]
  },
  {
   "cell_type": "code",
   "execution_count": 6,
   "metadata": {
    "scrolled": true
   },
   "outputs": [
    {
     "name": "stdout",
     "output_type": "stream",
     "text": [
      "<class 'pandas.core.frame.DataFrame'>\n",
      "RangeIndex: 2356 entries, 0 to 2355\n",
      "Data columns (total 17 columns):\n",
      " #   Column                      Non-Null Count  Dtype  \n",
      "---  ------                      --------------  -----  \n",
      " 0   tweet_id                    2356 non-null   int64  \n",
      " 1   in_reply_to_status_id       78 non-null     float64\n",
      " 2   in_reply_to_user_id         78 non-null     float64\n",
      " 3   timestamp                   2356 non-null   object \n",
      " 4   source                      2356 non-null   object \n",
      " 5   text                        2356 non-null   object \n",
      " 6   retweeted_status_id         181 non-null    float64\n",
      " 7   retweeted_status_user_id    181 non-null    float64\n",
      " 8   retweeted_status_timestamp  181 non-null    object \n",
      " 9   expanded_urls               2297 non-null   object \n",
      " 10  rating_numerator            2356 non-null   int64  \n",
      " 11  rating_denominator          2356 non-null   int64  \n",
      " 12  name                        2356 non-null   object \n",
      " 13  doggo                       2356 non-null   object \n",
      " 14  floofer                     2356 non-null   object \n",
      " 15  pupper                      2356 non-null   object \n",
      " 16  puppo                       2356 non-null   object \n",
      "dtypes: float64(4), int64(3), object(10)\n",
      "memory usage: 313.0+ KB\n"
     ]
    }
   ],
   "source": [
    "twitter_archive.info()"
   ]
  },
  {
   "cell_type": "markdown",
   "metadata": {},
   "source": [
    "### Notes:\n",
    "1. Type of 'timestamp' should be datetime rather object(string)\n",
    "2. Type of 'tweet_id'should be string rather int."
   ]
  },
  {
   "cell_type": "code",
   "execution_count": 7,
   "metadata": {
    "scrolled": true
   },
   "outputs": [
    {
     "data": {
      "text/html": [
       "<div>\n",
       "<style scoped>\n",
       "    .dataframe tbody tr th:only-of-type {\n",
       "        vertical-align: middle;\n",
       "    }\n",
       "\n",
       "    .dataframe tbody tr th {\n",
       "        vertical-align: top;\n",
       "    }\n",
       "\n",
       "    .dataframe thead th {\n",
       "        text-align: right;\n",
       "    }\n",
       "</style>\n",
       "<table border=\"1\" class=\"dataframe\">\n",
       "  <thead>\n",
       "    <tr style=\"text-align: right;\">\n",
       "      <th></th>\n",
       "      <th>tweet_id</th>\n",
       "      <th>in_reply_to_status_id</th>\n",
       "      <th>in_reply_to_user_id</th>\n",
       "      <th>timestamp</th>\n",
       "      <th>source</th>\n",
       "      <th>text</th>\n",
       "      <th>retweeted_status_id</th>\n",
       "      <th>retweeted_status_user_id</th>\n",
       "      <th>retweeted_status_timestamp</th>\n",
       "      <th>expanded_urls</th>\n",
       "      <th>rating_numerator</th>\n",
       "      <th>rating_denominator</th>\n",
       "      <th>name</th>\n",
       "      <th>doggo</th>\n",
       "      <th>floofer</th>\n",
       "      <th>pupper</th>\n",
       "      <th>puppo</th>\n",
       "    </tr>\n",
       "  </thead>\n",
       "  <tbody>\n",
       "    <tr>\n",
       "      <th>0</th>\n",
       "      <td>892420643555336193</td>\n",
       "      <td>NaN</td>\n",
       "      <td>NaN</td>\n",
       "      <td>2017-08-01 16:23:56 +0000</td>\n",
       "      <td>&lt;a href=\"http://twitter.com/download/iphone\" rel=\"nofollow\"&gt;Twitter for iPhone&lt;/a&gt;</td>\n",
       "      <td>This is Phineas. He's a mystical boy. Only ever appears in the hole of a donut. 13/10 https://t.co/MgUWQ76dJU</td>\n",
       "      <td>NaN</td>\n",
       "      <td>NaN</td>\n",
       "      <td>NaN</td>\n",
       "      <td>https://twitter.com/dog_rates/status/892420643555336193/photo/1</td>\n",
       "      <td>13</td>\n",
       "      <td>10</td>\n",
       "      <td>Phineas</td>\n",
       "      <td>None</td>\n",
       "      <td>None</td>\n",
       "      <td>None</td>\n",
       "      <td>None</td>\n",
       "    </tr>\n",
       "    <tr>\n",
       "      <th>1</th>\n",
       "      <td>892177421306343426</td>\n",
       "      <td>NaN</td>\n",
       "      <td>NaN</td>\n",
       "      <td>2017-08-01 00:17:27 +0000</td>\n",
       "      <td>&lt;a href=\"http://twitter.com/download/iphone\" rel=\"nofollow\"&gt;Twitter for iPhone&lt;/a&gt;</td>\n",
       "      <td>This is Tilly. She's just checking pup on you. Hopes you're doing ok. If not, she's available for pats, snugs, boops, the whole bit. 13/10 https://t.co/0Xxu71qeIV</td>\n",
       "      <td>NaN</td>\n",
       "      <td>NaN</td>\n",
       "      <td>NaN</td>\n",
       "      <td>https://twitter.com/dog_rates/status/892177421306343426/photo/1</td>\n",
       "      <td>13</td>\n",
       "      <td>10</td>\n",
       "      <td>Tilly</td>\n",
       "      <td>None</td>\n",
       "      <td>None</td>\n",
       "      <td>None</td>\n",
       "      <td>None</td>\n",
       "    </tr>\n",
       "    <tr>\n",
       "      <th>2</th>\n",
       "      <td>891815181378084864</td>\n",
       "      <td>NaN</td>\n",
       "      <td>NaN</td>\n",
       "      <td>2017-07-31 00:18:03 +0000</td>\n",
       "      <td>&lt;a href=\"http://twitter.com/download/iphone\" rel=\"nofollow\"&gt;Twitter for iPhone&lt;/a&gt;</td>\n",
       "      <td>This is Archie. He is a rare Norwegian Pouncing Corgo. Lives in the tall grass. You never know when one may strike. 12/10 https://t.co/wUnZnhtVJB</td>\n",
       "      <td>NaN</td>\n",
       "      <td>NaN</td>\n",
       "      <td>NaN</td>\n",
       "      <td>https://twitter.com/dog_rates/status/891815181378084864/photo/1</td>\n",
       "      <td>12</td>\n",
       "      <td>10</td>\n",
       "      <td>Archie</td>\n",
       "      <td>None</td>\n",
       "      <td>None</td>\n",
       "      <td>None</td>\n",
       "      <td>None</td>\n",
       "    </tr>\n",
       "    <tr>\n",
       "      <th>3</th>\n",
       "      <td>891689557279858688</td>\n",
       "      <td>NaN</td>\n",
       "      <td>NaN</td>\n",
       "      <td>2017-07-30 15:58:51 +0000</td>\n",
       "      <td>&lt;a href=\"http://twitter.com/download/iphone\" rel=\"nofollow\"&gt;Twitter for iPhone&lt;/a&gt;</td>\n",
       "      <td>This is Darla. She commenced a snooze mid meal. 13/10 happens to the best of us https://t.co/tD36da7qLQ</td>\n",
       "      <td>NaN</td>\n",
       "      <td>NaN</td>\n",
       "      <td>NaN</td>\n",
       "      <td>https://twitter.com/dog_rates/status/891689557279858688/photo/1</td>\n",
       "      <td>13</td>\n",
       "      <td>10</td>\n",
       "      <td>Darla</td>\n",
       "      <td>None</td>\n",
       "      <td>None</td>\n",
       "      <td>None</td>\n",
       "      <td>None</td>\n",
       "    </tr>\n",
       "    <tr>\n",
       "      <th>4</th>\n",
       "      <td>891327558926688256</td>\n",
       "      <td>NaN</td>\n",
       "      <td>NaN</td>\n",
       "      <td>2017-07-29 16:00:24 +0000</td>\n",
       "      <td>&lt;a href=\"http://twitter.com/download/iphone\" rel=\"nofollow\"&gt;Twitter for iPhone&lt;/a&gt;</td>\n",
       "      <td>This is Franklin. He would like you to stop calling him \"cute.\" He is a very fierce shark and should be respected as such. 12/10 #BarkWeek https://t.co/AtUZn91f7f</td>\n",
       "      <td>NaN</td>\n",
       "      <td>NaN</td>\n",
       "      <td>NaN</td>\n",
       "      <td>https://twitter.com/dog_rates/status/891327558926688256/photo/1,https://twitter.com/dog_rates/status/891327558926688256/photo/1</td>\n",
       "      <td>12</td>\n",
       "      <td>10</td>\n",
       "      <td>Franklin</td>\n",
       "      <td>None</td>\n",
       "      <td>None</td>\n",
       "      <td>None</td>\n",
       "      <td>None</td>\n",
       "    </tr>\n",
       "  </tbody>\n",
       "</table>\n",
       "</div>"
      ],
      "text/plain": [
       "             tweet_id  in_reply_to_status_id  in_reply_to_user_id  \\\n",
       "0  892420643555336193 NaN                    NaN                    \n",
       "1  892177421306343426 NaN                    NaN                    \n",
       "2  891815181378084864 NaN                    NaN                    \n",
       "3  891689557279858688 NaN                    NaN                    \n",
       "4  891327558926688256 NaN                    NaN                    \n",
       "\n",
       "                   timestamp  \\\n",
       "0  2017-08-01 16:23:56 +0000   \n",
       "1  2017-08-01 00:17:27 +0000   \n",
       "2  2017-07-31 00:18:03 +0000   \n",
       "3  2017-07-30 15:58:51 +0000   \n",
       "4  2017-07-29 16:00:24 +0000   \n",
       "\n",
       "                                                                               source  \\\n",
       "0  <a href=\"http://twitter.com/download/iphone\" rel=\"nofollow\">Twitter for iPhone</a>   \n",
       "1  <a href=\"http://twitter.com/download/iphone\" rel=\"nofollow\">Twitter for iPhone</a>   \n",
       "2  <a href=\"http://twitter.com/download/iphone\" rel=\"nofollow\">Twitter for iPhone</a>   \n",
       "3  <a href=\"http://twitter.com/download/iphone\" rel=\"nofollow\">Twitter for iPhone</a>   \n",
       "4  <a href=\"http://twitter.com/download/iphone\" rel=\"nofollow\">Twitter for iPhone</a>   \n",
       "\n",
       "                                                                                                                                                                 text  \\\n",
       "0  This is Phineas. He's a mystical boy. Only ever appears in the hole of a donut. 13/10 https://t.co/MgUWQ76dJU                                                        \n",
       "1  This is Tilly. She's just checking pup on you. Hopes you're doing ok. If not, she's available for pats, snugs, boops, the whole bit. 13/10 https://t.co/0Xxu71qeIV   \n",
       "2  This is Archie. He is a rare Norwegian Pouncing Corgo. Lives in the tall grass. You never know when one may strike. 12/10 https://t.co/wUnZnhtVJB                    \n",
       "3  This is Darla. She commenced a snooze mid meal. 13/10 happens to the best of us https://t.co/tD36da7qLQ                                                              \n",
       "4  This is Franklin. He would like you to stop calling him \"cute.\" He is a very fierce shark and should be respected as such. 12/10 #BarkWeek https://t.co/AtUZn91f7f   \n",
       "\n",
       "   retweeted_status_id  retweeted_status_user_id retweeted_status_timestamp  \\\n",
       "0 NaN                  NaN                        NaN                         \n",
       "1 NaN                  NaN                        NaN                         \n",
       "2 NaN                  NaN                        NaN                         \n",
       "3 NaN                  NaN                        NaN                         \n",
       "4 NaN                  NaN                        NaN                         \n",
       "\n",
       "                                                                                                                     expanded_urls  \\\n",
       "0  https://twitter.com/dog_rates/status/892420643555336193/photo/1                                                                   \n",
       "1  https://twitter.com/dog_rates/status/892177421306343426/photo/1                                                                   \n",
       "2  https://twitter.com/dog_rates/status/891815181378084864/photo/1                                                                   \n",
       "3  https://twitter.com/dog_rates/status/891689557279858688/photo/1                                                                   \n",
       "4  https://twitter.com/dog_rates/status/891327558926688256/photo/1,https://twitter.com/dog_rates/status/891327558926688256/photo/1   \n",
       "\n",
       "   rating_numerator  rating_denominator      name doggo floofer pupper puppo  \n",
       "0  13                10                  Phineas   None  None    None   None  \n",
       "1  13                10                  Tilly     None  None    None   None  \n",
       "2  12                10                  Archie    None  None    None   None  \n",
       "3  13                10                  Darla     None  None    None   None  \n",
       "4  12                10                  Franklin  None  None    None   None  "
      ]
     },
     "execution_count": 7,
     "metadata": {},
     "output_type": "execute_result"
    }
   ],
   "source": [
    "twitter_archive.head()"
   ]
  },
  {
   "cell_type": "code",
   "execution_count": 8,
   "metadata": {},
   "outputs": [
    {
     "name": "stdout",
     "output_type": "stream",
     "text": [
      "There are 78 reply tweets\n"
     ]
    }
   ],
   "source": [
    "reply_tweet = len(twitter_archive.query('in_reply_to_status_id.notnull()', engine = 'python'))\n",
    "print('There are {} reply tweets'.format(reply_tweet))"
   ]
  },
  {
   "cell_type": "code",
   "execution_count": 9,
   "metadata": {},
   "outputs": [
    {
     "name": "stdout",
     "output_type": "stream",
     "text": [
      "There are 181 retweets\n"
     ]
    }
   ],
   "source": [
    "retweet = len(twitter_archive.query('retweeted_status_id.notnull()', engine = 'python'))\n",
    "print('There are {} retweets'.format(retweet))"
   ]
  },
  {
   "cell_type": "markdown",
   "metadata": {},
   "source": [
    "### Notes:\n",
    "1. Columns of '`in_reply_to_status_id`','`in_reply_to_user_id`', '`retweeted_status_id`', '`retweeted_status_user_id`' and '`retweeted_status_timestamp`' are not about originial tweets, so they shoule be dropped.\n",
    "2. 'source' column contain unnecessary html residues, only text part should be parsed.\n",
    "3. doggo, floofer, pupper, puppo all describe one property \"dog stage\" whcih violates tidiness rule, they should exist in one column.\n",
    "4. There are 78 reply tweets and 181 retweets which should be dropped."
   ]
  },
  {
   "cell_type": "code",
   "execution_count": 10,
   "metadata": {},
   "outputs": [
    {
     "data": {
      "text/html": [
       "<div>\n",
       "<style scoped>\n",
       "    .dataframe tbody tr th:only-of-type {\n",
       "        vertical-align: middle;\n",
       "    }\n",
       "\n",
       "    .dataframe tbody tr th {\n",
       "        vertical-align: top;\n",
       "    }\n",
       "\n",
       "    .dataframe thead th {\n",
       "        text-align: right;\n",
       "    }\n",
       "</style>\n",
       "<table border=\"1\" class=\"dataframe\">\n",
       "  <thead>\n",
       "    <tr style=\"text-align: right;\">\n",
       "      <th></th>\n",
       "      <th>tweet_id</th>\n",
       "      <th>in_reply_to_status_id</th>\n",
       "      <th>in_reply_to_user_id</th>\n",
       "      <th>timestamp</th>\n",
       "      <th>source</th>\n",
       "      <th>text</th>\n",
       "      <th>retweeted_status_id</th>\n",
       "      <th>retweeted_status_user_id</th>\n",
       "      <th>retweeted_status_timestamp</th>\n",
       "      <th>expanded_urls</th>\n",
       "      <th>rating_numerator</th>\n",
       "      <th>rating_denominator</th>\n",
       "      <th>name</th>\n",
       "      <th>doggo</th>\n",
       "      <th>floofer</th>\n",
       "      <th>pupper</th>\n",
       "      <th>puppo</th>\n",
       "    </tr>\n",
       "  </thead>\n",
       "  <tbody>\n",
       "    <tr>\n",
       "      <th>2346</th>\n",
       "      <td>666058600524156928</td>\n",
       "      <td>NaN</td>\n",
       "      <td>NaN</td>\n",
       "      <td>2015-11-16 01:01:59 +0000</td>\n",
       "      <td>&lt;a href=\"http://twitter.com/download/iphone\" rel=\"nofollow\"&gt;Twitter for iPhone&lt;/a&gt;</td>\n",
       "      <td>Here is the Rand Paul of retrievers folks! He's probably good at poker. Can drink beer (lol rad). 8/10 good dog https://t.co/pYAJkAe76p</td>\n",
       "      <td>NaN</td>\n",
       "      <td>NaN</td>\n",
       "      <td>NaN</td>\n",
       "      <td>https://twitter.com/dog_rates/status/666058600524156928/photo/1</td>\n",
       "      <td>8</td>\n",
       "      <td>10</td>\n",
       "      <td>the</td>\n",
       "      <td>None</td>\n",
       "      <td>None</td>\n",
       "      <td>None</td>\n",
       "      <td>None</td>\n",
       "    </tr>\n",
       "    <tr>\n",
       "      <th>2347</th>\n",
       "      <td>666057090499244032</td>\n",
       "      <td>NaN</td>\n",
       "      <td>NaN</td>\n",
       "      <td>2015-11-16 00:55:59 +0000</td>\n",
       "      <td>&lt;a href=\"http://twitter.com/download/iphone\" rel=\"nofollow\"&gt;Twitter for iPhone&lt;/a&gt;</td>\n",
       "      <td>My oh my. This is a rare blond Canadian terrier on wheels. Only $8.98. Rather docile. 9/10 very rare https://t.co/yWBqbrzy8O</td>\n",
       "      <td>NaN</td>\n",
       "      <td>NaN</td>\n",
       "      <td>NaN</td>\n",
       "      <td>https://twitter.com/dog_rates/status/666057090499244032/photo/1</td>\n",
       "      <td>9</td>\n",
       "      <td>10</td>\n",
       "      <td>a</td>\n",
       "      <td>None</td>\n",
       "      <td>None</td>\n",
       "      <td>None</td>\n",
       "      <td>None</td>\n",
       "    </tr>\n",
       "    <tr>\n",
       "      <th>2348</th>\n",
       "      <td>666055525042405380</td>\n",
       "      <td>NaN</td>\n",
       "      <td>NaN</td>\n",
       "      <td>2015-11-16 00:49:46 +0000</td>\n",
       "      <td>&lt;a href=\"http://twitter.com/download/iphone\" rel=\"nofollow\"&gt;Twitter for iPhone&lt;/a&gt;</td>\n",
       "      <td>Here is a Siberian heavily armored polar bear mix. Strong owner. 10/10 I would do unspeakable things to pet this dog https://t.co/rdivxLiqEt</td>\n",
       "      <td>NaN</td>\n",
       "      <td>NaN</td>\n",
       "      <td>NaN</td>\n",
       "      <td>https://twitter.com/dog_rates/status/666055525042405380/photo/1</td>\n",
       "      <td>10</td>\n",
       "      <td>10</td>\n",
       "      <td>a</td>\n",
       "      <td>None</td>\n",
       "      <td>None</td>\n",
       "      <td>None</td>\n",
       "      <td>None</td>\n",
       "    </tr>\n",
       "    <tr>\n",
       "      <th>2349</th>\n",
       "      <td>666051853826850816</td>\n",
       "      <td>NaN</td>\n",
       "      <td>NaN</td>\n",
       "      <td>2015-11-16 00:35:11 +0000</td>\n",
       "      <td>&lt;a href=\"http://twitter.com/download/iphone\" rel=\"nofollow\"&gt;Twitter for iPhone&lt;/a&gt;</td>\n",
       "      <td>This is an odd dog. Hard on the outside but loving on the inside. Petting still fun. Doesn't play catch well. 2/10 https://t.co/v5A4vzSDdc</td>\n",
       "      <td>NaN</td>\n",
       "      <td>NaN</td>\n",
       "      <td>NaN</td>\n",
       "      <td>https://twitter.com/dog_rates/status/666051853826850816/photo/1</td>\n",
       "      <td>2</td>\n",
       "      <td>10</td>\n",
       "      <td>an</td>\n",
       "      <td>None</td>\n",
       "      <td>None</td>\n",
       "      <td>None</td>\n",
       "      <td>None</td>\n",
       "    </tr>\n",
       "    <tr>\n",
       "      <th>2350</th>\n",
       "      <td>666050758794694657</td>\n",
       "      <td>NaN</td>\n",
       "      <td>NaN</td>\n",
       "      <td>2015-11-16 00:30:50 +0000</td>\n",
       "      <td>&lt;a href=\"http://twitter.com/download/iphone\" rel=\"nofollow\"&gt;Twitter for iPhone&lt;/a&gt;</td>\n",
       "      <td>This is a truly beautiful English Wilson Staff retriever. Has a nice phone. Privileged. 10/10 would trade lives with https://t.co/fvIbQfHjIe</td>\n",
       "      <td>NaN</td>\n",
       "      <td>NaN</td>\n",
       "      <td>NaN</td>\n",
       "      <td>https://twitter.com/dog_rates/status/666050758794694657/photo/1</td>\n",
       "      <td>10</td>\n",
       "      <td>10</td>\n",
       "      <td>a</td>\n",
       "      <td>None</td>\n",
       "      <td>None</td>\n",
       "      <td>None</td>\n",
       "      <td>None</td>\n",
       "    </tr>\n",
       "    <tr>\n",
       "      <th>2351</th>\n",
       "      <td>666049248165822465</td>\n",
       "      <td>NaN</td>\n",
       "      <td>NaN</td>\n",
       "      <td>2015-11-16 00:24:50 +0000</td>\n",
       "      <td>&lt;a href=\"http://twitter.com/download/iphone\" rel=\"nofollow\"&gt;Twitter for iPhone&lt;/a&gt;</td>\n",
       "      <td>Here we have a 1949 1st generation vulpix. Enjoys sweat tea and Fox News. Cannot be phased. 5/10 https://t.co/4B7cOc1EDq</td>\n",
       "      <td>NaN</td>\n",
       "      <td>NaN</td>\n",
       "      <td>NaN</td>\n",
       "      <td>https://twitter.com/dog_rates/status/666049248165822465/photo/1</td>\n",
       "      <td>5</td>\n",
       "      <td>10</td>\n",
       "      <td>None</td>\n",
       "      <td>None</td>\n",
       "      <td>None</td>\n",
       "      <td>None</td>\n",
       "      <td>None</td>\n",
       "    </tr>\n",
       "    <tr>\n",
       "      <th>2352</th>\n",
       "      <td>666044226329800704</td>\n",
       "      <td>NaN</td>\n",
       "      <td>NaN</td>\n",
       "      <td>2015-11-16 00:04:52 +0000</td>\n",
       "      <td>&lt;a href=\"http://twitter.com/download/iphone\" rel=\"nofollow\"&gt;Twitter for iPhone&lt;/a&gt;</td>\n",
       "      <td>This is a purebred Piers Morgan. Loves to Netflix and chill. Always looks like he forgot to unplug the iron. 6/10 https://t.co/DWnyCjf2mx</td>\n",
       "      <td>NaN</td>\n",
       "      <td>NaN</td>\n",
       "      <td>NaN</td>\n",
       "      <td>https://twitter.com/dog_rates/status/666044226329800704/photo/1</td>\n",
       "      <td>6</td>\n",
       "      <td>10</td>\n",
       "      <td>a</td>\n",
       "      <td>None</td>\n",
       "      <td>None</td>\n",
       "      <td>None</td>\n",
       "      <td>None</td>\n",
       "    </tr>\n",
       "    <tr>\n",
       "      <th>2353</th>\n",
       "      <td>666033412701032449</td>\n",
       "      <td>NaN</td>\n",
       "      <td>NaN</td>\n",
       "      <td>2015-11-15 23:21:54 +0000</td>\n",
       "      <td>&lt;a href=\"http://twitter.com/download/iphone\" rel=\"nofollow\"&gt;Twitter for iPhone&lt;/a&gt;</td>\n",
       "      <td>Here is a very happy pup. Big fan of well-maintained decks. Just look at that tongue. 9/10 would cuddle af https://t.co/y671yMhoiR</td>\n",
       "      <td>NaN</td>\n",
       "      <td>NaN</td>\n",
       "      <td>NaN</td>\n",
       "      <td>https://twitter.com/dog_rates/status/666033412701032449/photo/1</td>\n",
       "      <td>9</td>\n",
       "      <td>10</td>\n",
       "      <td>a</td>\n",
       "      <td>None</td>\n",
       "      <td>None</td>\n",
       "      <td>None</td>\n",
       "      <td>None</td>\n",
       "    </tr>\n",
       "    <tr>\n",
       "      <th>2354</th>\n",
       "      <td>666029285002620928</td>\n",
       "      <td>NaN</td>\n",
       "      <td>NaN</td>\n",
       "      <td>2015-11-15 23:05:30 +0000</td>\n",
       "      <td>&lt;a href=\"http://twitter.com/download/iphone\" rel=\"nofollow\"&gt;Twitter for iPhone&lt;/a&gt;</td>\n",
       "      <td>This is a western brown Mitsubishi terrier. Upset about leaf. Actually 2 dogs here. 7/10 would walk the shit out of https://t.co/r7mOb2m0UI</td>\n",
       "      <td>NaN</td>\n",
       "      <td>NaN</td>\n",
       "      <td>NaN</td>\n",
       "      <td>https://twitter.com/dog_rates/status/666029285002620928/photo/1</td>\n",
       "      <td>7</td>\n",
       "      <td>10</td>\n",
       "      <td>a</td>\n",
       "      <td>None</td>\n",
       "      <td>None</td>\n",
       "      <td>None</td>\n",
       "      <td>None</td>\n",
       "    </tr>\n",
       "    <tr>\n",
       "      <th>2355</th>\n",
       "      <td>666020888022790149</td>\n",
       "      <td>NaN</td>\n",
       "      <td>NaN</td>\n",
       "      <td>2015-11-15 22:32:08 +0000</td>\n",
       "      <td>&lt;a href=\"http://twitter.com/download/iphone\" rel=\"nofollow\"&gt;Twitter for iPhone&lt;/a&gt;</td>\n",
       "      <td>Here we have a Japanese Irish Setter. Lost eye in Vietnam (?). Big fan of relaxing on stair. 8/10 would pet https://t.co/BLDqew2Ijj</td>\n",
       "      <td>NaN</td>\n",
       "      <td>NaN</td>\n",
       "      <td>NaN</td>\n",
       "      <td>https://twitter.com/dog_rates/status/666020888022790149/photo/1</td>\n",
       "      <td>8</td>\n",
       "      <td>10</td>\n",
       "      <td>None</td>\n",
       "      <td>None</td>\n",
       "      <td>None</td>\n",
       "      <td>None</td>\n",
       "      <td>None</td>\n",
       "    </tr>\n",
       "  </tbody>\n",
       "</table>\n",
       "</div>"
      ],
      "text/plain": [
       "                tweet_id  in_reply_to_status_id  in_reply_to_user_id  \\\n",
       "2346  666058600524156928 NaN                    NaN                    \n",
       "2347  666057090499244032 NaN                    NaN                    \n",
       "2348  666055525042405380 NaN                    NaN                    \n",
       "2349  666051853826850816 NaN                    NaN                    \n",
       "2350  666050758794694657 NaN                    NaN                    \n",
       "2351  666049248165822465 NaN                    NaN                    \n",
       "2352  666044226329800704 NaN                    NaN                    \n",
       "2353  666033412701032449 NaN                    NaN                    \n",
       "2354  666029285002620928 NaN                    NaN                    \n",
       "2355  666020888022790149 NaN                    NaN                    \n",
       "\n",
       "                      timestamp  \\\n",
       "2346  2015-11-16 01:01:59 +0000   \n",
       "2347  2015-11-16 00:55:59 +0000   \n",
       "2348  2015-11-16 00:49:46 +0000   \n",
       "2349  2015-11-16 00:35:11 +0000   \n",
       "2350  2015-11-16 00:30:50 +0000   \n",
       "2351  2015-11-16 00:24:50 +0000   \n",
       "2352  2015-11-16 00:04:52 +0000   \n",
       "2353  2015-11-15 23:21:54 +0000   \n",
       "2354  2015-11-15 23:05:30 +0000   \n",
       "2355  2015-11-15 22:32:08 +0000   \n",
       "\n",
       "                                                                                  source  \\\n",
       "2346  <a href=\"http://twitter.com/download/iphone\" rel=\"nofollow\">Twitter for iPhone</a>   \n",
       "2347  <a href=\"http://twitter.com/download/iphone\" rel=\"nofollow\">Twitter for iPhone</a>   \n",
       "2348  <a href=\"http://twitter.com/download/iphone\" rel=\"nofollow\">Twitter for iPhone</a>   \n",
       "2349  <a href=\"http://twitter.com/download/iphone\" rel=\"nofollow\">Twitter for iPhone</a>   \n",
       "2350  <a href=\"http://twitter.com/download/iphone\" rel=\"nofollow\">Twitter for iPhone</a>   \n",
       "2351  <a href=\"http://twitter.com/download/iphone\" rel=\"nofollow\">Twitter for iPhone</a>   \n",
       "2352  <a href=\"http://twitter.com/download/iphone\" rel=\"nofollow\">Twitter for iPhone</a>   \n",
       "2353  <a href=\"http://twitter.com/download/iphone\" rel=\"nofollow\">Twitter for iPhone</a>   \n",
       "2354  <a href=\"http://twitter.com/download/iphone\" rel=\"nofollow\">Twitter for iPhone</a>   \n",
       "2355  <a href=\"http://twitter.com/download/iphone\" rel=\"nofollow\">Twitter for iPhone</a>   \n",
       "\n",
       "                                                                                                                                              text  \\\n",
       "2346  Here is the Rand Paul of retrievers folks! He's probably good at poker. Can drink beer (lol rad). 8/10 good dog https://t.co/pYAJkAe76p        \n",
       "2347  My oh my. This is a rare blond Canadian terrier on wheels. Only $8.98. Rather docile. 9/10 very rare https://t.co/yWBqbrzy8O                   \n",
       "2348  Here is a Siberian heavily armored polar bear mix. Strong owner. 10/10 I would do unspeakable things to pet this dog https://t.co/rdivxLiqEt   \n",
       "2349  This is an odd dog. Hard on the outside but loving on the inside. Petting still fun. Doesn't play catch well. 2/10 https://t.co/v5A4vzSDdc     \n",
       "2350  This is a truly beautiful English Wilson Staff retriever. Has a nice phone. Privileged. 10/10 would trade lives with https://t.co/fvIbQfHjIe   \n",
       "2351  Here we have a 1949 1st generation vulpix. Enjoys sweat tea and Fox News. Cannot be phased. 5/10 https://t.co/4B7cOc1EDq                       \n",
       "2352  This is a purebred Piers Morgan. Loves to Netflix and chill. Always looks like he forgot to unplug the iron. 6/10 https://t.co/DWnyCjf2mx      \n",
       "2353  Here is a very happy pup. Big fan of well-maintained decks. Just look at that tongue. 9/10 would cuddle af https://t.co/y671yMhoiR             \n",
       "2354  This is a western brown Mitsubishi terrier. Upset about leaf. Actually 2 dogs here. 7/10 would walk the shit out of https://t.co/r7mOb2m0UI    \n",
       "2355  Here we have a Japanese Irish Setter. Lost eye in Vietnam (?). Big fan of relaxing on stair. 8/10 would pet https://t.co/BLDqew2Ijj            \n",
       "\n",
       "      retweeted_status_id  retweeted_status_user_id  \\\n",
       "2346 NaN                  NaN                         \n",
       "2347 NaN                  NaN                         \n",
       "2348 NaN                  NaN                         \n",
       "2349 NaN                  NaN                         \n",
       "2350 NaN                  NaN                         \n",
       "2351 NaN                  NaN                         \n",
       "2352 NaN                  NaN                         \n",
       "2353 NaN                  NaN                         \n",
       "2354 NaN                  NaN                         \n",
       "2355 NaN                  NaN                         \n",
       "\n",
       "     retweeted_status_timestamp  \\\n",
       "2346  NaN                         \n",
       "2347  NaN                         \n",
       "2348  NaN                         \n",
       "2349  NaN                         \n",
       "2350  NaN                         \n",
       "2351  NaN                         \n",
       "2352  NaN                         \n",
       "2353  NaN                         \n",
       "2354  NaN                         \n",
       "2355  NaN                         \n",
       "\n",
       "                                                        expanded_urls  \\\n",
       "2346  https://twitter.com/dog_rates/status/666058600524156928/photo/1   \n",
       "2347  https://twitter.com/dog_rates/status/666057090499244032/photo/1   \n",
       "2348  https://twitter.com/dog_rates/status/666055525042405380/photo/1   \n",
       "2349  https://twitter.com/dog_rates/status/666051853826850816/photo/1   \n",
       "2350  https://twitter.com/dog_rates/status/666050758794694657/photo/1   \n",
       "2351  https://twitter.com/dog_rates/status/666049248165822465/photo/1   \n",
       "2352  https://twitter.com/dog_rates/status/666044226329800704/photo/1   \n",
       "2353  https://twitter.com/dog_rates/status/666033412701032449/photo/1   \n",
       "2354  https://twitter.com/dog_rates/status/666029285002620928/photo/1   \n",
       "2355  https://twitter.com/dog_rates/status/666020888022790149/photo/1   \n",
       "\n",
       "      rating_numerator  rating_denominator  name doggo floofer pupper puppo  \n",
       "2346  8                 10                  the   None  None    None   None  \n",
       "2347  9                 10                  a     None  None    None   None  \n",
       "2348  10                10                  a     None  None    None   None  \n",
       "2349  2                 10                  an    None  None    None   None  \n",
       "2350  10                10                  a     None  None    None   None  \n",
       "2351  5                 10                  None  None  None    None   None  \n",
       "2352  6                 10                  a     None  None    None   None  \n",
       "2353  9                 10                  a     None  None    None   None  \n",
       "2354  7                 10                  a     None  None    None   None  \n",
       "2355  8                 10                  None  None  None    None   None  "
      ]
     },
     "execution_count": 10,
     "metadata": {},
     "output_type": "execute_result"
    }
   ],
   "source": [
    "twitter_archive.tail(10)"
   ]
  },
  {
   "cell_type": "markdown",
   "metadata": {},
   "source": [
    "### Notes:\n",
    "1. we can notice some names in \"name\" column are strange, such as \"a\" or \"None\", those rows need to be dropped later"
   ]
  },
  {
   "cell_type": "markdown",
   "metadata": {},
   "source": [
    "### More closer look:"
   ]
  },
  {
   "cell_type": "markdown",
   "metadata": {},
   "source": [
    "### `name`"
   ]
  },
  {
   "cell_type": "code",
   "execution_count": 11,
   "metadata": {
    "scrolled": false
   },
   "outputs": [
    {
     "data": {
      "text/plain": [
       "None       745\n",
       "a          55 \n",
       "Charlie    12 \n",
       "Lucy       11 \n",
       "Cooper     11 \n",
       "Oliver     11 \n",
       "Tucker     10 \n",
       "Penny      10 \n",
       "Lola       10 \n",
       "Winston    9  \n",
       "Bo         9  \n",
       "the        8  \n",
       "Sadie      8  \n",
       "Toby       7  \n",
       "an         7  \n",
       "Daisy      7  \n",
       "Buddy      7  \n",
       "Bailey     7  \n",
       "Dave       6  \n",
       "Jax        6  \n",
       "Jack       6  \n",
       "Stanley    6  \n",
       "Oscar      6  \n",
       "Koda       6  \n",
       "Rusty      6  \n",
       "Scout      6  \n",
       "Milo       6  \n",
       "Bella      6  \n",
       "Leo        6  \n",
       "Oakley     5  \n",
       "Gus        5  \n",
       "Sunny      5  \n",
       "Finn       5  \n",
       "Sammy      5  \n",
       "Alfie      5  \n",
       "Larry      5  \n",
       "George     5  \n",
       "Louis      5  \n",
       "Phil       5  \n",
       "Bentley    5  \n",
       "very       5  \n",
       "Chester    5  \n",
       "Maggie     4  \n",
       "Walter     4  \n",
       "Hank       4  \n",
       "Jeffrey    4  \n",
       "Scooter    4  \n",
       "Luna       4  \n",
       "Boomer     4  \n",
       "Brody      4  \n",
       "Name: name, dtype: int64"
      ]
     },
     "execution_count": 11,
     "metadata": {},
     "output_type": "execute_result"
    }
   ],
   "source": [
    "twitter_archive['name'].value_counts().head(50)"
   ]
  },
  {
   "cell_type": "code",
   "execution_count": 12,
   "metadata": {
    "scrolled": true
   },
   "outputs": [
    {
     "data": {
      "text/plain": [
       "a               55\n",
       "the             8 \n",
       "an              7 \n",
       "very            5 \n",
       "one             4 \n",
       "just            4 \n",
       "quite           4 \n",
       "getting         2 \n",
       "not             2 \n",
       "actually        2 \n",
       "mad             2 \n",
       "officially      1 \n",
       "space           1 \n",
       "life            1 \n",
       "by              1 \n",
       "unacceptable    1 \n",
       "old             1 \n",
       "light           1 \n",
       "such            1 \n",
       "this            1 \n",
       "infuriating     1 \n",
       "his             1 \n",
       "my              1 \n",
       "incredibly      1 \n",
       "all             1 \n",
       "Name: name, dtype: int64"
      ]
     },
     "execution_count": 12,
     "metadata": {},
     "output_type": "execute_result"
    }
   ],
   "source": [
    "error_names = twitter_archive['name'].str.contains('^[a-z]', regex = True)\n",
    "twitter_archive[error_names]['name'].value_counts()"
   ]
  },
  {
   "cell_type": "code",
   "execution_count": 13,
   "metadata": {},
   "outputs": [
    {
     "name": "stdout",
     "output_type": "stream",
     "text": [
      "There are 109 inaccurate names in the dataset\n"
     ]
    }
   ],
   "source": [
    "print('There are {} inaccurate names in the dataset'.format(len(twitter_archive[error_names])))"
   ]
  },
  {
   "cell_type": "markdown",
   "metadata": {},
   "source": [
    "#### Note:\n",
    "* From above results, we can see that for true names, they are capitalized, but for others, such as \"a\", \"Bo\", etc, they are all lower characters. \n",
    "* Based on this principal, we filter out 109 inaacurate names which need to be removed.\n",
    "* For the \"None\" name, we should change it to \"NaN\" to specify don't exist/know situations."
   ]
  },
  {
   "cell_type": "markdown",
   "metadata": {},
   "source": [
    "### `expanded_urls`"
   ]
  },
  {
   "cell_type": "code",
   "execution_count": 14,
   "metadata": {},
   "outputs": [
    {
     "data": {
      "text/plain": [
       "'https://gofundme.com/ydvmve-surgery-for-jax,https://twitter.com/dog_rates/status/890971913173991426/photo/1'"
      ]
     },
     "execution_count": 14,
     "metadata": {},
     "output_type": "execute_result"
    }
   ],
   "source": [
    "twitter_archive['expanded_urls'][6]"
   ]
  },
  {
   "cell_type": "markdown",
   "metadata": {},
   "source": [
    "#### Note:\n",
    "* Simply visually obersve the \"expanded_urls\", we can find some have doule urls as shown above."
   ]
  },
  {
   "cell_type": "code",
   "execution_count": 15,
   "metadata": {},
   "outputs": [
    {
     "data": {
      "text/plain": [
       "639"
      ]
     },
     "execution_count": 15,
     "metadata": {},
     "output_type": "execute_result"
    }
   ],
   "source": [
    "twitter_archive['expanded_urls'].str.contains(',', regex = True).sum()"
   ]
  },
  {
   "cell_type": "markdown",
   "metadata": {},
   "source": [
    "#### Note:\n",
    "* There are 639 double links present in the \"expanded_urls\" column."
   ]
  },
  {
   "cell_type": "markdown",
   "metadata": {},
   "source": [
    "### `rating_denominator\t`"
   ]
  },
  {
   "cell_type": "code",
   "execution_count": 16,
   "metadata": {
    "scrolled": true
   },
   "outputs": [
    {
     "data": {
      "text/plain": [
       "0      1   \n",
       "2      1   \n",
       "7      1   \n",
       "10     2333\n",
       "11     3   \n",
       "15     1   \n",
       "16     1   \n",
       "20     2   \n",
       "40     1   \n",
       "50     3   \n",
       "70     1   \n",
       "80     2   \n",
       "90     1   \n",
       "110    1   \n",
       "120    1   \n",
       "130    1   \n",
       "150    1   \n",
       "170    1   \n",
       "Name: rating_denominator, dtype: int64"
      ]
     },
     "execution_count": 16,
     "metadata": {},
     "output_type": "execute_result"
    }
   ],
   "source": [
    "twitter_archive['rating_denominator'].value_counts().sort_index()"
   ]
  },
  {
   "cell_type": "code",
   "execution_count": 17,
   "metadata": {},
   "outputs": [
    {
     "name": "stdout",
     "output_type": "stream",
     "text": [
      "There are 23 rows whose rating_denominator is not the baseline: 10 \n"
     ]
    }
   ],
   "source": [
    "count = len(twitter_archive.query('rating_denominator != \"10\"'))\n",
    "print('There are {} rows whose rating_denominator is not the baseline: 10 '.format(count))"
   ]
  },
  {
   "cell_type": "code",
   "execution_count": 18,
   "metadata": {},
   "outputs": [
    {
     "data": {
      "text/html": [
       "<div>\n",
       "<style scoped>\n",
       "    .dataframe tbody tr th:only-of-type {\n",
       "        vertical-align: middle;\n",
       "    }\n",
       "\n",
       "    .dataframe tbody tr th {\n",
       "        vertical-align: top;\n",
       "    }\n",
       "\n",
       "    .dataframe thead th {\n",
       "        text-align: right;\n",
       "    }\n",
       "</style>\n",
       "<table border=\"1\" class=\"dataframe\">\n",
       "  <thead>\n",
       "    <tr style=\"text-align: right;\">\n",
       "      <th></th>\n",
       "      <th>tweet_id</th>\n",
       "      <th>text</th>\n",
       "      <th>rating_numerator</th>\n",
       "      <th>rating_denominator</th>\n",
       "    </tr>\n",
       "  </thead>\n",
       "  <tbody>\n",
       "    <tr>\n",
       "      <th>433</th>\n",
       "      <td>820690176645140481</td>\n",
       "      <td>The floofs have been released I repeat the floofs have been released. 84/70 https://t.co/NIYC820tmd</td>\n",
       "      <td>84</td>\n",
       "      <td>70</td>\n",
       "    </tr>\n",
       "    <tr>\n",
       "      <th>516</th>\n",
       "      <td>810984652412424192</td>\n",
       "      <td>Meet Sam. She smiles 24/7 &amp;amp; secretly aspires to be a reindeer. \\nKeep Sam smiling by clicking and sharing this link:\\nhttps://t.co/98tB8y7y7t https://t.co/LouL5vdvxx</td>\n",
       "      <td>24</td>\n",
       "      <td>7</td>\n",
       "    </tr>\n",
       "    <tr>\n",
       "      <th>902</th>\n",
       "      <td>758467244762497024</td>\n",
       "      <td>Why does this never happen at my front door... 165/150 https://t.co/HmwrdfEfUE</td>\n",
       "      <td>165</td>\n",
       "      <td>150</td>\n",
       "    </tr>\n",
       "    <tr>\n",
       "      <th>1068</th>\n",
       "      <td>740373189193256964</td>\n",
       "      <td>After so many requests, this is Bretagne. She was the last surviving 9/11 search dog, and our second ever 14/10. RIP https://t.co/XAVDNDaVgQ</td>\n",
       "      <td>9</td>\n",
       "      <td>11</td>\n",
       "    </tr>\n",
       "    <tr>\n",
       "      <th>1120</th>\n",
       "      <td>731156023742988288</td>\n",
       "      <td>Say hello to this unbelievably well behaved squad of doggos. 204/170 would try to pet all at once https://t.co/yGQI3He3xv</td>\n",
       "      <td>204</td>\n",
       "      <td>170</td>\n",
       "    </tr>\n",
       "    <tr>\n",
       "      <th>1165</th>\n",
       "      <td>722974582966214656</td>\n",
       "      <td>Happy 4/20 from the squad! 13/10 for all https://t.co/eV1diwds8a</td>\n",
       "      <td>4</td>\n",
       "      <td>20</td>\n",
       "    </tr>\n",
       "    <tr>\n",
       "      <th>1202</th>\n",
       "      <td>716439118184652801</td>\n",
       "      <td>This is Bluebert. He just saw that both #FinalFur match ups are split 50/50. Amazed af. 11/10 https://t.co/Kky1DPG4iq</td>\n",
       "      <td>50</td>\n",
       "      <td>50</td>\n",
       "    </tr>\n",
       "    <tr>\n",
       "      <th>1228</th>\n",
       "      <td>713900603437621249</td>\n",
       "      <td>Happy Saturday here's 9 puppers on a bench. 99/90 good work everybody https://t.co/mpvaVxKmc1</td>\n",
       "      <td>99</td>\n",
       "      <td>90</td>\n",
       "    </tr>\n",
       "    <tr>\n",
       "      <th>1254</th>\n",
       "      <td>710658690886586372</td>\n",
       "      <td>Here's a brigade of puppers. All look very prepared for whatever happens next. 80/80 https://t.co/0eb7R1Om12</td>\n",
       "      <td>80</td>\n",
       "      <td>80</td>\n",
       "    </tr>\n",
       "    <tr>\n",
       "      <th>1274</th>\n",
       "      <td>709198395643068416</td>\n",
       "      <td>From left to right:\\nCletus, Jerome, Alejandro, Burp, &amp;amp; Titson\\nNone know where camera is. 45/50 would hug all at once https://t.co/sedre1ivTK</td>\n",
       "      <td>45</td>\n",
       "      <td>50</td>\n",
       "    </tr>\n",
       "    <tr>\n",
       "      <th>1351</th>\n",
       "      <td>704054845121142784</td>\n",
       "      <td>Here is a whole flock of puppers.  60/50 I'll take the lot https://t.co/9dpcw6MdWa</td>\n",
       "      <td>60</td>\n",
       "      <td>50</td>\n",
       "    </tr>\n",
       "    <tr>\n",
       "      <th>1433</th>\n",
       "      <td>697463031882764288</td>\n",
       "      <td>Happy Wednesday here's a bucket of pups. 44/40 would pet all at once https://t.co/HppvrYuamZ</td>\n",
       "      <td>44</td>\n",
       "      <td>40</td>\n",
       "    </tr>\n",
       "    <tr>\n",
       "      <th>1635</th>\n",
       "      <td>684222868335505415</td>\n",
       "      <td>Someone help the girl is being mugged. Several are distracting her while two steal her shoes. Clever puppers 121/110 https://t.co/1zfnTJLt55</td>\n",
       "      <td>121</td>\n",
       "      <td>110</td>\n",
       "    </tr>\n",
       "    <tr>\n",
       "      <th>1662</th>\n",
       "      <td>682962037429899265</td>\n",
       "      <td>This is Darrel. He just robbed a 7/11 and is in a high speed police chase. Was just spotted by the helicopter 10/10 https://t.co/7EsP8LmSp5</td>\n",
       "      <td>7</td>\n",
       "      <td>11</td>\n",
       "    </tr>\n",
       "    <tr>\n",
       "      <th>1779</th>\n",
       "      <td>677716515794329600</td>\n",
       "      <td>IT'S PUPPERGEDDON. Total of 144/120 ...I think https://t.co/ZanVtAtvIq</td>\n",
       "      <td>144</td>\n",
       "      <td>120</td>\n",
       "    </tr>\n",
       "    <tr>\n",
       "      <th>1843</th>\n",
       "      <td>675853064436391936</td>\n",
       "      <td>Here we have an entire platoon of puppers. Total score: 88/80 would pet all at once https://t.co/y93p6FLvVw</td>\n",
       "      <td>88</td>\n",
       "      <td>80</td>\n",
       "    </tr>\n",
       "    <tr>\n",
       "      <th>2335</th>\n",
       "      <td>666287406224695296</td>\n",
       "      <td>This is an Albanian 3 1/2 legged  Episcopalian. Loves well-polished hardwood flooring. Penis on the collar. 9/10 https://t.co/d9NcXFKwLv</td>\n",
       "      <td>1</td>\n",
       "      <td>2</td>\n",
       "    </tr>\n",
       "  </tbody>\n",
       "</table>\n",
       "</div>"
      ],
      "text/plain": [
       "                tweet_id  \\\n",
       "433   820690176645140481   \n",
       "516   810984652412424192   \n",
       "902   758467244762497024   \n",
       "1068  740373189193256964   \n",
       "1120  731156023742988288   \n",
       "1165  722974582966214656   \n",
       "1202  716439118184652801   \n",
       "1228  713900603437621249   \n",
       "1254  710658690886586372   \n",
       "1274  709198395643068416   \n",
       "1351  704054845121142784   \n",
       "1433  697463031882764288   \n",
       "1635  684222868335505415   \n",
       "1662  682962037429899265   \n",
       "1779  677716515794329600   \n",
       "1843  675853064436391936   \n",
       "2335  666287406224695296   \n",
       "\n",
       "                                                                                                                                                                           text  \\\n",
       "433   The floofs have been released I repeat the floofs have been released. 84/70 https://t.co/NIYC820tmd                                                                         \n",
       "516   Meet Sam. She smiles 24/7 &amp; secretly aspires to be a reindeer. \\nKeep Sam smiling by clicking and sharing this link:\\nhttps://t.co/98tB8y7y7t https://t.co/LouL5vdvxx   \n",
       "902   Why does this never happen at my front door... 165/150 https://t.co/HmwrdfEfUE                                                                                              \n",
       "1068  After so many requests, this is Bretagne. She was the last surviving 9/11 search dog, and our second ever 14/10. RIP https://t.co/XAVDNDaVgQ                                \n",
       "1120  Say hello to this unbelievably well behaved squad of doggos. 204/170 would try to pet all at once https://t.co/yGQI3He3xv                                                   \n",
       "1165  Happy 4/20 from the squad! 13/10 for all https://t.co/eV1diwds8a                                                                                                            \n",
       "1202  This is Bluebert. He just saw that both #FinalFur match ups are split 50/50. Amazed af. 11/10 https://t.co/Kky1DPG4iq                                                       \n",
       "1228  Happy Saturday here's 9 puppers on a bench. 99/90 good work everybody https://t.co/mpvaVxKmc1                                                                               \n",
       "1254  Here's a brigade of puppers. All look very prepared for whatever happens next. 80/80 https://t.co/0eb7R1Om12                                                                \n",
       "1274  From left to right:\\nCletus, Jerome, Alejandro, Burp, &amp; Titson\\nNone know where camera is. 45/50 would hug all at once https://t.co/sedre1ivTK                          \n",
       "1351  Here is a whole flock of puppers.  60/50 I'll take the lot https://t.co/9dpcw6MdWa                                                                                          \n",
       "1433  Happy Wednesday here's a bucket of pups. 44/40 would pet all at once https://t.co/HppvrYuamZ                                                                                \n",
       "1635  Someone help the girl is being mugged. Several are distracting her while two steal her shoes. Clever puppers 121/110 https://t.co/1zfnTJLt55                                \n",
       "1662  This is Darrel. He just robbed a 7/11 and is in a high speed police chase. Was just spotted by the helicopter 10/10 https://t.co/7EsP8LmSp5                                 \n",
       "1779  IT'S PUPPERGEDDON. Total of 144/120 ...I think https://t.co/ZanVtAtvIq                                                                                                      \n",
       "1843  Here we have an entire platoon of puppers. Total score: 88/80 would pet all at once https://t.co/y93p6FLvVw                                                                 \n",
       "2335  This is an Albanian 3 1/2 legged  Episcopalian. Loves well-polished hardwood flooring. Penis on the collar. 9/10 https://t.co/d9NcXFKwLv                                    \n",
       "\n",
       "      rating_numerator  rating_denominator  \n",
       "433   84                70                  \n",
       "516   24                7                   \n",
       "902   165               150                 \n",
       "1068  9                 11                  \n",
       "1120  204               170                 \n",
       "1165  4                 20                  \n",
       "1202  50                50                  \n",
       "1228  99                90                  \n",
       "1254  80                80                  \n",
       "1274  45                50                  \n",
       "1351  60                50                  \n",
       "1433  44                40                  \n",
       "1635  121               110                 \n",
       "1662  7                 11                  \n",
       "1779  144               120                 \n",
       "1843  88                80                  \n",
       "2335  1                 2                   "
      ]
     },
     "execution_count": 18,
     "metadata": {},
     "output_type": "execute_result"
    }
   ],
   "source": [
    "mask_columns = ['tweet_id','text', 'rating_numerator','rating_denominator']\n",
    "non10_denominator = twitter_archive.query('rating_denominator != \"10\" & in_reply_to_status_id.isnull() & retweeted_status_id.isnull()', engine='python')[mask_columns]\n",
    "non10_denominator"
   ]
  },
  {
   "cell_type": "markdown",
   "metadata": {},
   "source": [
    "#### Note:\n",
    "* For fair comparison, rating_denominator should be 10. But we find that there are 23 rows whose rating_denominator is not 10.\n",
    "* Among 23 tweets, ignoring the replies and retweets, there are 17 tweets with denominators that aren't 10 and they are shown as above. \n",
    "* Among 17 tweets, I visually check each tweet and find many of them have multiple dogs in the pictures which can be dropped. But for the rests that have single dog, I manually update each rating in the dataframe \"fixed_rating\" as shown below."
   ]
  },
  {
   "cell_type": "code",
   "execution_count": 19,
   "metadata": {},
   "outputs": [
    {
     "data": {
      "text/html": [
       "<div>\n",
       "<style scoped>\n",
       "    .dataframe tbody tr th:only-of-type {\n",
       "        vertical-align: middle;\n",
       "    }\n",
       "\n",
       "    .dataframe tbody tr th {\n",
       "        vertical-align: top;\n",
       "    }\n",
       "\n",
       "    .dataframe thead th {\n",
       "        text-align: right;\n",
       "    }\n",
       "</style>\n",
       "<table border=\"1\" class=\"dataframe\">\n",
       "  <thead>\n",
       "    <tr style=\"text-align: right;\">\n",
       "      <th></th>\n",
       "      <th>tweet_id</th>\n",
       "      <th>original rating</th>\n",
       "      <th>multiple dogs?</th>\n",
       "      <th>new rating</th>\n",
       "    </tr>\n",
       "  </thead>\n",
       "  <tbody>\n",
       "    <tr>\n",
       "      <th>0</th>\n",
       "      <td>820690176645140481,</td>\n",
       "      <td>84/70</td>\n",
       "      <td>yes</td>\n",
       "      <td>drop</td>\n",
       "    </tr>\n",
       "    <tr>\n",
       "      <th>1</th>\n",
       "      <td>810984652412424192,</td>\n",
       "      <td>24/7</td>\n",
       "      <td>no</td>\n",
       "      <td>drop, no rating</td>\n",
       "    </tr>\n",
       "    <tr>\n",
       "      <th>2</th>\n",
       "      <td>758467244762497024,</td>\n",
       "      <td>165/150</td>\n",
       "      <td>yes</td>\n",
       "      <td>drop</td>\n",
       "    </tr>\n",
       "    <tr>\n",
       "      <th>3</th>\n",
       "      <td>740373189193256964,</td>\n",
       "      <td>9/11</td>\n",
       "      <td>no</td>\n",
       "      <td>14/10</td>\n",
       "    </tr>\n",
       "    <tr>\n",
       "      <th>4</th>\n",
       "      <td>731156023742988288,</td>\n",
       "      <td>204/170</td>\n",
       "      <td>yes</td>\n",
       "      <td>drop</td>\n",
       "    </tr>\n",
       "    <tr>\n",
       "      <th>5</th>\n",
       "      <td>722974582966214656,</td>\n",
       "      <td>4/20</td>\n",
       "      <td>yes</td>\n",
       "      <td>drop</td>\n",
       "    </tr>\n",
       "    <tr>\n",
       "      <th>6</th>\n",
       "      <td>716439118184652801,</td>\n",
       "      <td>50/50</td>\n",
       "      <td>no</td>\n",
       "      <td>11/10</td>\n",
       "    </tr>\n",
       "    <tr>\n",
       "      <th>7</th>\n",
       "      <td>713900603437621249,</td>\n",
       "      <td>99/90</td>\n",
       "      <td>yes</td>\n",
       "      <td>drop</td>\n",
       "    </tr>\n",
       "    <tr>\n",
       "      <th>8</th>\n",
       "      <td>710658690886586372,</td>\n",
       "      <td>80/80</td>\n",
       "      <td>yes</td>\n",
       "      <td>drop</td>\n",
       "    </tr>\n",
       "    <tr>\n",
       "      <th>9</th>\n",
       "      <td>709198395643068416,</td>\n",
       "      <td>45/50</td>\n",
       "      <td>yes</td>\n",
       "      <td>drop</td>\n",
       "    </tr>\n",
       "    <tr>\n",
       "      <th>10</th>\n",
       "      <td>704054845121142784,</td>\n",
       "      <td>60/50</td>\n",
       "      <td>yes</td>\n",
       "      <td>drop</td>\n",
       "    </tr>\n",
       "    <tr>\n",
       "      <th>11</th>\n",
       "      <td>697463031882764288,</td>\n",
       "      <td>44/40</td>\n",
       "      <td>yes</td>\n",
       "      <td>drop</td>\n",
       "    </tr>\n",
       "    <tr>\n",
       "      <th>12</th>\n",
       "      <td>684222868335505415,</td>\n",
       "      <td>121/110</td>\n",
       "      <td>yes</td>\n",
       "      <td>drop</td>\n",
       "    </tr>\n",
       "    <tr>\n",
       "      <th>13</th>\n",
       "      <td>682962037429899265,</td>\n",
       "      <td>7/11</td>\n",
       "      <td>no</td>\n",
       "      <td>10/10</td>\n",
       "    </tr>\n",
       "    <tr>\n",
       "      <th>14</th>\n",
       "      <td>677716515794329600,</td>\n",
       "      <td>144/120</td>\n",
       "      <td>yes</td>\n",
       "      <td>drop</td>\n",
       "    </tr>\n",
       "    <tr>\n",
       "      <th>15</th>\n",
       "      <td>675853064436391936,</td>\n",
       "      <td>88/80</td>\n",
       "      <td>yes</td>\n",
       "      <td>drop</td>\n",
       "    </tr>\n",
       "    <tr>\n",
       "      <th>16</th>\n",
       "      <td>666287406224695296]</td>\n",
       "      <td>1/12</td>\n",
       "      <td>no</td>\n",
       "      <td>9/10</td>\n",
       "    </tr>\n",
       "  </tbody>\n",
       "</table>\n",
       "</div>"
      ],
      "text/plain": [
       "                tweet_id original rating multiple dogs?       new rating\n",
       "0   820690176645140481,   84/70           yes            drop           \n",
       "1    810984652412424192,  24/7            no             drop, no rating\n",
       "2    758467244762497024,  165/150         yes            drop           \n",
       "3    740373189193256964,  9/11            no             14/10          \n",
       "4    731156023742988288,  204/170         yes            drop           \n",
       "5    722974582966214656,  4/20            yes            drop           \n",
       "6    716439118184652801,  50/50           no             11/10          \n",
       "7    713900603437621249,  99/90           yes            drop           \n",
       "8    710658690886586372,  80/80           yes            drop           \n",
       "9    709198395643068416,  45/50           yes            drop           \n",
       "10   704054845121142784,  60/50           yes            drop           \n",
       "11   697463031882764288,  44/40           yes            drop           \n",
       "12   684222868335505415,  121/110         yes            drop           \n",
       "13   682962037429899265,  7/11            no             10/10          \n",
       "14   677716515794329600,  144/120         yes            drop           \n",
       "15   675853064436391936,  88/80           yes            drop           \n",
       "16   666287406224695296]  1/12            no             9/10           "
      ]
     },
     "execution_count": 19,
     "metadata": {},
     "output_type": "execute_result"
    }
   ],
   "source": [
    "fixed_rating = pd.read_csv('fixed_rating.csv')\n",
    "fixed_rating"
   ]
  },
  {
   "cell_type": "markdown",
   "metadata": {},
   "source": [
    "#### Note:\n",
    "* After manually correcting, 4 tweets will be updated later with both new \"rating_numerator\" and \"rating_denominator\""
   ]
  },
  {
   "cell_type": "markdown",
   "metadata": {},
   "source": [
    "### `rating_numerator\t`"
   ]
  },
  {
   "cell_type": "code",
   "execution_count": 20,
   "metadata": {},
   "outputs": [
    {
     "data": {
      "text/plain": [
       "0       2  \n",
       "1       9  \n",
       "2       9  \n",
       "3       19 \n",
       "4       17 \n",
       "5       37 \n",
       "6       32 \n",
       "7       55 \n",
       "8       102\n",
       "9       158\n",
       "10      461\n",
       "11      464\n",
       "12      558\n",
       "13      351\n",
       "14      54 \n",
       "15      2  \n",
       "17      1  \n",
       "20      1  \n",
       "24      1  \n",
       "26      1  \n",
       "27      1  \n",
       "44      1  \n",
       "45      1  \n",
       "50      1  \n",
       "60      1  \n",
       "75      2  \n",
       "80      1  \n",
       "84      1  \n",
       "88      1  \n",
       "99      1  \n",
       "121     1  \n",
       "143     1  \n",
       "144     1  \n",
       "165     1  \n",
       "182     1  \n",
       "204     1  \n",
       "420     2  \n",
       "666     1  \n",
       "960     1  \n",
       "1776    1  \n",
       "Name: rating_numerator, dtype: int64"
      ]
     },
     "execution_count": 20,
     "metadata": {},
     "output_type": "execute_result"
    }
   ],
   "source": [
    "twitter_archive['rating_numerator'].value_counts().sort_index()"
   ]
  },
  {
   "cell_type": "code",
   "execution_count": 21,
   "metadata": {},
   "outputs": [
    {
     "name": "stdout",
     "output_type": "stream",
     "text": [
      "There are 26 tweets whose rating_numerator is bigger or equal than 15.\n"
     ]
    }
   ],
   "source": [
    "count = len(twitter_archive.query('rating_numerator > 15'))\n",
    "print('There are {} tweets whose rating_numerator is bigger or equal than 15.'.format(count))"
   ]
  },
  {
   "cell_type": "code",
   "execution_count": 22,
   "metadata": {},
   "outputs": [
    {
     "data": {
      "text/html": [
       "<div>\n",
       "<style scoped>\n",
       "    .dataframe tbody tr th:only-of-type {\n",
       "        vertical-align: middle;\n",
       "    }\n",
       "\n",
       "    .dataframe tbody tr th {\n",
       "        vertical-align: top;\n",
       "    }\n",
       "\n",
       "    .dataframe thead th {\n",
       "        text-align: right;\n",
       "    }\n",
       "</style>\n",
       "<table border=\"1\" class=\"dataframe\">\n",
       "  <thead>\n",
       "    <tr style=\"text-align: right;\">\n",
       "      <th></th>\n",
       "      <th>tweet_id</th>\n",
       "      <th>text</th>\n",
       "      <th>rating_numerator</th>\n",
       "      <th>rating_denominator</th>\n",
       "    </tr>\n",
       "  </thead>\n",
       "  <tbody>\n",
       "    <tr>\n",
       "      <th>695</th>\n",
       "      <td>786709082849828864</td>\n",
       "      <td>This is Logan, the Chow who lived. He solemnly swears he's up to lots of good. H*ckin magical af 9.75/10 https://t.co/yBO5wuqaPS</td>\n",
       "      <td>75</td>\n",
       "      <td>10</td>\n",
       "    </tr>\n",
       "    <tr>\n",
       "      <th>763</th>\n",
       "      <td>778027034220126208</td>\n",
       "      <td>This is Sophie. She's a Jubilant Bush Pupper. Super h*ckin rare. Appears at random just to smile at the locals. 11.27/10 would smile back https://t.co/QFaUiIHxHq</td>\n",
       "      <td>27</td>\n",
       "      <td>10</td>\n",
       "    </tr>\n",
       "    <tr>\n",
       "      <th>979</th>\n",
       "      <td>749981277374128128</td>\n",
       "      <td>This is Atticus. He's quite simply America af. 1776/10 https://t.co/GRXwMxLBkh</td>\n",
       "      <td>1776</td>\n",
       "      <td>10</td>\n",
       "    </tr>\n",
       "    <tr>\n",
       "      <th>1712</th>\n",
       "      <td>680494726643068929</td>\n",
       "      <td>Here we have uncovered an entire battalion of holiday puppers. Average of 11.26/10 https://t.co/eNm2S6p9BD</td>\n",
       "      <td>26</td>\n",
       "      <td>10</td>\n",
       "    </tr>\n",
       "    <tr>\n",
       "      <th>2074</th>\n",
       "      <td>670842764863651840</td>\n",
       "      <td>After so many requests... here you go.\\n\\nGood dogg. 420/10 https://t.co/yfAAo1gdeY</td>\n",
       "      <td>420</td>\n",
       "      <td>10</td>\n",
       "    </tr>\n",
       "  </tbody>\n",
       "</table>\n",
       "</div>"
      ],
      "text/plain": [
       "                tweet_id  \\\n",
       "695   786709082849828864   \n",
       "763   778027034220126208   \n",
       "979   749981277374128128   \n",
       "1712  680494726643068929   \n",
       "2074  670842764863651840   \n",
       "\n",
       "                                                                                                                                                                   text  \\\n",
       "695   This is Logan, the Chow who lived. He solemnly swears he's up to lots of good. H*ckin magical af 9.75/10 https://t.co/yBO5wuqaPS                                    \n",
       "763   This is Sophie. She's a Jubilant Bush Pupper. Super h*ckin rare. Appears at random just to smile at the locals. 11.27/10 would smile back https://t.co/QFaUiIHxHq   \n",
       "979   This is Atticus. He's quite simply America af. 1776/10 https://t.co/GRXwMxLBkh                                                                                      \n",
       "1712  Here we have uncovered an entire battalion of holiday puppers. Average of 11.26/10 https://t.co/eNm2S6p9BD                                                          \n",
       "2074  After so many requests... here you go.\\n\\nGood dogg. 420/10 https://t.co/yfAAo1gdeY                                                                                 \n",
       "\n",
       "      rating_numerator  rating_denominator  \n",
       "695   75                10                  \n",
       "763   27                10                  \n",
       "979   1776              10                  \n",
       "1712  26                10                  \n",
       "2074  420               10                  "
      ]
     },
     "execution_count": 22,
     "metadata": {},
     "output_type": "execute_result"
    }
   ],
   "source": [
    "mask_columns = ['tweet_id','text', 'rating_numerator','rating_denominator']\n",
    "non10_15_numerator = twitter_archive.query('rating_denominator == 10 & rating_numerator > 15 & in_reply_to_status_id.isnull() & retweeted_status_id.isnull()', engine='python')[mask_columns]\n",
    "non10_15_numerator"
   ]
  },
  {
   "cell_type": "markdown",
   "metadata": {},
   "source": [
    "### Note:\n",
    "* We can tell most rating_numerators are in the range [0 , 15], so I will choose 15 as the highest boundary.\n",
    "* Ignoring reply or reweets, there are 5 tweets whose rating_numerator is far bigger than 15 given its rating_denominator is 10. As shown above, these 5 tweets' texts have decimal numbers or huge numbers. So I will manually correct those decimal numbers (3 tweets) and drop tweets containg huge numbers (2 tweets)."
   ]
  },
  {
   "cell_type": "markdown",
   "metadata": {},
   "source": [
    "### image_prediction"
   ]
  },
  {
   "cell_type": "code",
   "execution_count": 23,
   "metadata": {
    "scrolled": true
   },
   "outputs": [
    {
     "name": "stdout",
     "output_type": "stream",
     "text": [
      "<class 'pandas.core.frame.DataFrame'>\n",
      "RangeIndex: 2075 entries, 0 to 2074\n",
      "Data columns (total 12 columns):\n",
      " #   Column    Non-Null Count  Dtype  \n",
      "---  ------    --------------  -----  \n",
      " 0   tweet_id  2075 non-null   int64  \n",
      " 1   jpg_url   2075 non-null   object \n",
      " 2   img_num   2075 non-null   int64  \n",
      " 3   p1        2075 non-null   object \n",
      " 4   p1_conf   2075 non-null   float64\n",
      " 5   p1_dog    2075 non-null   bool   \n",
      " 6   p2        2075 non-null   object \n",
      " 7   p2_conf   2075 non-null   float64\n",
      " 8   p2_dog    2075 non-null   bool   \n",
      " 9   p3        2075 non-null   object \n",
      " 10  p3_conf   2075 non-null   float64\n",
      " 11  p3_dog    2075 non-null   bool   \n",
      "dtypes: bool(3), float64(3), int64(2), object(4)\n",
      "memory usage: 152.1+ KB\n"
     ]
    }
   ],
   "source": [
    "df_image.info()"
   ]
  },
  {
   "cell_type": "markdown",
   "metadata": {},
   "source": [
    "### Note:\n",
    "* tweet_id should be string type.\n",
    "* There are 2356 tweet_id in the twitter_archive. But here, only 2075 tweet_id are present which says 281 tweets are missing. They should be also included but can classify as \"misssing\"."
   ]
  },
  {
   "cell_type": "code",
   "execution_count": 24,
   "metadata": {},
   "outputs": [
    {
     "data": {
      "text/html": [
       "<div>\n",
       "<style scoped>\n",
       "    .dataframe tbody tr th:only-of-type {\n",
       "        vertical-align: middle;\n",
       "    }\n",
       "\n",
       "    .dataframe tbody tr th {\n",
       "        vertical-align: top;\n",
       "    }\n",
       "\n",
       "    .dataframe thead th {\n",
       "        text-align: right;\n",
       "    }\n",
       "</style>\n",
       "<table border=\"1\" class=\"dataframe\">\n",
       "  <thead>\n",
       "    <tr style=\"text-align: right;\">\n",
       "      <th></th>\n",
       "      <th>tweet_id</th>\n",
       "      <th>jpg_url</th>\n",
       "      <th>img_num</th>\n",
       "      <th>p1</th>\n",
       "      <th>p1_conf</th>\n",
       "      <th>p1_dog</th>\n",
       "      <th>p2</th>\n",
       "      <th>p2_conf</th>\n",
       "      <th>p2_dog</th>\n",
       "      <th>p3</th>\n",
       "      <th>p3_conf</th>\n",
       "      <th>p3_dog</th>\n",
       "    </tr>\n",
       "  </thead>\n",
       "  <tbody>\n",
       "    <tr>\n",
       "      <th>0</th>\n",
       "      <td>666020888022790149</td>\n",
       "      <td>https://pbs.twimg.com/media/CT4udn0WwAA0aMy.jpg</td>\n",
       "      <td>1</td>\n",
       "      <td>Welsh_springer_spaniel</td>\n",
       "      <td>0.465074</td>\n",
       "      <td>True</td>\n",
       "      <td>collie</td>\n",
       "      <td>0.156665</td>\n",
       "      <td>True</td>\n",
       "      <td>Shetland_sheepdog</td>\n",
       "      <td>0.061428</td>\n",
       "      <td>True</td>\n",
       "    </tr>\n",
       "    <tr>\n",
       "      <th>1</th>\n",
       "      <td>666029285002620928</td>\n",
       "      <td>https://pbs.twimg.com/media/CT42GRgUYAA5iDo.jpg</td>\n",
       "      <td>1</td>\n",
       "      <td>redbone</td>\n",
       "      <td>0.506826</td>\n",
       "      <td>True</td>\n",
       "      <td>miniature_pinscher</td>\n",
       "      <td>0.074192</td>\n",
       "      <td>True</td>\n",
       "      <td>Rhodesian_ridgeback</td>\n",
       "      <td>0.072010</td>\n",
       "      <td>True</td>\n",
       "    </tr>\n",
       "    <tr>\n",
       "      <th>2</th>\n",
       "      <td>666033412701032449</td>\n",
       "      <td>https://pbs.twimg.com/media/CT4521TWwAEvMyu.jpg</td>\n",
       "      <td>1</td>\n",
       "      <td>German_shepherd</td>\n",
       "      <td>0.596461</td>\n",
       "      <td>True</td>\n",
       "      <td>malinois</td>\n",
       "      <td>0.138584</td>\n",
       "      <td>True</td>\n",
       "      <td>bloodhound</td>\n",
       "      <td>0.116197</td>\n",
       "      <td>True</td>\n",
       "    </tr>\n",
       "    <tr>\n",
       "      <th>3</th>\n",
       "      <td>666044226329800704</td>\n",
       "      <td>https://pbs.twimg.com/media/CT5Dr8HUEAA-lEu.jpg</td>\n",
       "      <td>1</td>\n",
       "      <td>Rhodesian_ridgeback</td>\n",
       "      <td>0.408143</td>\n",
       "      <td>True</td>\n",
       "      <td>redbone</td>\n",
       "      <td>0.360687</td>\n",
       "      <td>True</td>\n",
       "      <td>miniature_pinscher</td>\n",
       "      <td>0.222752</td>\n",
       "      <td>True</td>\n",
       "    </tr>\n",
       "    <tr>\n",
       "      <th>4</th>\n",
       "      <td>666049248165822465</td>\n",
       "      <td>https://pbs.twimg.com/media/CT5IQmsXIAAKY4A.jpg</td>\n",
       "      <td>1</td>\n",
       "      <td>miniature_pinscher</td>\n",
       "      <td>0.560311</td>\n",
       "      <td>True</td>\n",
       "      <td>Rottweiler</td>\n",
       "      <td>0.243682</td>\n",
       "      <td>True</td>\n",
       "      <td>Doberman</td>\n",
       "      <td>0.154629</td>\n",
       "      <td>True</td>\n",
       "    </tr>\n",
       "    <tr>\n",
       "      <th>5</th>\n",
       "      <td>666050758794694657</td>\n",
       "      <td>https://pbs.twimg.com/media/CT5Jof1WUAEuVxN.jpg</td>\n",
       "      <td>1</td>\n",
       "      <td>Bernese_mountain_dog</td>\n",
       "      <td>0.651137</td>\n",
       "      <td>True</td>\n",
       "      <td>English_springer</td>\n",
       "      <td>0.263788</td>\n",
       "      <td>True</td>\n",
       "      <td>Greater_Swiss_Mountain_dog</td>\n",
       "      <td>0.016199</td>\n",
       "      <td>True</td>\n",
       "    </tr>\n",
       "    <tr>\n",
       "      <th>6</th>\n",
       "      <td>666051853826850816</td>\n",
       "      <td>https://pbs.twimg.com/media/CT5KoJ1WoAAJash.jpg</td>\n",
       "      <td>1</td>\n",
       "      <td>box_turtle</td>\n",
       "      <td>0.933012</td>\n",
       "      <td>False</td>\n",
       "      <td>mud_turtle</td>\n",
       "      <td>0.045885</td>\n",
       "      <td>False</td>\n",
       "      <td>terrapin</td>\n",
       "      <td>0.017885</td>\n",
       "      <td>False</td>\n",
       "    </tr>\n",
       "    <tr>\n",
       "      <th>7</th>\n",
       "      <td>666055525042405380</td>\n",
       "      <td>https://pbs.twimg.com/media/CT5N9tpXIAAifs1.jpg</td>\n",
       "      <td>1</td>\n",
       "      <td>chow</td>\n",
       "      <td>0.692517</td>\n",
       "      <td>True</td>\n",
       "      <td>Tibetan_mastiff</td>\n",
       "      <td>0.058279</td>\n",
       "      <td>True</td>\n",
       "      <td>fur_coat</td>\n",
       "      <td>0.054449</td>\n",
       "      <td>False</td>\n",
       "    </tr>\n",
       "    <tr>\n",
       "      <th>8</th>\n",
       "      <td>666057090499244032</td>\n",
       "      <td>https://pbs.twimg.com/media/CT5PY90WoAAQGLo.jpg</td>\n",
       "      <td>1</td>\n",
       "      <td>shopping_cart</td>\n",
       "      <td>0.962465</td>\n",
       "      <td>False</td>\n",
       "      <td>shopping_basket</td>\n",
       "      <td>0.014594</td>\n",
       "      <td>False</td>\n",
       "      <td>golden_retriever</td>\n",
       "      <td>0.007959</td>\n",
       "      <td>True</td>\n",
       "    </tr>\n",
       "    <tr>\n",
       "      <th>9</th>\n",
       "      <td>666058600524156928</td>\n",
       "      <td>https://pbs.twimg.com/media/CT5Qw94XAAA_2dP.jpg</td>\n",
       "      <td>1</td>\n",
       "      <td>miniature_poodle</td>\n",
       "      <td>0.201493</td>\n",
       "      <td>True</td>\n",
       "      <td>komondor</td>\n",
       "      <td>0.192305</td>\n",
       "      <td>True</td>\n",
       "      <td>soft-coated_wheaten_terrier</td>\n",
       "      <td>0.082086</td>\n",
       "      <td>True</td>\n",
       "    </tr>\n",
       "  </tbody>\n",
       "</table>\n",
       "</div>"
      ],
      "text/plain": [
       "             tweet_id                                          jpg_url  \\\n",
       "0  666020888022790149  https://pbs.twimg.com/media/CT4udn0WwAA0aMy.jpg   \n",
       "1  666029285002620928  https://pbs.twimg.com/media/CT42GRgUYAA5iDo.jpg   \n",
       "2  666033412701032449  https://pbs.twimg.com/media/CT4521TWwAEvMyu.jpg   \n",
       "3  666044226329800704  https://pbs.twimg.com/media/CT5Dr8HUEAA-lEu.jpg   \n",
       "4  666049248165822465  https://pbs.twimg.com/media/CT5IQmsXIAAKY4A.jpg   \n",
       "5  666050758794694657  https://pbs.twimg.com/media/CT5Jof1WUAEuVxN.jpg   \n",
       "6  666051853826850816  https://pbs.twimg.com/media/CT5KoJ1WoAAJash.jpg   \n",
       "7  666055525042405380  https://pbs.twimg.com/media/CT5N9tpXIAAifs1.jpg   \n",
       "8  666057090499244032  https://pbs.twimg.com/media/CT5PY90WoAAQGLo.jpg   \n",
       "9  666058600524156928  https://pbs.twimg.com/media/CT5Qw94XAAA_2dP.jpg   \n",
       "\n",
       "   img_num                      p1   p1_conf  p1_dog                  p2  \\\n",
       "0  1        Welsh_springer_spaniel  0.465074  True    collie               \n",
       "1  1        redbone                 0.506826  True    miniature_pinscher   \n",
       "2  1        German_shepherd         0.596461  True    malinois             \n",
       "3  1        Rhodesian_ridgeback     0.408143  True    redbone              \n",
       "4  1        miniature_pinscher      0.560311  True    Rottweiler           \n",
       "5  1        Bernese_mountain_dog    0.651137  True    English_springer     \n",
       "6  1        box_turtle              0.933012  False   mud_turtle           \n",
       "7  1        chow                    0.692517  True    Tibetan_mastiff      \n",
       "8  1        shopping_cart           0.962465  False   shopping_basket      \n",
       "9  1        miniature_poodle        0.201493  True    komondor             \n",
       "\n",
       "    p2_conf  p2_dog                           p3   p3_conf  p3_dog  \n",
       "0  0.156665  True    Shetland_sheepdog            0.061428  True    \n",
       "1  0.074192  True    Rhodesian_ridgeback          0.072010  True    \n",
       "2  0.138584  True    bloodhound                   0.116197  True    \n",
       "3  0.360687  True    miniature_pinscher           0.222752  True    \n",
       "4  0.243682  True    Doberman                     0.154629  True    \n",
       "5  0.263788  True    Greater_Swiss_Mountain_dog   0.016199  True    \n",
       "6  0.045885  False   terrapin                     0.017885  False   \n",
       "7  0.058279  True    fur_coat                     0.054449  False   \n",
       "8  0.014594  False   golden_retriever             0.007959  True    \n",
       "9  0.192305  True    soft-coated_wheaten_terrier  0.082086  True    "
      ]
     },
     "execution_count": 24,
     "metadata": {},
     "output_type": "execute_result"
    }
   ],
   "source": [
    "df_image.head(10)"
   ]
  },
  {
   "cell_type": "code",
   "execution_count": 25,
   "metadata": {},
   "outputs": [
    {
     "data": {
      "text/plain": [
       "324"
      ]
     },
     "execution_count": 25,
     "metadata": {},
     "output_type": "execute_result"
    }
   ],
   "source": [
    "len(df_image.query('p1_dog == False & p2_dog == False & p3_dog == False '))"
   ]
  },
  {
   "cell_type": "markdown",
   "metadata": {},
   "source": [
    "### Note:\n",
    "* Visually we can notice that in p1, p2 and p3 columns, writings are not consistent (upper case or lower case).\n",
    "* There are 324 tweets whose dogs can be recognized by the algorithm. "
   ]
  },
  {
   "cell_type": "markdown",
   "metadata": {},
   "source": [
    "### `tweet_json`"
   ]
  },
  {
   "cell_type": "code",
   "execution_count": 26,
   "metadata": {
    "scrolled": true
   },
   "outputs": [
    {
     "name": "stdout",
     "output_type": "stream",
     "text": [
      "<class 'pandas.core.frame.DataFrame'>\n",
      "RangeIndex: 2057 entries, 0 to 2056\n",
      "Data columns (total 3 columns):\n",
      " #   Column          Non-Null Count  Dtype\n",
      "---  ------          --------------  -----\n",
      " 0   id              2057 non-null   int64\n",
      " 1   favorite_count  2057 non-null   int64\n",
      " 2   retweet_count   2057 non-null   int64\n",
      "dtypes: int64(3)\n",
      "memory usage: 48.3 KB\n"
     ]
    }
   ],
   "source": [
    "df_data.info()"
   ]
  },
  {
   "cell_type": "markdown",
   "metadata": {},
   "source": [
    "### Note:\n",
    "* Again, id should be string type"
   ]
  },
  {
   "cell_type": "code",
   "execution_count": 27,
   "metadata": {},
   "outputs": [
    {
     "data": {
      "text/html": [
       "<div>\n",
       "<style scoped>\n",
       "    .dataframe tbody tr th:only-of-type {\n",
       "        vertical-align: middle;\n",
       "    }\n",
       "\n",
       "    .dataframe tbody tr th {\n",
       "        vertical-align: top;\n",
       "    }\n",
       "\n",
       "    .dataframe thead th {\n",
       "        text-align: right;\n",
       "    }\n",
       "</style>\n",
       "<table border=\"1\" class=\"dataframe\">\n",
       "  <thead>\n",
       "    <tr style=\"text-align: right;\">\n",
       "      <th></th>\n",
       "      <th>id</th>\n",
       "      <th>favorite_count</th>\n",
       "      <th>retweet_count</th>\n",
       "    </tr>\n",
       "  </thead>\n",
       "  <tbody>\n",
       "    <tr>\n",
       "      <th>0</th>\n",
       "      <td>666020888022790149</td>\n",
       "      <td>2319</td>\n",
       "      <td>435</td>\n",
       "    </tr>\n",
       "    <tr>\n",
       "      <th>1</th>\n",
       "      <td>666029285002620928</td>\n",
       "      <td>114</td>\n",
       "      <td>40</td>\n",
       "    </tr>\n",
       "    <tr>\n",
       "      <th>2</th>\n",
       "      <td>666033412701032449</td>\n",
       "      <td>102</td>\n",
       "      <td>37</td>\n",
       "    </tr>\n",
       "    <tr>\n",
       "      <th>3</th>\n",
       "      <td>666044226329800704</td>\n",
       "      <td>251</td>\n",
       "      <td>118</td>\n",
       "    </tr>\n",
       "    <tr>\n",
       "      <th>4</th>\n",
       "      <td>666049248165822465</td>\n",
       "      <td>91</td>\n",
       "      <td>37</td>\n",
       "    </tr>\n",
       "    <tr>\n",
       "      <th>5</th>\n",
       "      <td>666050758794694657</td>\n",
       "      <td>117</td>\n",
       "      <td>50</td>\n",
       "    </tr>\n",
       "    <tr>\n",
       "      <th>6</th>\n",
       "      <td>666051853826850816</td>\n",
       "      <td>1057</td>\n",
       "      <td>725</td>\n",
       "    </tr>\n",
       "    <tr>\n",
       "      <th>7</th>\n",
       "      <td>666055525042405380</td>\n",
       "      <td>382</td>\n",
       "      <td>202</td>\n",
       "    </tr>\n",
       "    <tr>\n",
       "      <th>8</th>\n",
       "      <td>666057090499244032</td>\n",
       "      <td>256</td>\n",
       "      <td>114</td>\n",
       "    </tr>\n",
       "    <tr>\n",
       "      <th>9</th>\n",
       "      <td>666058600524156928</td>\n",
       "      <td>100</td>\n",
       "      <td>49</td>\n",
       "    </tr>\n",
       "  </tbody>\n",
       "</table>\n",
       "</div>"
      ],
      "text/plain": [
       "                   id  favorite_count  retweet_count\n",
       "0  666020888022790149  2319            435          \n",
       "1  666029285002620928  114             40           \n",
       "2  666033412701032449  102             37           \n",
       "3  666044226329800704  251             118          \n",
       "4  666049248165822465  91              37           \n",
       "5  666050758794694657  117             50           \n",
       "6  666051853826850816  1057            725          \n",
       "7  666055525042405380  382             202          \n",
       "8  666057090499244032  256             114          \n",
       "9  666058600524156928  100             49           "
      ]
     },
     "execution_count": 27,
     "metadata": {},
     "output_type": "execute_result"
    }
   ],
   "source": [
    "df_data.head(10)"
   ]
  },
  {
   "cell_type": "code",
   "execution_count": 28,
   "metadata": {},
   "outputs": [
    {
     "data": {
      "text/plain": [
       "0"
      ]
     },
     "execution_count": 28,
     "metadata": {},
     "output_type": "execute_result"
    }
   ],
   "source": [
    "df_data.duplicated().sum()"
   ]
  },
  {
   "cell_type": "markdown",
   "metadata": {},
   "source": [
    "### Quality issues\n",
    "\n",
    "####  twitter_archive\n",
    "\n",
    "   1. `\"timestamp\"` should be datetime type rather object(string) and `\"tweet_id\"` should be string rather int.\n",
    "\n",
    "   2. `\"source\"` column contain unnecessary html residues, only text part should be parsed. They can be simplified as 4 types: \n",
    "       * Twitter for iPhone\n",
    "       * Vine - Make a Scene\n",
    "       * Twitter Web Client\n",
    "       * TweetDeck\n",
    "\n",
    "   3. Drop all reweets (78) and reply tweets (181).\n",
    "   \n",
    "   4. Columns of `\"in_reply_to_status_id\"`, `\"in_reply_to_user_id\"`, `\"retweeted_status_id\"`, `\"retweeted_status_user_id\"', `\"retweeted_status_timestamp\"` are not about originial tweets, so they shoule be dropped.\n",
    "\n",
    "   5. 109 inaacurate names are recorded in \"names\" column need to be dropped. 59 \"None\" names should be changed to \"NaN\".\n",
    "\n",
    "   6. There are 639 double links present in the \"expanded_urls\" column.\n",
    "\n",
    "   7. Ignoring retweets or replies tweets, There are 17 tweets with denominators that aren't 10. 4 tweets need to be manually corrected and other 13 tweets will be dropped given multiple dogs present in the original tweets.\n",
    "       * __tweet id__: 740373189193256964  __original rating__: 9/11   __new rating__: 14/10\n",
    "       * __tweet id__: 716439118184652801  __original rating__: 50/50  __new rating__: 11/10\n",
    "       * __tweet id__: 682962037429899265  __original rating__: 7/11   __new rating__: 10/10\n",
    "       * __tweet id__: 666287406224695296  __original rating__: 1/12   __new rating__: 9/10\n",
    "\n",
    "   8. Ignoring reply or reweets, there are 5 tweets whose rating_numerator is far bigger than 15 given its rating_denominator is 10. Among these 5 tweets, 3 tweets will be corrects and rest will be dropped.\n",
    "       * __tweet id__: 786709082849828864  __original rating__: 9.75/10   __new rating__: 10/10\n",
    "       * __tweet id__: 778027034220126208  __original rating__: 11.27/10  __new rating__: 11/10\n",
    "       * __tweet id__: 680494726643068929  __original rating__: 11.26/10  __new rating__: 11/10\n",
    "\n",
    "    \n",
    "#### image_prediction\n",
    "   1. `\"tweet_id\"` should be string type\n",
    "   1. `\"p1\"`, `\"p2\"` and `\"p3\"` columns, writings are not consistent (upper case or lower case).\n",
    "    \n",
    "   2. There are 324 tweets whose dogs can be recognized by the algorithm.\n",
    "    \n",
    "#### tweet_json\n",
    "   1. `\"id\"` should be string type"
   ]
  },
  {
   "cell_type": "markdown",
   "metadata": {
    "extensions": {
     "jupyter_dashboards": {
      "version": 1,
      "views": {
       "grid_default": {
        "col": 0,
        "height": 7,
        "hidden": false,
        "row": 40,
        "width": 12
       },
       "report_default": {
        "hidden": false
       }
      }
     }
    }
   },
   "source": [
    "### Tidiness issues\n",
    "\n",
    "   1. doggo, floofer, pupper, puppo all describe one property \"dog stage\" whcih violates tidiness rule, they should exist in one column.\n",
    "\n",
    "   2. Columns with numerical data are located to the far right of the tweet_archive table, which makes it difficult to readily see the data that will be used for analyses.\n",
    "   \n",
    "   3. The dog breed prediction with the highest confidence level can be combined with the tweet_archive table to make the information more comprehensive\n",
    "   \n",
    "   3. json dataframe should be combined with first table"
   ]
  },
  {
   "cell_type": "markdown",
   "metadata": {
    "extensions": {
     "jupyter_dashboards": {
      "version": 1,
      "views": {
       "grid_default": {
        "col": 4,
        "height": 4,
        "hidden": false,
        "row": 32,
        "width": 4
       },
       "report_default": {
        "hidden": false
       }
      }
     }
    }
   },
   "source": [
    "## Cleaning Data\n",
    "In this section, clean **all** of the issues you documented while assessing. \n",
    "\n",
    "**Note:** Make a copy of the original data before cleaning. Cleaning includes merging individual pieces of data according to the rules of [tidy data](https://cran.r-project.org/web/packages/tidyr/vignettes/tidy-data.html). The result should be a high-quality and tidy master pandas DataFrame (or DataFrames, if appropriate)."
   ]
  },
  {
   "cell_type": "code",
   "execution_count": 29,
   "metadata": {},
   "outputs": [],
   "source": [
    "# Make copies of original pieces of data\n",
    "twitter_archive_clean = twitter_archive.copy()\n",
    "df_image_clean = df_image.copy()\n",
    "df_data_clean = df_data.copy()"
   ]
  },
  {
   "cell_type": "markdown",
   "metadata": {},
   "source": [
    "### twitter_archive"
   ]
  },
  {
   "cell_type": "markdown",
   "metadata": {},
   "source": [
    "### Issue #1: data type inaccurancy"
   ]
  },
  {
   "cell_type": "markdown",
   "metadata": {},
   "source": [
    "#### Define: \n",
    "Change \"timestamp\" to datetime type, \"tweet_id\" to string type, \"id\" to string type"
   ]
  },
  {
   "cell_type": "markdown",
   "metadata": {},
   "source": [
    "#### Code"
   ]
  },
  {
   "cell_type": "code",
   "execution_count": 30,
   "metadata": {},
   "outputs": [],
   "source": [
    "twitter_archive_clean['timestamp'] = pd.to_datetime(twitter_archive_clean['timestamp'])\n",
    "twitter_archive_clean['tweet_id'] = twitter_archive_clean['tweet_id'].astype(str)\n",
    "df_data_clean['id'] = df_data_clean['id'].astype(str)"
   ]
  },
  {
   "cell_type": "markdown",
   "metadata": {},
   "source": [
    "#### Test"
   ]
  },
  {
   "cell_type": "code",
   "execution_count": 31,
   "metadata": {
    "scrolled": true
   },
   "outputs": [
    {
     "name": "stdout",
     "output_type": "stream",
     "text": [
      "<class 'pandas.core.frame.DataFrame'>\n",
      "RangeIndex: 2356 entries, 0 to 2355\n",
      "Data columns (total 17 columns):\n",
      " #   Column                      Non-Null Count  Dtype              \n",
      "---  ------                      --------------  -----              \n",
      " 0   tweet_id                    2356 non-null   object             \n",
      " 1   in_reply_to_status_id       78 non-null     float64            \n",
      " 2   in_reply_to_user_id         78 non-null     float64            \n",
      " 3   timestamp                   2356 non-null   datetime64[ns, UTC]\n",
      " 4   source                      2356 non-null   object             \n",
      " 5   text                        2356 non-null   object             \n",
      " 6   retweeted_status_id         181 non-null    float64            \n",
      " 7   retweeted_status_user_id    181 non-null    float64            \n",
      " 8   retweeted_status_timestamp  181 non-null    object             \n",
      " 9   expanded_urls               2297 non-null   object             \n",
      " 10  rating_numerator            2356 non-null   int64              \n",
      " 11  rating_denominator          2356 non-null   int64              \n",
      " 12  name                        2356 non-null   object             \n",
      " 13  doggo                       2356 non-null   object             \n",
      " 14  floofer                     2356 non-null   object             \n",
      " 15  pupper                      2356 non-null   object             \n",
      " 16  puppo                       2356 non-null   object             \n",
      "dtypes: datetime64[ns, UTC](1), float64(4), int64(2), object(10)\n",
      "memory usage: 313.0+ KB\n"
     ]
    }
   ],
   "source": [
    "twitter_archive_clean.info()"
   ]
  },
  {
   "cell_type": "code",
   "execution_count": 32,
   "metadata": {},
   "outputs": [
    {
     "name": "stdout",
     "output_type": "stream",
     "text": [
      "<class 'pandas.core.frame.DataFrame'>\n",
      "RangeIndex: 2057 entries, 0 to 2056\n",
      "Data columns (total 3 columns):\n",
      " #   Column          Non-Null Count  Dtype \n",
      "---  ------          --------------  ----- \n",
      " 0   id              2057 non-null   object\n",
      " 1   favorite_count  2057 non-null   int64 \n",
      " 2   retweet_count   2057 non-null   int64 \n",
      "dtypes: int64(2), object(1)\n",
      "memory usage: 48.3+ KB\n"
     ]
    }
   ],
   "source": [
    "df_data_clean.info()"
   ]
  },
  {
   "cell_type": "markdown",
   "metadata": {},
   "source": [
    "### Issue #2: reply tweets and retweets are included in the original tweet table."
   ]
  },
  {
   "cell_type": "markdown",
   "metadata": {
    "collapsed": true,
    "extensions": {
     "jupyter_dashboards": {
      "version": 1,
      "views": {
       "grid_default": {
        "hidden": true
       },
       "report_default": {
        "hidden": true
       }
      }
     }
    }
   },
   "source": [
    "#### Define \n",
    "Drop rows whose \"in_reply_to_status_id\", \"retweeted_status_user_id\" isn't null."
   ]
  },
  {
   "cell_type": "markdown",
   "metadata": {},
   "source": [
    "#### Code"
   ]
  },
  {
   "cell_type": "code",
   "execution_count": 33,
   "metadata": {},
   "outputs": [],
   "source": [
    "twitter_archive_clean = twitter_archive_clean.query('in_reply_to_status_id.isnull()', engine = 'python')\n",
    "twitter_archive_clean = twitter_archive_clean.query('retweeted_status_user_id.isnull()', engine = 'python')"
   ]
  },
  {
   "cell_type": "code",
   "execution_count": 34,
   "metadata": {
    "scrolled": false
   },
   "outputs": [],
   "source": [
    "# reset row index after dropping\n",
    "twitter_archive_clean = twitter_archive_clean.reset_index(drop=True)"
   ]
  },
  {
   "cell_type": "markdown",
   "metadata": {},
   "source": [
    "#### Test"
   ]
  },
  {
   "cell_type": "code",
   "execution_count": 35,
   "metadata": {
    "scrolled": true
   },
   "outputs": [
    {
     "name": "stdout",
     "output_type": "stream",
     "text": [
      "There are 0 reply tweets\n",
      "There are 0 retweets\n"
     ]
    }
   ],
   "source": [
    "reply_tweet = len(twitter_archive_clean.query('in_reply_to_status_id.notnull()', engine = 'python'))\n",
    "retweet = len(twitter_archive_clean.query('retweeted_status_user_id.notnull()', engine = 'python'))\n",
    "print('There are {} reply tweets'.format(reply_tweet))\n",
    "print('There are {} retweets'.format(retweet))"
   ]
  },
  {
   "cell_type": "markdown",
   "metadata": {},
   "source": [
    "### Issue #3: information about reply tweets and retweets are present in the original tweet table"
   ]
  },
  {
   "cell_type": "markdown",
   "metadata": {
    "collapsed": true,
    "extensions": {
     "jupyter_dashboards": {
      "version": 1,
      "views": {
       "grid_default": {
        "hidden": true
       },
       "report_default": {
        "hidden": true
       }
      }
     }
    }
   },
   "source": [
    "#### Define \n",
    "Drop \"in_reply_to_status_id\", \"in_reply_to_user_id\", \"retweeted_status_id\",\"retweeted_status_user_id\"',\"retweeted_status_timestamp\" columns.\n"
   ]
  },
  {
   "cell_type": "markdown",
   "metadata": {},
   "source": [
    "#### Code"
   ]
  },
  {
   "cell_type": "code",
   "execution_count": 36,
   "metadata": {},
   "outputs": [],
   "source": [
    "twitter_archive_clean = twitter_archive_clean.drop(['in_reply_to_status_id',\n",
    "                                'in_reply_to_user_id',\n",
    "                                'retweeted_status_id',\n",
    "                                'retweeted_status_user_id',\n",
    "                                'retweeted_status_timestamp'], axis = 1)"
   ]
  },
  {
   "cell_type": "markdown",
   "metadata": {},
   "source": [
    "#### Test"
   ]
  },
  {
   "cell_type": "code",
   "execution_count": 37,
   "metadata": {},
   "outputs": [
    {
     "name": "stdout",
     "output_type": "stream",
     "text": [
      "<class 'pandas.core.frame.DataFrame'>\n",
      "RangeIndex: 2097 entries, 0 to 2096\n",
      "Data columns (total 12 columns):\n",
      " #   Column              Non-Null Count  Dtype              \n",
      "---  ------              --------------  -----              \n",
      " 0   tweet_id            2097 non-null   object             \n",
      " 1   timestamp           2097 non-null   datetime64[ns, UTC]\n",
      " 2   source              2097 non-null   object             \n",
      " 3   text                2097 non-null   object             \n",
      " 4   expanded_urls       2094 non-null   object             \n",
      " 5   rating_numerator    2097 non-null   int64              \n",
      " 6   rating_denominator  2097 non-null   int64              \n",
      " 7   name                2097 non-null   object             \n",
      " 8   doggo               2097 non-null   object             \n",
      " 9   floofer             2097 non-null   object             \n",
      " 10  pupper              2097 non-null   object             \n",
      " 11  puppo               2097 non-null   object             \n",
      "dtypes: datetime64[ns, UTC](1), int64(2), object(9)\n",
      "memory usage: 196.7+ KB\n"
     ]
    }
   ],
   "source": [
    "twitter_archive_clean.info()"
   ]
  },
  {
   "cell_type": "markdown",
   "metadata": {},
   "source": [
    "### Issue #4: \"source\" column contain unnecessary html residues, only text part should be parsed."
   ]
  },
  {
   "cell_type": "markdown",
   "metadata": {
    "collapsed": true,
    "extensions": {
     "jupyter_dashboards": {
      "version": 1,
      "views": {
       "grid_default": {
        "hidden": true
       },
       "report_default": {
        "hidden": true
       }
      }
     }
    }
   },
   "source": [
    "#### Define \n",
    "Extract string between \\<a href> and \\</a> as source column"
   ]
  },
  {
   "cell_type": "markdown",
   "metadata": {},
   "source": [
    "#### Code"
   ]
  },
  {
   "cell_type": "code",
   "execution_count": 38,
   "metadata": {},
   "outputs": [
    {
     "data": {
      "text/plain": [
       "<a href=\"http://twitter.com/download/iphone\" rel=\"nofollow\">Twitter for iPhone</a>     1964\n",
       "<a href=\"http://vine.co\" rel=\"nofollow\">Vine - Make a Scene</a>                        91  \n",
       "<a href=\"http://twitter.com\" rel=\"nofollow\">Twitter Web Client</a>                     31  \n",
       "<a href=\"https://about.twitter.com/products/tweetdeck\" rel=\"nofollow\">TweetDeck</a>    11  \n",
       "Name: source, dtype: int64"
      ]
     },
     "execution_count": 38,
     "metadata": {},
     "output_type": "execute_result"
    }
   ],
   "source": [
    "twitter_archive_clean['source'].value_counts()"
   ]
  },
  {
   "cell_type": "code",
   "execution_count": 39,
   "metadata": {},
   "outputs": [],
   "source": [
    "twitter_archive_clean['source'] = twitter_archive_clean['source'].str.extract('^<\\D+>(\\D+)</a>$')"
   ]
  },
  {
   "cell_type": "markdown",
   "metadata": {},
   "source": [
    "#### Test"
   ]
  },
  {
   "cell_type": "code",
   "execution_count": 40,
   "metadata": {
    "scrolled": true
   },
   "outputs": [
    {
     "data": {
      "text/plain": [
       "Twitter for iPhone     1964\n",
       "Vine - Make a Scene    91  \n",
       "Twitter Web Client     31  \n",
       "TweetDeck              11  \n",
       "Name: source, dtype: int64"
      ]
     },
     "execution_count": 40,
     "metadata": {},
     "output_type": "execute_result"
    }
   ],
   "source": [
    "twitter_archive_clean['source'].value_counts()"
   ]
  },
  {
   "cell_type": "markdown",
   "metadata": {},
   "source": [
    "### Issue #5: Inaacurate names are recorded in \"names\" column."
   ]
  },
  {
   "cell_type": "markdown",
   "metadata": {
    "collapsed": true,
    "extensions": {
     "jupyter_dashboards": {
      "version": 1,
      "views": {
       "grid_default": {
        "hidden": true
       },
       "report_default": {
        "hidden": true
       }
      }
     }
    }
   },
   "source": [
    "#### Define \n",
    "change 109 inaacurate names and  59 \"None\" names into \"NaN\" in the \"name\" column"
   ]
  },
  {
   "cell_type": "markdown",
   "metadata": {},
   "source": [
    "#### Code"
   ]
  },
  {
   "cell_type": "code",
   "execution_count": 41,
   "metadata": {},
   "outputs": [
    {
     "data": {
      "text/plain": [
       "0"
      ]
     },
     "execution_count": 41,
     "metadata": {},
     "output_type": "execute_result"
    }
   ],
   "source": [
    "twitter_archive_clean['name'].isnull().sum()"
   ]
  },
  {
   "cell_type": "code",
   "execution_count": 42,
   "metadata": {
    "scrolled": false
   },
   "outputs": [
    {
     "data": {
      "text/plain": [
       "a               55\n",
       "the             8 \n",
       "an              6 \n",
       "very            4 \n",
       "one             4 \n",
       "just            3 \n",
       "quite           3 \n",
       "getting         2 \n",
       "not             2 \n",
       "actually        2 \n",
       "officially      1 \n",
       "life            1 \n",
       "by              1 \n",
       "unacceptable    1 \n",
       "old             1 \n",
       "space           1 \n",
       "light           1 \n",
       "mad             1 \n",
       "this            1 \n",
       "such            1 \n",
       "infuriating     1 \n",
       "his             1 \n",
       "my              1 \n",
       "incredibly      1 \n",
       "all             1 \n",
       "Name: name, dtype: int64"
      ]
     },
     "execution_count": 42,
     "metadata": {},
     "output_type": "execute_result"
    }
   ],
   "source": [
    "error_names = twitter_archive_clean['name'].str.contains('^[a-z]', regex = True)\n",
    "twitter_archive_clean[error_names]['name'].value_counts()"
   ]
  },
  {
   "cell_type": "code",
   "execution_count": 43,
   "metadata": {},
   "outputs": [],
   "source": [
    "import numpy as np\n",
    "twitter_archive_clean.loc[error_names,'name'] = 'None'"
   ]
  },
  {
   "cell_type": "markdown",
   "metadata": {},
   "source": [
    "#### Test"
   ]
  },
  {
   "cell_type": "code",
   "execution_count": 44,
   "metadata": {},
   "outputs": [
    {
     "data": {
      "text/plain": [
       "0"
      ]
     },
     "execution_count": 44,
     "metadata": {},
     "output_type": "execute_result"
    }
   ],
   "source": [
    "twitter_archive_clean['name'].str.contains('^[a-z]', regex = True).sum()"
   ]
  },
  {
   "cell_type": "markdown",
   "metadata": {},
   "source": [
    "### Issue #6: There are less than 639 double links present in the \"expanded_urls\" column."
   ]
  },
  {
   "cell_type": "markdown",
   "metadata": {
    "collapsed": true,
    "extensions": {
     "jupyter_dashboards": {
      "version": 1,
      "views": {
       "grid_default": {
        "hidden": true
       },
       "report_default": {
        "hidden": true
       }
      }
     }
    }
   },
   "source": [
    "#### Define \n",
    "extract single link and put into \"expanded_urls\" column"
   ]
  },
  {
   "cell_type": "markdown",
   "metadata": {},
   "source": [
    "#### Code"
   ]
  },
  {
   "cell_type": "code",
   "execution_count": 45,
   "metadata": {
    "scrolled": false
   },
   "outputs": [
    {
     "data": {
      "text/plain": [
       "505"
      ]
     },
     "execution_count": 45,
     "metadata": {},
     "output_type": "execute_result"
    }
   ],
   "source": [
    "twitter_archive_clean['expanded_urls'].str.contains(',', regex = True).sum()"
   ]
  },
  {
   "cell_type": "code",
   "execution_count": 46,
   "metadata": {},
   "outputs": [],
   "source": [
    "for i in range(len(twitter_archive_clean)):\n",
    "    t_id = twitter_archive_clean['tweet_id'][i]\n",
    "    url = 'https://twitter.com/dog_rates/status/{}/photo/1'.format(t_id)\n",
    "    twitter_archive_clean['expanded_urls'].replace(twitter_archive_clean['expanded_urls'][i],url,inplace=True)"
   ]
  },
  {
   "cell_type": "markdown",
   "metadata": {},
   "source": [
    "#### Test"
   ]
  },
  {
   "cell_type": "code",
   "execution_count": 47,
   "metadata": {},
   "outputs": [
    {
     "data": {
      "text/plain": [
       "0"
      ]
     },
     "execution_count": 47,
     "metadata": {},
     "output_type": "execute_result"
    }
   ],
   "source": [
    "twitter_archive_clean['expanded_urls'].str.contains(',', regex = True).sum()"
   ]
  },
  {
   "cell_type": "code",
   "execution_count": 48,
   "metadata": {},
   "outputs": [
    {
     "data": {
      "text/plain": [
       "0     https://twitter.com/dog_rates/status/892420643555336193/photo/1\n",
       "1     https://twitter.com/dog_rates/status/892177421306343426/photo/1\n",
       "2     https://twitter.com/dog_rates/status/891815181378084864/photo/1\n",
       "3     https://twitter.com/dog_rates/status/891689557279858688/photo/1\n",
       "4     https://twitter.com/dog_rates/status/891327558926688256/photo/1\n",
       "5     https://twitter.com/dog_rates/status/891087950875897856/photo/1\n",
       "6     https://twitter.com/dog_rates/status/890971913173991426/photo/1\n",
       "7     https://twitter.com/dog_rates/status/890729181411237888/photo/1\n",
       "8     https://twitter.com/dog_rates/status/890609185150312448/photo/1\n",
       "9     https://twitter.com/dog_rates/status/890240255349198849/photo/1\n",
       "10    https://twitter.com/dog_rates/status/890006608113172480/photo/1\n",
       "11    https://twitter.com/dog_rates/status/889880896479866881/photo/1\n",
       "12    https://twitter.com/dog_rates/status/889665388333682689/photo/1\n",
       "13    https://twitter.com/dog_rates/status/889638837579907072/photo/1\n",
       "14    https://twitter.com/dog_rates/status/889531135344209921/photo/1\n",
       "15    https://twitter.com/dog_rates/status/889278841981685760/photo/1\n",
       "16    https://twitter.com/dog_rates/status/888917238123831296/photo/1\n",
       "17    https://twitter.com/dog_rates/status/888804989199671297/photo/1\n",
       "18    https://twitter.com/dog_rates/status/888554962724278272/photo/1\n",
       "19    https://twitter.com/dog_rates/status/888078434458587136/photo/1\n",
       "Name: expanded_urls, dtype: object"
      ]
     },
     "execution_count": 48,
     "metadata": {},
     "output_type": "execute_result"
    }
   ],
   "source": [
    "twitter_archive_clean['expanded_urls'].head(20)"
   ]
  },
  {
   "cell_type": "markdown",
   "metadata": {},
   "source": [
    "### Issue #7: rating_denominator should be 10"
   ]
  },
  {
   "cell_type": "markdown",
   "metadata": {
    "collapsed": true,
    "extensions": {
     "jupyter_dashboards": {
      "version": 1,
      "views": {
       "grid_default": {
        "hidden": true
       },
       "report_default": {
        "hidden": true
       }
      }
     }
    }
   },
   "source": [
    "#### Define \n",
    "Ignoring retweets or replies tweets, There are 17 tweets with denominators that aren't 10. 4 tweets need to be manually corrected and other 13 tweets will be dropped given multiple dogs present in the original tweets."
   ]
  },
  {
   "cell_type": "markdown",
   "metadata": {},
   "source": [
    "#### Code"
   ]
  },
  {
   "cell_type": "code",
   "execution_count": 49,
   "metadata": {
    "scrolled": true
   },
   "outputs": [
    {
     "data": {
      "text/plain": [
       "17"
      ]
     },
     "execution_count": 49,
     "metadata": {},
     "output_type": "execute_result"
    }
   ],
   "source": [
    "# number of tweets whose rating_denominator isn't 10\n",
    "mask_columns = ['tweet_id','text', 'rating_numerator','rating_denominator']\n",
    "non10_denominator = twitter_archive_clean.query('rating_denominator != \"10\"', engine='python')[mask_columns]\n",
    "len(non10_denominator)"
   ]
  },
  {
   "cell_type": "code",
   "execution_count": 50,
   "metadata": {},
   "outputs": [
    {
     "data": {
      "text/plain": [
       "0       False\n",
       "1       False\n",
       "2       False\n",
       "3       False\n",
       "4       False\n",
       "5       False\n",
       "6       False\n",
       "7       False\n",
       "8       False\n",
       "9       False\n",
       "10      False\n",
       "11      False\n",
       "12      False\n",
       "13      False\n",
       "14      False\n",
       "15      False\n",
       "16      False\n",
       "17      False\n",
       "18      False\n",
       "19      False\n",
       "20      False\n",
       "21      False\n",
       "22      False\n",
       "23      False\n",
       "24      False\n",
       "25      False\n",
       "26      False\n",
       "27      False\n",
       "28      False\n",
       "29      False\n",
       "30      False\n",
       "31      False\n",
       "32      False\n",
       "33      False\n",
       "34      False\n",
       "35      False\n",
       "36      False\n",
       "37      False\n",
       "38      False\n",
       "39      False\n",
       "40      False\n",
       "41      False\n",
       "42      False\n",
       "43      False\n",
       "44      False\n",
       "45      False\n",
       "46      False\n",
       "47      False\n",
       "48      False\n",
       "49      False\n",
       "50      False\n",
       "51      False\n",
       "52      False\n",
       "53      False\n",
       "54      False\n",
       "55      False\n",
       "56      False\n",
       "57      False\n",
       "58      False\n",
       "59      False\n",
       "60      False\n",
       "61      False\n",
       "62      False\n",
       "63      False\n",
       "64      False\n",
       "65      False\n",
       "66      False\n",
       "67      False\n",
       "68      False\n",
       "69      False\n",
       "70      False\n",
       "71      False\n",
       "72      False\n",
       "73      False\n",
       "74      False\n",
       "75      False\n",
       "76      False\n",
       "77      False\n",
       "78      False\n",
       "79      False\n",
       "80      False\n",
       "81      False\n",
       "82      False\n",
       "83      False\n",
       "84      False\n",
       "85      False\n",
       "86      False\n",
       "87      False\n",
       "88      False\n",
       "89      False\n",
       "90      False\n",
       "91      False\n",
       "92      False\n",
       "93      False\n",
       "94      False\n",
       "95      False\n",
       "96      False\n",
       "97      False\n",
       "98      False\n",
       "99      False\n",
       "100     False\n",
       "101     False\n",
       "102     False\n",
       "103     False\n",
       "104     False\n",
       "105     False\n",
       "106     False\n",
       "107     False\n",
       "108     False\n",
       "109     False\n",
       "110     False\n",
       "111     False\n",
       "112     False\n",
       "113     False\n",
       "114     False\n",
       "115     False\n",
       "116     False\n",
       "117     False\n",
       "118     False\n",
       "119     False\n",
       "120     False\n",
       "121     False\n",
       "122     False\n",
       "123     False\n",
       "124     False\n",
       "125     False\n",
       "126     False\n",
       "127     False\n",
       "128     False\n",
       "129     False\n",
       "130     False\n",
       "131     False\n",
       "132     False\n",
       "133     False\n",
       "134     False\n",
       "135     False\n",
       "136     False\n",
       "137     False\n",
       "138     False\n",
       "139     False\n",
       "140     False\n",
       "141     False\n",
       "142     False\n",
       "143     False\n",
       "144     False\n",
       "145     False\n",
       "146     False\n",
       "147     False\n",
       "148     False\n",
       "149     False\n",
       "150     False\n",
       "151     False\n",
       "152     False\n",
       "153     False\n",
       "154     False\n",
       "155     False\n",
       "156     False\n",
       "157     False\n",
       "158     False\n",
       "159     False\n",
       "160     False\n",
       "161     False\n",
       "162     False\n",
       "163     False\n",
       "164     False\n",
       "165     False\n",
       "166     False\n",
       "167     False\n",
       "168     False\n",
       "169     False\n",
       "170     False\n",
       "171     False\n",
       "172     False\n",
       "173     False\n",
       "174     False\n",
       "175     False\n",
       "176     False\n",
       "177     False\n",
       "178     False\n",
       "179     False\n",
       "180     False\n",
       "181     False\n",
       "182     False\n",
       "183     False\n",
       "184     False\n",
       "185     False\n",
       "186     False\n",
       "187     False\n",
       "188     False\n",
       "189     False\n",
       "190     False\n",
       "191     False\n",
       "192     False\n",
       "193     False\n",
       "194     False\n",
       "195     False\n",
       "196     False\n",
       "197     False\n",
       "198     False\n",
       "199     False\n",
       "200     False\n",
       "201     False\n",
       "202     False\n",
       "203     False\n",
       "204     False\n",
       "205     False\n",
       "206     False\n",
       "207     False\n",
       "208     False\n",
       "209     False\n",
       "210     False\n",
       "211     False\n",
       "212     False\n",
       "213     False\n",
       "214     False\n",
       "215     False\n",
       "216     False\n",
       "217     False\n",
       "218     False\n",
       "219     False\n",
       "220     False\n",
       "221     False\n",
       "222     False\n",
       "223     False\n",
       "224     False\n",
       "225     False\n",
       "226     False\n",
       "227     False\n",
       "228     False\n",
       "229     False\n",
       "230     False\n",
       "231     False\n",
       "232     False\n",
       "233     False\n",
       "234     False\n",
       "235     False\n",
       "236     False\n",
       "237     False\n",
       "238     False\n",
       "239     False\n",
       "240     False\n",
       "241     False\n",
       "242     False\n",
       "243     False\n",
       "244     False\n",
       "245     False\n",
       "246     False\n",
       "247     False\n",
       "248     False\n",
       "249     False\n",
       "250     False\n",
       "251     False\n",
       "252     False\n",
       "253     False\n",
       "254     False\n",
       "255     False\n",
       "256     False\n",
       "257     False\n",
       "258     False\n",
       "259     False\n",
       "260     False\n",
       "261     False\n",
       "262     False\n",
       "263     False\n",
       "264     False\n",
       "265     False\n",
       "266     False\n",
       "267     False\n",
       "268     False\n",
       "269     False\n",
       "270     False\n",
       "271     False\n",
       "272     False\n",
       "273     False\n",
       "274     False\n",
       "275     False\n",
       "276     False\n",
       "277     False\n",
       "278     False\n",
       "279     False\n",
       "280     False\n",
       "281     False\n",
       "282     False\n",
       "283     False\n",
       "284     False\n",
       "285     False\n",
       "286     False\n",
       "287     False\n",
       "288     False\n",
       "289     False\n",
       "290     False\n",
       "291     False\n",
       "292     False\n",
       "293     False\n",
       "294     False\n",
       "295     False\n",
       "296     False\n",
       "297     False\n",
       "298     False\n",
       "299     False\n",
       "300     False\n",
       "301     False\n",
       "302     False\n",
       "303     False\n",
       "304     False\n",
       "305     False\n",
       "306     False\n",
       "307     False\n",
       "308     False\n",
       "309     False\n",
       "310     False\n",
       "311     False\n",
       "312     False\n",
       "313     False\n",
       "314     False\n",
       "315     False\n",
       "316     False\n",
       "317     False\n",
       "318     False\n",
       "319     False\n",
       "320     False\n",
       "321     False\n",
       "322     False\n",
       "323     False\n",
       "324     False\n",
       "325     False\n",
       "326     False\n",
       "327     False\n",
       "328     False\n",
       "329     False\n",
       "330     False\n",
       "331     False\n",
       "332     False\n",
       "333     False\n",
       "334     False\n",
       "335     False\n",
       "336     False\n",
       "337     False\n",
       "338     False\n",
       "339     False\n",
       "340     False\n",
       "341     False\n",
       "342     False\n",
       "343     False\n",
       "344     False\n",
       "345     False\n",
       "346     False\n",
       "347     False\n",
       "348     False\n",
       "349     False\n",
       "350     False\n",
       "351     False\n",
       "352     False\n",
       "353     False\n",
       "354     False\n",
       "355     False\n",
       "356     False\n",
       "357     False\n",
       "358     False\n",
       "359     False\n",
       "360     False\n",
       "361     False\n",
       "362     False\n",
       "363     False\n",
       "364     False\n",
       "365     False\n",
       "366     False\n",
       "367     False\n",
       "368     False\n",
       "369     False\n",
       "370     False\n",
       "371     False\n",
       "372     False\n",
       "373     False\n",
       "374     False\n",
       "375     False\n",
       "376     False\n",
       "377     False\n",
       "378     False\n",
       "379     False\n",
       "380     False\n",
       "381     False\n",
       "382     False\n",
       "383     False\n",
       "384     False\n",
       "385     False\n",
       "386     False\n",
       "387     False\n",
       "388     False\n",
       "389     False\n",
       "390     False\n",
       "391     False\n",
       "392     False\n",
       "393     False\n",
       "394     False\n",
       "395     False\n",
       "396     False\n",
       "397     False\n",
       "398     False\n",
       "399     False\n",
       "400     False\n",
       "401     False\n",
       "402     False\n",
       "403     False\n",
       "404     False\n",
       "405     False\n",
       "406     False\n",
       "407     False\n",
       "408     False\n",
       "409     False\n",
       "410     False\n",
       "411     False\n",
       "412     False\n",
       "413     False\n",
       "414     False\n",
       "415     False\n",
       "416     False\n",
       "417     False\n",
       "418     False\n",
       "419     False\n",
       "420     False\n",
       "421     False\n",
       "422     False\n",
       "423     False\n",
       "424     False\n",
       "425     False\n",
       "426     False\n",
       "427     False\n",
       "428     False\n",
       "429     False\n",
       "430     False\n",
       "431     False\n",
       "432     False\n",
       "433     False\n",
       "434     False\n",
       "435     False\n",
       "436     False\n",
       "437     False\n",
       "438     False\n",
       "439     False\n",
       "440     False\n",
       "441     False\n",
       "442     False\n",
       "443     False\n",
       "444     False\n",
       "445     False\n",
       "446     False\n",
       "447     False\n",
       "448     False\n",
       "449     False\n",
       "450     False\n",
       "451     False\n",
       "452     False\n",
       "453     False\n",
       "454     False\n",
       "455     False\n",
       "456     False\n",
       "457     False\n",
       "458     False\n",
       "459     False\n",
       "460     False\n",
       "461     False\n",
       "462     False\n",
       "463     False\n",
       "464     False\n",
       "465     False\n",
       "466     False\n",
       "467     False\n",
       "468     False\n",
       "469     False\n",
       "470     False\n",
       "471     False\n",
       "472     False\n",
       "473     False\n",
       "474     False\n",
       "475     False\n",
       "476     False\n",
       "477     False\n",
       "478     False\n",
       "479     False\n",
       "480     False\n",
       "481     False\n",
       "482     False\n",
       "483     False\n",
       "484     False\n",
       "485     False\n",
       "486     False\n",
       "487     False\n",
       "488     False\n",
       "489     False\n",
       "490     False\n",
       "491     False\n",
       "492     False\n",
       "493     False\n",
       "494     False\n",
       "495     False\n",
       "496     False\n",
       "497     False\n",
       "498     False\n",
       "499     False\n",
       "500     False\n",
       "501     False\n",
       "502     False\n",
       "503     False\n",
       "504     False\n",
       "505     False\n",
       "506     False\n",
       "507     False\n",
       "508     False\n",
       "509     False\n",
       "510     False\n",
       "511     False\n",
       "512     False\n",
       "513     False\n",
       "514     False\n",
       "515     False\n",
       "516     False\n",
       "517     False\n",
       "518     False\n",
       "519     False\n",
       "520     False\n",
       "521     False\n",
       "522     False\n",
       "523     False\n",
       "524     False\n",
       "525     False\n",
       "526     False\n",
       "527     False\n",
       "528     False\n",
       "529     False\n",
       "530     False\n",
       "531     False\n",
       "532     False\n",
       "533     False\n",
       "534     False\n",
       "535     False\n",
       "536     False\n",
       "537     False\n",
       "538     False\n",
       "539     False\n",
       "540     False\n",
       "541     False\n",
       "542     False\n",
       "543     False\n",
       "544     False\n",
       "545     False\n",
       "546     False\n",
       "547     False\n",
       "548     False\n",
       "549     False\n",
       "550     False\n",
       "551     False\n",
       "552     False\n",
       "553     False\n",
       "554     False\n",
       "555     False\n",
       "556     False\n",
       "557     False\n",
       "558     False\n",
       "559     False\n",
       "560     False\n",
       "561     False\n",
       "562     False\n",
       "563     False\n",
       "564     False\n",
       "565     False\n",
       "566     False\n",
       "567     False\n",
       "568     False\n",
       "569     False\n",
       "570     False\n",
       "571     False\n",
       "572     False\n",
       "573     False\n",
       "574     False\n",
       "575     False\n",
       "576     False\n",
       "577     False\n",
       "578     False\n",
       "579     False\n",
       "580     False\n",
       "581     False\n",
       "582     False\n",
       "583     False\n",
       "584     False\n",
       "585     False\n",
       "586     False\n",
       "587     False\n",
       "588     False\n",
       "589     False\n",
       "590     False\n",
       "591     False\n",
       "592     False\n",
       "593     False\n",
       "594     False\n",
       "595     False\n",
       "596     False\n",
       "597     False\n",
       "598     False\n",
       "599     False\n",
       "600     False\n",
       "601     False\n",
       "602     False\n",
       "603     False\n",
       "604     False\n",
       "605     False\n",
       "606     False\n",
       "607     False\n",
       "608     False\n",
       "609     False\n",
       "610     False\n",
       "611     False\n",
       "612     False\n",
       "613     False\n",
       "614     False\n",
       "615     False\n",
       "616     False\n",
       "617     False\n",
       "618     False\n",
       "619     False\n",
       "620     False\n",
       "621     False\n",
       "622     False\n",
       "623     False\n",
       "624     False\n",
       "625     False\n",
       "626     False\n",
       "627     False\n",
       "628     False\n",
       "629     False\n",
       "630     False\n",
       "631     False\n",
       "632     False\n",
       "633     False\n",
       "634     False\n",
       "635     False\n",
       "636     False\n",
       "637     False\n",
       "638     False\n",
       "639     False\n",
       "640     False\n",
       "641     False\n",
       "642     False\n",
       "643     False\n",
       "644     False\n",
       "645     False\n",
       "646     False\n",
       "647     False\n",
       "648     False\n",
       "649     False\n",
       "650     False\n",
       "651     False\n",
       "652     False\n",
       "653     False\n",
       "654     False\n",
       "655     False\n",
       "656     False\n",
       "657     False\n",
       "658     False\n",
       "659     False\n",
       "660     False\n",
       "661     False\n",
       "662     False\n",
       "663     False\n",
       "664     False\n",
       "665     False\n",
       "666     False\n",
       "667     False\n",
       "668     False\n",
       "669     False\n",
       "670     False\n",
       "671     False\n",
       "672     False\n",
       "673     False\n",
       "674     False\n",
       "675     False\n",
       "676     False\n",
       "677     False\n",
       "678     False\n",
       "679     False\n",
       "680     False\n",
       "681     False\n",
       "682     False\n",
       "683     False\n",
       "684     False\n",
       "685     False\n",
       "686     False\n",
       "687     False\n",
       "688     False\n",
       "689     False\n",
       "690     False\n",
       "691     False\n",
       "692     False\n",
       "693     False\n",
       "694     False\n",
       "695     False\n",
       "696     False\n",
       "697     False\n",
       "698     False\n",
       "699     False\n",
       "700     False\n",
       "701     False\n",
       "702     False\n",
       "703     False\n",
       "704     False\n",
       "705     False\n",
       "706     False\n",
       "707     False\n",
       "708     False\n",
       "709     False\n",
       "710     False\n",
       "711     False\n",
       "712     False\n",
       "713     False\n",
       "714     False\n",
       "715     False\n",
       "716     False\n",
       "717     False\n",
       "718     False\n",
       "719     False\n",
       "720     False\n",
       "721     False\n",
       "722     False\n",
       "723     False\n",
       "724     False\n",
       "725     False\n",
       "726     False\n",
       "727     False\n",
       "728     False\n",
       "729     False\n",
       "730     False\n",
       "731     False\n",
       "732     False\n",
       "733     False\n",
       "734     False\n",
       "735     False\n",
       "736     False\n",
       "737     False\n",
       "738     False\n",
       "739     False\n",
       "740     False\n",
       "741     False\n",
       "742     False\n",
       "743     False\n",
       "744     False\n",
       "745     False\n",
       "746     False\n",
       "747     False\n",
       "748     False\n",
       "749     False\n",
       "750     False\n",
       "751     False\n",
       "752     False\n",
       "753     False\n",
       "754     False\n",
       "755     False\n",
       "756     False\n",
       "757     False\n",
       "758     False\n",
       "759     False\n",
       "760     False\n",
       "761     False\n",
       "762     False\n",
       "763     False\n",
       "764     False\n",
       "765     False\n",
       "766     False\n",
       "767     False\n",
       "768     False\n",
       "769     False\n",
       "770     False\n",
       "771     False\n",
       "772     False\n",
       "773     False\n",
       "774     False\n",
       "775     False\n",
       "776     False\n",
       "777     False\n",
       "778     False\n",
       "779     False\n",
       "780     False\n",
       "781     False\n",
       "782     False\n",
       "783     False\n",
       "784     False\n",
       "785     False\n",
       "786     False\n",
       "787     False\n",
       "788     False\n",
       "789     False\n",
       "790     False\n",
       "791     False\n",
       "792     False\n",
       "793     False\n",
       "794     False\n",
       "795     False\n",
       "796     False\n",
       "797     False\n",
       "798     False\n",
       "799     False\n",
       "800     False\n",
       "801     False\n",
       "802     False\n",
       "803     False\n",
       "804     False\n",
       "805     False\n",
       "806     False\n",
       "807     False\n",
       "808     False\n",
       "809     False\n",
       "810     False\n",
       "811     False\n",
       "812     False\n",
       "813     False\n",
       "814     False\n",
       "815     False\n",
       "816     False\n",
       "817     False\n",
       "818     False\n",
       "819     False\n",
       "820     False\n",
       "821     False\n",
       "822     False\n",
       "823     False\n",
       "824     False\n",
       "825     False\n",
       "826     False\n",
       "827     False\n",
       "828     False\n",
       "829     False\n",
       "830     False\n",
       "831     False\n",
       "832     False\n",
       "833     False\n",
       "834     False\n",
       "835     False\n",
       "836     False\n",
       "837     False\n",
       "838     False\n",
       "839     False\n",
       "840     False\n",
       "841     False\n",
       "842     False\n",
       "843     False\n",
       "844     False\n",
       "845     False\n",
       "846     False\n",
       "847     False\n",
       "848     False\n",
       "849     False\n",
       "850     False\n",
       "851     False\n",
       "852     False\n",
       "853     False\n",
       "854     False\n",
       "855     False\n",
       "856     False\n",
       "857     False\n",
       "858     False\n",
       "859     False\n",
       "860     False\n",
       "861     False\n",
       "862     False\n",
       "863     False\n",
       "864     False\n",
       "865     False\n",
       "866     False\n",
       "867     False\n",
       "868     False\n",
       "869     False\n",
       "870     False\n",
       "871     False\n",
       "872     False\n",
       "873     False\n",
       "874     False\n",
       "875     False\n",
       "876     False\n",
       "877     False\n",
       "878     False\n",
       "879     False\n",
       "880     False\n",
       "881     False\n",
       "882     False\n",
       "883     False\n",
       "884     False\n",
       "885     False\n",
       "886     False\n",
       "887     False\n",
       "888     False\n",
       "889     False\n",
       "890     False\n",
       "891     False\n",
       "892     False\n",
       "893     False\n",
       "894     False\n",
       "895     False\n",
       "896     False\n",
       "897     False\n",
       "898     False\n",
       "899     False\n",
       "900     False\n",
       "901     False\n",
       "902     False\n",
       "903     False\n",
       "904     False\n",
       "905     False\n",
       "906     False\n",
       "907     False\n",
       "908     False\n",
       "909     False\n",
       "910     False\n",
       "911     False\n",
       "912     False\n",
       "913     False\n",
       "914     False\n",
       "915     False\n",
       "916     False\n",
       "917     False\n",
       "918     False\n",
       "919     False\n",
       "920     False\n",
       "921     False\n",
       "922     False\n",
       "923     False\n",
       "924     False\n",
       "925     False\n",
       "926     False\n",
       "927     False\n",
       "928     False\n",
       "929     False\n",
       "930     False\n",
       "931     False\n",
       "932     False\n",
       "933     False\n",
       "934     False\n",
       "935     False\n",
       "936     False\n",
       "937     False\n",
       "938     False\n",
       "939     False\n",
       "940     False\n",
       "941     False\n",
       "942     False\n",
       "943     False\n",
       "944     False\n",
       "945     False\n",
       "946     False\n",
       "947     False\n",
       "948     False\n",
       "949     False\n",
       "950     False\n",
       "951     False\n",
       "952     False\n",
       "953     False\n",
       "954     False\n",
       "955     False\n",
       "956     False\n",
       "957     False\n",
       "958     False\n",
       "959     False\n",
       "960     False\n",
       "961     False\n",
       "962     False\n",
       "963     False\n",
       "964     False\n",
       "965     False\n",
       "966     False\n",
       "967     False\n",
       "968     False\n",
       "969     False\n",
       "970     False\n",
       "971     False\n",
       "972     False\n",
       "973     False\n",
       "974     False\n",
       "975     False\n",
       "976     False\n",
       "977     False\n",
       "978     False\n",
       "979     False\n",
       "980     False\n",
       "981     False\n",
       "982     False\n",
       "983     False\n",
       "984     False\n",
       "985     False\n",
       "986     False\n",
       "987     False\n",
       "988     False\n",
       "989     False\n",
       "990     False\n",
       "991     False\n",
       "992     False\n",
       "993     False\n",
       "994     False\n",
       "995     False\n",
       "996     False\n",
       "997     False\n",
       "998     False\n",
       "999     False\n",
       "1000    False\n",
       "1001    False\n",
       "1002    False\n",
       "1003    False\n",
       "1004    False\n",
       "1005    False\n",
       "1006    False\n",
       "1007    False\n",
       "1008    False\n",
       "1009    False\n",
       "1010    False\n",
       "1011    False\n",
       "1012    False\n",
       "1013    False\n",
       "1014    False\n",
       "1015    False\n",
       "1016    False\n",
       "1017    False\n",
       "1018    False\n",
       "1019    False\n",
       "1020    False\n",
       "1021    False\n",
       "1022    False\n",
       "1023    False\n",
       "1024    False\n",
       "1025    False\n",
       "1026    False\n",
       "1027    False\n",
       "1028    False\n",
       "1029    False\n",
       "1030    False\n",
       "1031    False\n",
       "1032    False\n",
       "1033    False\n",
       "1034    False\n",
       "1035    False\n",
       "1036    False\n",
       "1037    False\n",
       "1038    False\n",
       "1039    False\n",
       "1040    False\n",
       "1041    False\n",
       "1042    False\n",
       "1043    False\n",
       "1044    False\n",
       "1045    False\n",
       "1046    False\n",
       "1047    False\n",
       "1048    False\n",
       "1049    False\n",
       "1050    False\n",
       "1051    False\n",
       "1052    False\n",
       "1053    False\n",
       "1054    False\n",
       "1055    False\n",
       "1056    False\n",
       "1057    False\n",
       "1058    False\n",
       "1059    False\n",
       "1060    False\n",
       "1061    False\n",
       "1062    False\n",
       "1063    False\n",
       "1064    False\n",
       "1065    False\n",
       "1066    False\n",
       "1067    False\n",
       "1068    False\n",
       "1069    False\n",
       "1070    False\n",
       "1071    False\n",
       "1072    False\n",
       "1073    False\n",
       "1074    False\n",
       "1075    False\n",
       "1076    False\n",
       "1077    False\n",
       "1078    False\n",
       "1079    False\n",
       "1080    False\n",
       "1081    False\n",
       "1082    False\n",
       "1083    False\n",
       "1084    False\n",
       "1085    False\n",
       "1086    False\n",
       "1087    False\n",
       "1088    False\n",
       "1089    False\n",
       "1090    False\n",
       "1091    False\n",
       "1092    False\n",
       "1093    False\n",
       "1094    False\n",
       "1095    False\n",
       "1096    False\n",
       "1097    False\n",
       "1098    False\n",
       "1099    False\n",
       "1100    False\n",
       "1101    False\n",
       "1102    False\n",
       "1103    False\n",
       "1104    False\n",
       "1105    False\n",
       "1106    False\n",
       "1107    False\n",
       "1108    False\n",
       "1109    False\n",
       "1110    False\n",
       "1111    False\n",
       "1112    False\n",
       "1113    False\n",
       "1114    False\n",
       "1115    False\n",
       "1116    False\n",
       "1117    False\n",
       "1118    False\n",
       "1119    False\n",
       "1120    False\n",
       "1121    False\n",
       "1122    False\n",
       "1123    False\n",
       "1124    False\n",
       "1125    False\n",
       "1126    False\n",
       "1127    False\n",
       "1128    False\n",
       "1129    False\n",
       "1130    False\n",
       "1131    False\n",
       "1132    False\n",
       "1133    False\n",
       "1134    False\n",
       "1135    False\n",
       "1136    False\n",
       "1137    False\n",
       "1138    False\n",
       "1139    False\n",
       "1140    False\n",
       "1141    False\n",
       "1142    False\n",
       "1143    False\n",
       "1144    False\n",
       "1145    False\n",
       "1146    False\n",
       "1147    False\n",
       "1148    False\n",
       "1149    False\n",
       "1150    False\n",
       "1151    False\n",
       "1152    False\n",
       "1153    False\n",
       "1154    False\n",
       "1155    False\n",
       "1156    False\n",
       "1157    False\n",
       "1158    False\n",
       "1159    False\n",
       "1160    False\n",
       "1161    False\n",
       "1162    False\n",
       "1163    False\n",
       "1164    False\n",
       "1165    False\n",
       "1166    False\n",
       "1167    False\n",
       "1168    False\n",
       "1169    False\n",
       "1170    False\n",
       "1171    False\n",
       "1172    False\n",
       "1173    False\n",
       "1174    False\n",
       "1175    False\n",
       "1176    False\n",
       "1177    False\n",
       "1178    False\n",
       "1179    False\n",
       "1180    False\n",
       "1181    False\n",
       "1182    False\n",
       "1183    False\n",
       "1184    False\n",
       "1185    False\n",
       "1186    False\n",
       "1187    False\n",
       "1188    False\n",
       "1189    False\n",
       "1190    False\n",
       "1191    False\n",
       "1192    False\n",
       "1193    False\n",
       "1194    False\n",
       "1195    False\n",
       "1196    False\n",
       "1197    False\n",
       "1198    False\n",
       "1199    False\n",
       "1200    False\n",
       "1201    False\n",
       "1202    False\n",
       "1203    False\n",
       "1204    False\n",
       "1205    False\n",
       "1206    False\n",
       "1207    False\n",
       "1208    False\n",
       "1209    False\n",
       "1210    False\n",
       "1211    False\n",
       "1212    False\n",
       "1213    False\n",
       "1214    False\n",
       "1215    False\n",
       "1216    False\n",
       "1217    False\n",
       "1218    False\n",
       "1219    False\n",
       "1220    False\n",
       "1221    False\n",
       "1222    False\n",
       "1223    False\n",
       "1224    False\n",
       "1225    False\n",
       "1226    False\n",
       "1227    False\n",
       "1228    False\n",
       "1229    False\n",
       "1230    False\n",
       "1231    False\n",
       "1232    False\n",
       "1233    False\n",
       "1234    False\n",
       "1235    False\n",
       "1236    False\n",
       "1237    False\n",
       "1238    False\n",
       "1239    False\n",
       "1240    False\n",
       "1241    False\n",
       "1242    False\n",
       "1243    False\n",
       "1244    False\n",
       "1245    False\n",
       "1246    False\n",
       "1247    False\n",
       "1248    False\n",
       "1249    False\n",
       "1250    False\n",
       "1251    False\n",
       "1252    False\n",
       "1253    False\n",
       "1254    False\n",
       "1255    False\n",
       "1256    False\n",
       "1257    False\n",
       "1258    False\n",
       "1259    False\n",
       "1260    False\n",
       "1261    False\n",
       "1262    False\n",
       "1263    False\n",
       "1264    False\n",
       "1265    False\n",
       "1266    False\n",
       "1267    False\n",
       "1268    False\n",
       "1269    False\n",
       "1270    False\n",
       "1271    False\n",
       "1272    False\n",
       "1273    False\n",
       "1274    False\n",
       "1275    False\n",
       "1276    False\n",
       "1277    False\n",
       "1278    False\n",
       "1279    False\n",
       "1280    False\n",
       "1281    False\n",
       "1282    False\n",
       "1283    False\n",
       "1284    False\n",
       "1285    False\n",
       "1286    False\n",
       "1287    False\n",
       "1288    False\n",
       "1289    False\n",
       "1290    False\n",
       "1291    False\n",
       "1292    False\n",
       "1293    False\n",
       "1294    False\n",
       "1295    False\n",
       "1296    False\n",
       "1297    False\n",
       "1298    False\n",
       "1299    False\n",
       "1300    False\n",
       "1301    False\n",
       "1302    False\n",
       "1303    False\n",
       "1304    False\n",
       "1305    False\n",
       "1306    False\n",
       "1307    False\n",
       "1308    False\n",
       "1309    False\n",
       "1310    False\n",
       "1311    False\n",
       "1312    False\n",
       "1313    False\n",
       "1314    False\n",
       "1315    False\n",
       "1316    False\n",
       "1317    False\n",
       "1318    False\n",
       "1319    False\n",
       "1320    False\n",
       "1321    False\n",
       "1322    False\n",
       "1323    False\n",
       "1324    False\n",
       "1325    False\n",
       "1326    False\n",
       "1327    False\n",
       "1328    False\n",
       "1329    False\n",
       "1330    False\n",
       "1331    False\n",
       "1332    False\n",
       "1333    False\n",
       "1334    False\n",
       "1335    False\n",
       "1336    False\n",
       "1337    False\n",
       "1338    False\n",
       "1339    False\n",
       "1340    False\n",
       "1341    False\n",
       "1342    False\n",
       "1343    False\n",
       "1344    False\n",
       "1345    False\n",
       "1346    False\n",
       "1347    False\n",
       "1348    False\n",
       "1349    False\n",
       "1350    False\n",
       "1351    False\n",
       "1352    False\n",
       "1353    False\n",
       "1354    False\n",
       "1355    False\n",
       "1356    False\n",
       "1357    False\n",
       "1358    False\n",
       "1359    False\n",
       "1360    False\n",
       "1361    False\n",
       "1362    False\n",
       "1363    False\n",
       "1364    False\n",
       "1365    False\n",
       "1366    False\n",
       "1367    False\n",
       "1368    False\n",
       "1369    False\n",
       "1370    False\n",
       "1371    False\n",
       "1372    False\n",
       "1373    False\n",
       "1374    False\n",
       "1375    False\n",
       "1376    False\n",
       "1377    False\n",
       "1378    False\n",
       "1379    False\n",
       "1380    False\n",
       "1381    False\n",
       "1382    False\n",
       "1383    False\n",
       "1384    False\n",
       "1385    False\n",
       "1386    False\n",
       "1387    False\n",
       "1388    False\n",
       "1389    False\n",
       "1390    False\n",
       "1391    False\n",
       "1392    False\n",
       "1393    False\n",
       "1394    False\n",
       "1395    False\n",
       "1396    False\n",
       "1397    False\n",
       "1398    False\n",
       "1399    False\n",
       "1400    False\n",
       "1401    False\n",
       "1402    False\n",
       "1403    False\n",
       "1404    False\n",
       "1405    False\n",
       "1406    False\n",
       "1407    False\n",
       "1408    False\n",
       "1409    False\n",
       "1410    False\n",
       "1411    False\n",
       "1412    False\n",
       "1413    False\n",
       "1414    False\n",
       "1415    False\n",
       "1416    False\n",
       "1417    False\n",
       "1418    False\n",
       "1419    False\n",
       "1420    False\n",
       "1421    False\n",
       "1422    False\n",
       "1423    False\n",
       "1424    False\n",
       "1425    False\n",
       "1426    False\n",
       "1427    False\n",
       "1428    False\n",
       "1429    False\n",
       "1430    False\n",
       "1431    False\n",
       "1432    False\n",
       "1433    False\n",
       "1434    False\n",
       "1435    False\n",
       "1436    False\n",
       "1437    False\n",
       "1438    False\n",
       "1439    False\n",
       "1440    False\n",
       "1441    False\n",
       "1442    False\n",
       "1443    False\n",
       "1444    False\n",
       "1445    False\n",
       "1446    False\n",
       "1447    False\n",
       "1448    False\n",
       "1449    False\n",
       "1450    False\n",
       "1451    False\n",
       "1452    False\n",
       "1453    False\n",
       "1454    False\n",
       "1455    False\n",
       "1456    False\n",
       "1457    False\n",
       "1458    False\n",
       "1459    False\n",
       "1460    False\n",
       "1461    False\n",
       "1462    False\n",
       "1463    False\n",
       "1464    False\n",
       "1465    False\n",
       "1466    False\n",
       "1467    False\n",
       "1468    False\n",
       "1469    False\n",
       "1470    False\n",
       "1471    False\n",
       "1472    False\n",
       "1473    False\n",
       "1474    False\n",
       "1475    False\n",
       "1476    False\n",
       "1477    False\n",
       "1478    False\n",
       "1479    False\n",
       "1480    False\n",
       "1481    False\n",
       "1482    False\n",
       "1483    False\n",
       "1484    False\n",
       "1485    False\n",
       "1486    False\n",
       "1487    False\n",
       "1488    False\n",
       "1489    False\n",
       "1490    False\n",
       "1491    False\n",
       "1492    False\n",
       "1493    False\n",
       "1494    False\n",
       "1495    False\n",
       "1496    False\n",
       "1497    False\n",
       "1498    False\n",
       "1499    False\n",
       "1500    False\n",
       "1501    False\n",
       "1502    False\n",
       "1503    False\n",
       "1504    False\n",
       "1505    False\n",
       "1506    False\n",
       "1507    False\n",
       "1508    False\n",
       "1509    False\n",
       "1510    False\n",
       "1511    False\n",
       "1512    False\n",
       "1513    False\n",
       "1514    False\n",
       "1515    False\n",
       "1516    False\n",
       "1517    False\n",
       "1518    False\n",
       "1519    False\n",
       "1520    False\n",
       "1521    False\n",
       "1522    False\n",
       "1523    False\n",
       "1524    False\n",
       "1525    False\n",
       "1526    False\n",
       "1527    False\n",
       "1528    False\n",
       "1529    False\n",
       "1530    False\n",
       "1531    False\n",
       "1532    False\n",
       "1533    False\n",
       "1534    False\n",
       "1535    False\n",
       "1536    False\n",
       "1537    False\n",
       "1538    False\n",
       "1539    False\n",
       "1540    False\n",
       "1541    False\n",
       "1542    False\n",
       "1543    False\n",
       "1544    False\n",
       "1545    False\n",
       "1546    False\n",
       "1547    False\n",
       "1548    False\n",
       "1549    False\n",
       "1550    False\n",
       "1551    False\n",
       "1552    False\n",
       "1553    False\n",
       "1554    False\n",
       "1555    False\n",
       "1556    False\n",
       "1557    False\n",
       "1558    False\n",
       "1559    False\n",
       "1560    False\n",
       "1561    False\n",
       "1562    False\n",
       "1563    False\n",
       "1564    False\n",
       "1565    False\n",
       "1566    False\n",
       "1567    False\n",
       "1568    False\n",
       "1569    False\n",
       "1570    False\n",
       "1571    False\n",
       "1572    False\n",
       "1573    False\n",
       "1574    False\n",
       "1575    False\n",
       "1576    False\n",
       "1577    False\n",
       "1578    False\n",
       "1579    False\n",
       "1580    False\n",
       "1581    False\n",
       "1582    False\n",
       "1583    False\n",
       "1584    False\n",
       "1585    False\n",
       "1586    False\n",
       "1587    False\n",
       "1588    False\n",
       "1589    False\n",
       "1590    False\n",
       "1591    False\n",
       "1592    False\n",
       "1593    False\n",
       "1594    False\n",
       "1595    False\n",
       "1596    False\n",
       "1597    False\n",
       "1598    False\n",
       "1599    False\n",
       "1600    False\n",
       "1601    False\n",
       "1602    False\n",
       "1603    False\n",
       "1604    False\n",
       "1605    False\n",
       "1606    False\n",
       "1607    False\n",
       "1608    False\n",
       "1609    False\n",
       "1610    False\n",
       "1611    False\n",
       "1612    False\n",
       "1613    False\n",
       "1614    False\n",
       "1615    False\n",
       "1616    False\n",
       "1617    False\n",
       "1618    False\n",
       "1619    False\n",
       "1620    False\n",
       "1621    False\n",
       "1622    False\n",
       "1623    False\n",
       "1624    False\n",
       "1625    False\n",
       "1626    False\n",
       "1627    False\n",
       "1628    False\n",
       "1629    False\n",
       "1630    False\n",
       "1631    False\n",
       "1632    False\n",
       "1633    False\n",
       "1634    False\n",
       "1635    False\n",
       "1636    False\n",
       "1637    False\n",
       "1638    False\n",
       "1639    False\n",
       "1640    False\n",
       "1641    False\n",
       "1642    False\n",
       "1643    False\n",
       "1644    False\n",
       "1645    False\n",
       "1646    False\n",
       "1647    False\n",
       "1648    False\n",
       "1649    False\n",
       "1650    False\n",
       "1651    False\n",
       "1652    False\n",
       "1653    False\n",
       "1654    False\n",
       "1655    False\n",
       "1656    False\n",
       "1657    False\n",
       "1658    False\n",
       "1659    False\n",
       "1660    False\n",
       "1661    False\n",
       "1662    False\n",
       "1663    False\n",
       "1664    False\n",
       "1665    False\n",
       "1666    False\n",
       "1667    False\n",
       "1668    False\n",
       "1669    False\n",
       "1670    False\n",
       "1671    False\n",
       "1672    False\n",
       "1673    False\n",
       "1674    False\n",
       "1675    False\n",
       "1676    False\n",
       "1677    False\n",
       "1678    False\n",
       "1679    False\n",
       "1680    False\n",
       "1681    False\n",
       "1682    False\n",
       "1683    False\n",
       "1684    False\n",
       "1685    False\n",
       "1686    False\n",
       "1687    False\n",
       "1688    False\n",
       "1689    False\n",
       "1690    False\n",
       "1691    False\n",
       "1692    False\n",
       "1693    False\n",
       "1694    False\n",
       "1695    False\n",
       "1696    False\n",
       "1697    False\n",
       "1698    False\n",
       "1699    False\n",
       "1700    False\n",
       "1701    False\n",
       "1702    False\n",
       "1703    False\n",
       "1704    False\n",
       "1705    False\n",
       "1706    False\n",
       "1707    False\n",
       "1708    False\n",
       "1709    False\n",
       "1710    False\n",
       "1711    False\n",
       "1712    False\n",
       "1713    False\n",
       "1714    False\n",
       "1715    False\n",
       "1716    False\n",
       "1717    False\n",
       "1718    False\n",
       "1719    False\n",
       "1720    False\n",
       "1721    False\n",
       "1722    False\n",
       "1723    False\n",
       "1724    False\n",
       "1725    False\n",
       "1726    False\n",
       "1727    False\n",
       "1728    False\n",
       "1729    False\n",
       "1730    False\n",
       "1731    False\n",
       "1732    False\n",
       "1733    False\n",
       "1734    False\n",
       "1735    False\n",
       "1736    False\n",
       "1737    False\n",
       "1738    False\n",
       "1739    False\n",
       "1740    False\n",
       "1741    False\n",
       "1742    False\n",
       "1743    False\n",
       "1744    False\n",
       "1745    False\n",
       "1746    False\n",
       "1747    False\n",
       "1748    False\n",
       "1749    False\n",
       "1750    False\n",
       "1751    False\n",
       "1752    False\n",
       "1753    False\n",
       "1754    False\n",
       "1755    False\n",
       "1756    False\n",
       "1757    False\n",
       "1758    False\n",
       "1759    False\n",
       "1760    False\n",
       "1761    False\n",
       "1762    False\n",
       "1763    False\n",
       "1764    False\n",
       "1765    False\n",
       "1766    False\n",
       "1767    False\n",
       "1768    False\n",
       "1769    False\n",
       "1770    False\n",
       "1771    False\n",
       "1772    False\n",
       "1773    False\n",
       "1774    False\n",
       "1775    False\n",
       "1776    False\n",
       "1777    False\n",
       "1778    False\n",
       "1779    False\n",
       "1780    False\n",
       "1781    False\n",
       "1782    False\n",
       "1783    False\n",
       "1784    False\n",
       "1785    False\n",
       "1786    False\n",
       "1787    False\n",
       "1788    False\n",
       "1789    False\n",
       "1790    False\n",
       "1791    False\n",
       "1792    False\n",
       "1793    False\n",
       "1794    False\n",
       "1795    False\n",
       "1796    False\n",
       "1797    False\n",
       "1798    False\n",
       "1799    False\n",
       "1800    False\n",
       "1801    False\n",
       "1802    False\n",
       "1803    False\n",
       "1804    False\n",
       "1805    False\n",
       "1806    False\n",
       "1807    False\n",
       "1808    False\n",
       "1809    False\n",
       "1810    False\n",
       "1811    False\n",
       "1812    False\n",
       "1813    False\n",
       "1814    False\n",
       "1815    False\n",
       "1816    False\n",
       "1817    False\n",
       "1818    False\n",
       "1819    False\n",
       "1820    False\n",
       "1821    False\n",
       "1822    False\n",
       "1823    False\n",
       "1824    False\n",
       "1825    False\n",
       "1826    False\n",
       "1827    False\n",
       "1828    False\n",
       "1829    False\n",
       "1830    False\n",
       "1831    False\n",
       "1832    False\n",
       "1833    False\n",
       "1834    False\n",
       "1835    False\n",
       "1836    False\n",
       "1837    False\n",
       "1838    False\n",
       "1839    False\n",
       "1840    False\n",
       "1841    False\n",
       "1842    False\n",
       "1843    False\n",
       "1844    False\n",
       "1845    False\n",
       "1846    False\n",
       "1847    False\n",
       "1848    False\n",
       "1849    False\n",
       "1850    False\n",
       "1851    False\n",
       "1852    False\n",
       "1853    False\n",
       "1854    False\n",
       "1855    False\n",
       "1856    False\n",
       "1857    False\n",
       "1858    False\n",
       "1859    False\n",
       "1860    False\n",
       "1861    False\n",
       "1862    False\n",
       "1863    False\n",
       "1864    False\n",
       "1865    False\n",
       "1866    False\n",
       "1867    False\n",
       "1868    False\n",
       "1869    False\n",
       "1870    False\n",
       "1871    False\n",
       "1872    False\n",
       "1873    False\n",
       "1874    False\n",
       "1875    False\n",
       "1876    False\n",
       "1877    False\n",
       "1878    False\n",
       "1879    False\n",
       "1880    False\n",
       "1881    False\n",
       "1882    False\n",
       "1883    False\n",
       "1884    False\n",
       "1885    False\n",
       "1886    False\n",
       "1887    False\n",
       "1888    False\n",
       "1889    False\n",
       "1890    False\n",
       "1891    False\n",
       "1892    False\n",
       "1893    False\n",
       "1894    False\n",
       "1895    False\n",
       "1896    False\n",
       "1897    False\n",
       "1898    False\n",
       "1899    False\n",
       "1900    False\n",
       "1901    False\n",
       "1902    False\n",
       "1903    False\n",
       "1904    False\n",
       "1905    False\n",
       "1906    False\n",
       "1907    False\n",
       "1908    False\n",
       "1909    False\n",
       "1910    False\n",
       "1911    False\n",
       "1912    False\n",
       "1913    False\n",
       "1914    False\n",
       "1915    False\n",
       "1916    False\n",
       "1917    False\n",
       "1918    False\n",
       "1919    False\n",
       "1920    False\n",
       "1921    False\n",
       "1922    False\n",
       "1923    False\n",
       "1924    False\n",
       "1925    False\n",
       "1926    False\n",
       "1927    False\n",
       "1928    False\n",
       "1929    False\n",
       "1930    False\n",
       "1931    False\n",
       "1932    False\n",
       "1933    False\n",
       "1934    False\n",
       "1935    False\n",
       "1936    False\n",
       "1937    False\n",
       "1938    False\n",
       "1939    False\n",
       "1940    False\n",
       "1941    False\n",
       "1942    False\n",
       "1943    False\n",
       "1944    False\n",
       "1945    False\n",
       "1946    False\n",
       "1947    False\n",
       "1948    False\n",
       "1949    False\n",
       "1950    False\n",
       "1951    False\n",
       "1952    False\n",
       "1953    False\n",
       "1954    False\n",
       "1955    False\n",
       "1956    False\n",
       "1957    False\n",
       "1958    False\n",
       "1959    False\n",
       "1960    False\n",
       "1961    False\n",
       "1962    False\n",
       "1963    False\n",
       "1964    False\n",
       "1965    False\n",
       "1966    False\n",
       "1967    False\n",
       "1968    False\n",
       "1969    False\n",
       "1970    False\n",
       "1971    False\n",
       "1972    False\n",
       "1973    False\n",
       "1974    False\n",
       "1975    False\n",
       "1976    False\n",
       "1977    False\n",
       "1978    False\n",
       "1979    False\n",
       "1980    False\n",
       "1981    False\n",
       "1982    False\n",
       "1983    False\n",
       "1984    False\n",
       "1985    False\n",
       "1986    False\n",
       "1987    False\n",
       "1988    False\n",
       "1989    False\n",
       "1990    False\n",
       "1991    False\n",
       "1992    False\n",
       "1993    False\n",
       "1994    False\n",
       "1995    False\n",
       "1996    False\n",
       "1997    False\n",
       "1998    False\n",
       "1999    False\n",
       "2000    False\n",
       "2001    False\n",
       "2002    False\n",
       "2003    False\n",
       "2004    False\n",
       "2005    False\n",
       "2006    False\n",
       "2007    False\n",
       "2008    False\n",
       "2009    False\n",
       "2010    False\n",
       "2011    False\n",
       "2012    False\n",
       "2013    False\n",
       "2014    False\n",
       "2015    False\n",
       "2016    False\n",
       "2017    False\n",
       "2018    False\n",
       "2019    False\n",
       "2020    False\n",
       "2021    False\n",
       "2022    False\n",
       "2023    False\n",
       "2024    False\n",
       "2025    False\n",
       "2026    False\n",
       "2027    False\n",
       "2028    False\n",
       "2029    False\n",
       "2030    False\n",
       "2031    False\n",
       "2032    False\n",
       "2033    False\n",
       "2034    False\n",
       "2035    False\n",
       "2036    False\n",
       "2037    False\n",
       "2038    False\n",
       "2039    False\n",
       "2040    False\n",
       "2041    False\n",
       "2042    False\n",
       "2043    False\n",
       "2044    False\n",
       "2045    False\n",
       "2046    False\n",
       "2047    False\n",
       "2048    False\n",
       "2049    False\n",
       "2050    False\n",
       "2051    False\n",
       "2052    False\n",
       "2053    False\n",
       "2054    False\n",
       "2055    False\n",
       "2056    False\n",
       "2057    False\n",
       "2058    False\n",
       "2059    False\n",
       "2060    False\n",
       "2061    False\n",
       "2062    False\n",
       "2063    False\n",
       "2064    False\n",
       "2065    False\n",
       "2066    False\n",
       "2067    False\n",
       "2068    False\n",
       "2069    False\n",
       "2070    False\n",
       "2071    False\n",
       "2072    False\n",
       "2073    False\n",
       "2074    False\n",
       "2075    False\n",
       "2076    False\n",
       "2077    False\n",
       "2078    False\n",
       "2079    False\n",
       "2080    False\n",
       "2081    False\n",
       "2082    False\n",
       "2083    False\n",
       "2084    False\n",
       "2085    False\n",
       "2086    False\n",
       "2087    False\n",
       "2088    False\n",
       "2089    False\n",
       "2090    False\n",
       "2091    False\n",
       "2092    False\n",
       "2093    False\n",
       "2094    False\n",
       "2095    False\n",
       "2096    False\n",
       "Name: tweet_id, dtype: bool"
      ]
     },
     "execution_count": 50,
     "metadata": {},
     "output_type": "execute_result"
    }
   ],
   "source": [
    "twitter_archive_clean.tweet_id == 740373189193256964"
   ]
  },
  {
   "cell_type": "code",
   "execution_count": 51,
   "metadata": {},
   "outputs": [],
   "source": [
    "# manually fixing rating of four tweets\n",
    "row = twitter_archive_clean.tweet_id == \"740373189193256964\"\n",
    "twitter_archive_clean.loc[row, 'rating_numerator'] = 14\n",
    "twitter_archive_clean.loc[row, 'rating_denominator'] = 10"
   ]
  },
  {
   "cell_type": "code",
   "execution_count": 52,
   "metadata": {},
   "outputs": [],
   "source": [
    "row = twitter_archive_clean.tweet_id == \"716439118184652801\"\n",
    "twitter_archive_clean.loc[row, 'rating_numerator'] = 11\n",
    "twitter_archive_clean.loc[row, 'rating_denominator'] = 10"
   ]
  },
  {
   "cell_type": "code",
   "execution_count": 53,
   "metadata": {},
   "outputs": [],
   "source": [
    "row = twitter_archive_clean.tweet_id == \"682962037429899265\"\n",
    "twitter_archive_clean.loc[row, 'rating_numerator'] = 10\n",
    "twitter_archive_clean.loc[row, 'rating_denominator'] = 10"
   ]
  },
  {
   "cell_type": "code",
   "execution_count": 54,
   "metadata": {},
   "outputs": [],
   "source": [
    "row = twitter_archive_clean.tweet_id == \"666287406224695296\"\n",
    "twitter_archive_clean.loc[row, 'rating_numerator'] = 9\n",
    "twitter_archive_clean.loc[row, 'rating_denominator'] = 10"
   ]
  },
  {
   "cell_type": "code",
   "execution_count": 55,
   "metadata": {},
   "outputs": [],
   "source": [
    "# drop rest 13 tweets whose rating_denominator isn't 10 and there are multiple dogs present in their images\n",
    "drop_rows = twitter_archive_clean.query('rating_denominator != 10')\n",
    "twitter_archive_clean = twitter_archive_clean.drop(drop_rows.index, axis = 0)"
   ]
  },
  {
   "cell_type": "code",
   "execution_count": 56,
   "metadata": {},
   "outputs": [],
   "source": [
    "# reset row index after dropping\n",
    "twitter_archive_clean = twitter_archive_clean.reset_index(drop=True)"
   ]
  },
  {
   "cell_type": "markdown",
   "metadata": {},
   "source": [
    "#### Test"
   ]
  },
  {
   "cell_type": "code",
   "execution_count": 57,
   "metadata": {
    "scrolled": true
   },
   "outputs": [
    {
     "data": {
      "text/html": [
       "<div>\n",
       "<style scoped>\n",
       "    .dataframe tbody tr th:only-of-type {\n",
       "        vertical-align: middle;\n",
       "    }\n",
       "\n",
       "    .dataframe tbody tr th {\n",
       "        vertical-align: top;\n",
       "    }\n",
       "\n",
       "    .dataframe thead th {\n",
       "        text-align: right;\n",
       "    }\n",
       "</style>\n",
       "<table border=\"1\" class=\"dataframe\">\n",
       "  <thead>\n",
       "    <tr style=\"text-align: right;\">\n",
       "      <th></th>\n",
       "      <th>tweet_id</th>\n",
       "      <th>timestamp</th>\n",
       "      <th>source</th>\n",
       "      <th>text</th>\n",
       "      <th>expanded_urls</th>\n",
       "      <th>rating_numerator</th>\n",
       "      <th>rating_denominator</th>\n",
       "      <th>name</th>\n",
       "      <th>doggo</th>\n",
       "      <th>floofer</th>\n",
       "      <th>pupper</th>\n",
       "      <th>puppo</th>\n",
       "    </tr>\n",
       "  </thead>\n",
       "  <tbody>\n",
       "    <tr>\n",
       "      <th>850</th>\n",
       "      <td>740373189193256964</td>\n",
       "      <td>2016-06-08 02:41:38+00:00</td>\n",
       "      <td>Twitter for iPhone</td>\n",
       "      <td>After so many requests, this is Bretagne. She was the last surviving 9/11 search dog, and our second ever 14/10. RIP https://t.co/XAVDNDaVgQ</td>\n",
       "      <td>https://twitter.com/dog_rates/status/740373189193256964/photo/1</td>\n",
       "      <td>14</td>\n",
       "      <td>10</td>\n",
       "      <td>None</td>\n",
       "      <td>None</td>\n",
       "      <td>None</td>\n",
       "      <td>None</td>\n",
       "      <td>None</td>\n",
       "    </tr>\n",
       "    <tr>\n",
       "      <th>980</th>\n",
       "      <td>716439118184652801</td>\n",
       "      <td>2016-04-03 01:36:11+00:00</td>\n",
       "      <td>Twitter for iPhone</td>\n",
       "      <td>This is Bluebert. He just saw that both #FinalFur match ups are split 50/50. Amazed af. 11/10 https://t.co/Kky1DPG4iq</td>\n",
       "      <td>https://twitter.com/dog_rates/status/716439118184652801/photo/1</td>\n",
       "      <td>11</td>\n",
       "      <td>10</td>\n",
       "      <td>Bluebert</td>\n",
       "      <td>None</td>\n",
       "      <td>None</td>\n",
       "      <td>None</td>\n",
       "      <td>None</td>\n",
       "    </tr>\n",
       "    <tr>\n",
       "      <th>1415</th>\n",
       "      <td>682962037429899265</td>\n",
       "      <td>2016-01-01 16:30:13+00:00</td>\n",
       "      <td>Twitter for iPhone</td>\n",
       "      <td>This is Darrel. He just robbed a 7/11 and is in a high speed police chase. Was just spotted by the helicopter 10/10 https://t.co/7EsP8LmSp5</td>\n",
       "      <td>https://twitter.com/dog_rates/status/682962037429899265/photo/1</td>\n",
       "      <td>10</td>\n",
       "      <td>10</td>\n",
       "      <td>Darrel</td>\n",
       "      <td>None</td>\n",
       "      <td>None</td>\n",
       "      <td>None</td>\n",
       "      <td>None</td>\n",
       "    </tr>\n",
       "    <tr>\n",
       "      <th>2063</th>\n",
       "      <td>666287406224695296</td>\n",
       "      <td>2015-11-16 16:11:11+00:00</td>\n",
       "      <td>Twitter for iPhone</td>\n",
       "      <td>This is an Albanian 3 1/2 legged  Episcopalian. Loves well-polished hardwood flooring. Penis on the collar. 9/10 https://t.co/d9NcXFKwLv</td>\n",
       "      <td>https://twitter.com/dog_rates/status/666287406224695296/photo/1</td>\n",
       "      <td>9</td>\n",
       "      <td>10</td>\n",
       "      <td>None</td>\n",
       "      <td>None</td>\n",
       "      <td>None</td>\n",
       "      <td>None</td>\n",
       "      <td>None</td>\n",
       "    </tr>\n",
       "  </tbody>\n",
       "</table>\n",
       "</div>"
      ],
      "text/plain": [
       "                tweet_id                 timestamp              source  \\\n",
       "850   740373189193256964 2016-06-08 02:41:38+00:00  Twitter for iPhone   \n",
       "980   716439118184652801 2016-04-03 01:36:11+00:00  Twitter for iPhone   \n",
       "1415  682962037429899265 2016-01-01 16:30:13+00:00  Twitter for iPhone   \n",
       "2063  666287406224695296 2015-11-16 16:11:11+00:00  Twitter for iPhone   \n",
       "\n",
       "                                                                                                                                              text  \\\n",
       "850   After so many requests, this is Bretagne. She was the last surviving 9/11 search dog, and our second ever 14/10. RIP https://t.co/XAVDNDaVgQ   \n",
       "980   This is Bluebert. He just saw that both #FinalFur match ups are split 50/50. Amazed af. 11/10 https://t.co/Kky1DPG4iq                          \n",
       "1415  This is Darrel. He just robbed a 7/11 and is in a high speed police chase. Was just spotted by the helicopter 10/10 https://t.co/7EsP8LmSp5    \n",
       "2063  This is an Albanian 3 1/2 legged  Episcopalian. Loves well-polished hardwood flooring. Penis on the collar. 9/10 https://t.co/d9NcXFKwLv       \n",
       "\n",
       "                                                        expanded_urls  \\\n",
       "850   https://twitter.com/dog_rates/status/740373189193256964/photo/1   \n",
       "980   https://twitter.com/dog_rates/status/716439118184652801/photo/1   \n",
       "1415  https://twitter.com/dog_rates/status/682962037429899265/photo/1   \n",
       "2063  https://twitter.com/dog_rates/status/666287406224695296/photo/1   \n",
       "\n",
       "      rating_numerator  rating_denominator      name doggo floofer pupper  \\\n",
       "850   14                10                  None      None  None    None    \n",
       "980   11                10                  Bluebert  None  None    None    \n",
       "1415  10                10                  Darrel    None  None    None    \n",
       "2063  9                 10                  None      None  None    None    \n",
       "\n",
       "     puppo  \n",
       "850   None  \n",
       "980   None  \n",
       "1415  None  \n",
       "2063  None  "
      ]
     },
     "execution_count": 57,
     "metadata": {},
     "output_type": "execute_result"
    }
   ],
   "source": [
    "twitter_archive_clean[(twitter_archive_clean.tweet_id == \"740373189193256964\") | \n",
    "                      (twitter_archive_clean.tweet_id == \"716439118184652801\") | \n",
    "                      (twitter_archive_clean.tweet_id == \"682962037429899265\") |\n",
    "                      (twitter_archive_clean.tweet_id == \"666287406224695296\")]\n",
    "                     "
   ]
  },
  {
   "cell_type": "code",
   "execution_count": 58,
   "metadata": {},
   "outputs": [
    {
     "data": {
      "text/plain": [
       "0"
      ]
     },
     "execution_count": 58,
     "metadata": {},
     "output_type": "execute_result"
    }
   ],
   "source": [
    "len(twitter_archive_clean.query('rating_denominator != \"10\"'))"
   ]
  },
  {
   "cell_type": "markdown",
   "metadata": {},
   "source": [
    "### Issue #8: rating_numerator"
   ]
  },
  {
   "cell_type": "markdown",
   "metadata": {
    "collapsed": true,
    "extensions": {
     "jupyter_dashboards": {
      "version": 1,
      "views": {
       "grid_default": {
        "hidden": true
       },
       "report_default": {
        "hidden": true
       }
      }
     }
    }
   },
   "source": [
    "#### Define \n",
    "Ignoring reply or reweets, there are 5 tweets whose rating_numerator is far bigger than 15 given its rating_denominator is 10. Among these 5 tweets, 3 tweets will be corrects and rest will be dropped."
   ]
  },
  {
   "cell_type": "markdown",
   "metadata": {},
   "source": [
    "#### Code"
   ]
  },
  {
   "cell_type": "code",
   "execution_count": 59,
   "metadata": {},
   "outputs": [
    {
     "data": {
      "text/html": [
       "<div>\n",
       "<style scoped>\n",
       "    .dataframe tbody tr th:only-of-type {\n",
       "        vertical-align: middle;\n",
       "    }\n",
       "\n",
       "    .dataframe tbody tr th {\n",
       "        vertical-align: top;\n",
       "    }\n",
       "\n",
       "    .dataframe thead th {\n",
       "        text-align: right;\n",
       "    }\n",
       "</style>\n",
       "<table border=\"1\" class=\"dataframe\">\n",
       "  <thead>\n",
       "    <tr style=\"text-align: right;\">\n",
       "      <th></th>\n",
       "      <th>tweet_id</th>\n",
       "      <th>timestamp</th>\n",
       "      <th>source</th>\n",
       "      <th>text</th>\n",
       "      <th>expanded_urls</th>\n",
       "      <th>rating_numerator</th>\n",
       "      <th>rating_denominator</th>\n",
       "      <th>name</th>\n",
       "      <th>doggo</th>\n",
       "      <th>floofer</th>\n",
       "      <th>pupper</th>\n",
       "      <th>puppo</th>\n",
       "    </tr>\n",
       "  </thead>\n",
       "  <tbody>\n",
       "    <tr>\n",
       "      <th>526</th>\n",
       "      <td>786709082849828864</td>\n",
       "      <td>2016-10-13 23:23:56+00:00</td>\n",
       "      <td>Twitter for iPhone</td>\n",
       "      <td>This is Logan, the Chow who lived. He solemnly swears he's up to lots of good. H*ckin magical af 9.75/10 https://t.co/yBO5wuqaPS</td>\n",
       "      <td>https://twitter.com/dog_rates/status/786709082849828864/photo/1</td>\n",
       "      <td>75</td>\n",
       "      <td>10</td>\n",
       "      <td>Logan</td>\n",
       "      <td>None</td>\n",
       "      <td>None</td>\n",
       "      <td>None</td>\n",
       "      <td>None</td>\n",
       "    </tr>\n",
       "    <tr>\n",
       "      <th>584</th>\n",
       "      <td>778027034220126208</td>\n",
       "      <td>2016-09-20 00:24:34+00:00</td>\n",
       "      <td>Twitter for iPhone</td>\n",
       "      <td>This is Sophie. She's a Jubilant Bush Pupper. Super h*ckin rare. Appears at random just to smile at the locals. 11.27/10 would smile back https://t.co/QFaUiIHxHq</td>\n",
       "      <td>https://twitter.com/dog_rates/status/778027034220126208/photo/1</td>\n",
       "      <td>27</td>\n",
       "      <td>10</td>\n",
       "      <td>Sophie</td>\n",
       "      <td>None</td>\n",
       "      <td>None</td>\n",
       "      <td>pupper</td>\n",
       "      <td>None</td>\n",
       "    </tr>\n",
       "    <tr>\n",
       "      <th>767</th>\n",
       "      <td>749981277374128128</td>\n",
       "      <td>2016-07-04 15:00:45+00:00</td>\n",
       "      <td>TweetDeck</td>\n",
       "      <td>This is Atticus. He's quite simply America af. 1776/10 https://t.co/GRXwMxLBkh</td>\n",
       "      <td>https://twitter.com/dog_rates/status/749981277374128128/photo/1</td>\n",
       "      <td>1776</td>\n",
       "      <td>10</td>\n",
       "      <td>Atticus</td>\n",
       "      <td>None</td>\n",
       "      <td>None</td>\n",
       "      <td>None</td>\n",
       "      <td>None</td>\n",
       "    </tr>\n",
       "    <tr>\n",
       "      <th>1463</th>\n",
       "      <td>680494726643068929</td>\n",
       "      <td>2015-12-25 21:06:00+00:00</td>\n",
       "      <td>Twitter for iPhone</td>\n",
       "      <td>Here we have uncovered an entire battalion of holiday puppers. Average of 11.26/10 https://t.co/eNm2S6p9BD</td>\n",
       "      <td>https://twitter.com/dog_rates/status/680494726643068929/photo/1</td>\n",
       "      <td>26</td>\n",
       "      <td>10</td>\n",
       "      <td>None</td>\n",
       "      <td>None</td>\n",
       "      <td>None</td>\n",
       "      <td>None</td>\n",
       "      <td>None</td>\n",
       "    </tr>\n",
       "    <tr>\n",
       "      <th>1808</th>\n",
       "      <td>670842764863651840</td>\n",
       "      <td>2015-11-29 05:52:33+00:00</td>\n",
       "      <td>Twitter for iPhone</td>\n",
       "      <td>After so many requests... here you go.\\n\\nGood dogg. 420/10 https://t.co/yfAAo1gdeY</td>\n",
       "      <td>https://twitter.com/dog_rates/status/670842764863651840/photo/1</td>\n",
       "      <td>420</td>\n",
       "      <td>10</td>\n",
       "      <td>None</td>\n",
       "      <td>None</td>\n",
       "      <td>None</td>\n",
       "      <td>None</td>\n",
       "      <td>None</td>\n",
       "    </tr>\n",
       "  </tbody>\n",
       "</table>\n",
       "</div>"
      ],
      "text/plain": [
       "                tweet_id                 timestamp              source  \\\n",
       "526   786709082849828864 2016-10-13 23:23:56+00:00  Twitter for iPhone   \n",
       "584   778027034220126208 2016-09-20 00:24:34+00:00  Twitter for iPhone   \n",
       "767   749981277374128128 2016-07-04 15:00:45+00:00  TweetDeck            \n",
       "1463  680494726643068929 2015-12-25 21:06:00+00:00  Twitter for iPhone   \n",
       "1808  670842764863651840 2015-11-29 05:52:33+00:00  Twitter for iPhone   \n",
       "\n",
       "                                                                                                                                                                   text  \\\n",
       "526   This is Logan, the Chow who lived. He solemnly swears he's up to lots of good. H*ckin magical af 9.75/10 https://t.co/yBO5wuqaPS                                    \n",
       "584   This is Sophie. She's a Jubilant Bush Pupper. Super h*ckin rare. Appears at random just to smile at the locals. 11.27/10 would smile back https://t.co/QFaUiIHxHq   \n",
       "767   This is Atticus. He's quite simply America af. 1776/10 https://t.co/GRXwMxLBkh                                                                                      \n",
       "1463  Here we have uncovered an entire battalion of holiday puppers. Average of 11.26/10 https://t.co/eNm2S6p9BD                                                          \n",
       "1808  After so many requests... here you go.\\n\\nGood dogg. 420/10 https://t.co/yfAAo1gdeY                                                                                 \n",
       "\n",
       "                                                        expanded_urls  \\\n",
       "526   https://twitter.com/dog_rates/status/786709082849828864/photo/1   \n",
       "584   https://twitter.com/dog_rates/status/778027034220126208/photo/1   \n",
       "767   https://twitter.com/dog_rates/status/749981277374128128/photo/1   \n",
       "1463  https://twitter.com/dog_rates/status/680494726643068929/photo/1   \n",
       "1808  https://twitter.com/dog_rates/status/670842764863651840/photo/1   \n",
       "\n",
       "      rating_numerator  rating_denominator     name doggo floofer  pupper  \\\n",
       "526   75                10                  Logan    None  None    None     \n",
       "584   27                10                  Sophie   None  None    pupper   \n",
       "767   1776              10                  Atticus  None  None    None     \n",
       "1463  26                10                  None     None  None    None     \n",
       "1808  420               10                  None     None  None    None     \n",
       "\n",
       "     puppo  \n",
       "526   None  \n",
       "584   None  \n",
       "767   None  \n",
       "1463  None  \n",
       "1808  None  "
      ]
     },
     "execution_count": 59,
     "metadata": {},
     "output_type": "execute_result"
    }
   ],
   "source": [
    "twitter_archive_clean.query('rating_numerator >= 15')"
   ]
  },
  {
   "cell_type": "code",
   "execution_count": 60,
   "metadata": {},
   "outputs": [],
   "source": [
    "# manually fixing rating of three tweets\n",
    "row = twitter_archive_clean.tweet_id == \"786709082849828864\"\n",
    "twitter_archive_clean.loc[row, 'rating_numerator'] = 10"
   ]
  },
  {
   "cell_type": "code",
   "execution_count": 61,
   "metadata": {},
   "outputs": [],
   "source": [
    "row = twitter_archive_clean.tweet_id == \"778027034220126208\"\n",
    "twitter_archive_clean.loc[row, 'rating_numerator'] = 10"
   ]
  },
  {
   "cell_type": "code",
   "execution_count": 62,
   "metadata": {},
   "outputs": [],
   "source": [
    "row = twitter_archive_clean.tweet_id == \"680494726643068929\"\n",
    "twitter_archive_clean.loc[row, 'rating_numerator'] = 10"
   ]
  },
  {
   "cell_type": "code",
   "execution_count": 63,
   "metadata": {},
   "outputs": [],
   "source": [
    "# drop rest 2 tweets whose rating_numerator is bigger than 15\n",
    "drop_rows = twitter_archive_clean.query('rating_numerator >= 15')\n",
    "twitter_archive_clean = twitter_archive_clean.drop(drop_rows.index, axis = 0)\n",
    "twitter_archive_clean = twitter_archive_clean.reset_index(drop=True)"
   ]
  },
  {
   "cell_type": "markdown",
   "metadata": {},
   "source": [
    "#### Test"
   ]
  },
  {
   "cell_type": "code",
   "execution_count": 64,
   "metadata": {
    "scrolled": true
   },
   "outputs": [
    {
     "data": {
      "text/html": [
       "<div>\n",
       "<style scoped>\n",
       "    .dataframe tbody tr th:only-of-type {\n",
       "        vertical-align: middle;\n",
       "    }\n",
       "\n",
       "    .dataframe tbody tr th {\n",
       "        vertical-align: top;\n",
       "    }\n",
       "\n",
       "    .dataframe thead th {\n",
       "        text-align: right;\n",
       "    }\n",
       "</style>\n",
       "<table border=\"1\" class=\"dataframe\">\n",
       "  <thead>\n",
       "    <tr style=\"text-align: right;\">\n",
       "      <th></th>\n",
       "      <th>tweet_id</th>\n",
       "      <th>timestamp</th>\n",
       "      <th>source</th>\n",
       "      <th>text</th>\n",
       "      <th>expanded_urls</th>\n",
       "      <th>rating_numerator</th>\n",
       "      <th>rating_denominator</th>\n",
       "      <th>name</th>\n",
       "      <th>doggo</th>\n",
       "      <th>floofer</th>\n",
       "      <th>pupper</th>\n",
       "      <th>puppo</th>\n",
       "    </tr>\n",
       "  </thead>\n",
       "  <tbody>\n",
       "  </tbody>\n",
       "</table>\n",
       "</div>"
      ],
      "text/plain": [
       "Empty DataFrame\n",
       "Columns: [tweet_id, timestamp, source, text, expanded_urls, rating_numerator, rating_denominator, name, doggo, floofer, pupper, puppo]\n",
       "Index: []"
      ]
     },
     "execution_count": 64,
     "metadata": {},
     "output_type": "execute_result"
    }
   ],
   "source": [
    "twitter_archive_clean.query('rating_numerator >= 15')"
   ]
  },
  {
   "cell_type": "markdown",
   "metadata": {},
   "source": [
    "### image_prediction"
   ]
  },
  {
   "cell_type": "markdown",
   "metadata": {},
   "source": [
    "### Issue #1: data type inaccurancy"
   ]
  },
  {
   "cell_type": "markdown",
   "metadata": {
    "collapsed": true,
    "extensions": {
     "jupyter_dashboards": {
      "version": 1,
      "views": {
       "grid_default": {
        "hidden": true
       },
       "report_default": {
        "hidden": true
       }
      }
     }
    }
   },
   "source": [
    "#### Define \n",
    "change \"tweet_id\" into string type"
   ]
  },
  {
   "cell_type": "markdown",
   "metadata": {},
   "source": [
    "#### Code"
   ]
  },
  {
   "cell_type": "code",
   "execution_count": 65,
   "metadata": {},
   "outputs": [],
   "source": [
    "df_image_clean['tweet_id'] = df_image_clean['tweet_id'].astype(str)"
   ]
  },
  {
   "cell_type": "markdown",
   "metadata": {},
   "source": [
    "#### Test"
   ]
  },
  {
   "cell_type": "code",
   "execution_count": 66,
   "metadata": {},
   "outputs": [
    {
     "name": "stdout",
     "output_type": "stream",
     "text": [
      "<class 'pandas.core.frame.DataFrame'>\n",
      "RangeIndex: 2075 entries, 0 to 2074\n",
      "Data columns (total 12 columns):\n",
      " #   Column    Non-Null Count  Dtype  \n",
      "---  ------    --------------  -----  \n",
      " 0   tweet_id  2075 non-null   object \n",
      " 1   jpg_url   2075 non-null   object \n",
      " 2   img_num   2075 non-null   int64  \n",
      " 3   p1        2075 non-null   object \n",
      " 4   p1_conf   2075 non-null   float64\n",
      " 5   p1_dog    2075 non-null   bool   \n",
      " 6   p2        2075 non-null   object \n",
      " 7   p2_conf   2075 non-null   float64\n",
      " 8   p2_dog    2075 non-null   bool   \n",
      " 9   p3        2075 non-null   object \n",
      " 10  p3_conf   2075 non-null   float64\n",
      " 11  p3_dog    2075 non-null   bool   \n",
      "dtypes: bool(3), float64(3), int64(1), object(5)\n",
      "memory usage: 152.1+ KB\n"
     ]
    }
   ],
   "source": [
    "df_image_clean.info()"
   ]
  },
  {
   "cell_type": "markdown",
   "metadata": {},
   "source": [
    "### Issue #2: \"p1\", \"p2\" and \"p3\" columns, writings are not consistent (upper case or lower case)."
   ]
  },
  {
   "cell_type": "markdown",
   "metadata": {
    "collapsed": true,
    "extensions": {
     "jupyter_dashboards": {
      "version": 1,
      "views": {
       "grid_default": {
        "hidden": true
       },
       "report_default": {
        "hidden": true
       }
      }
     }
    }
   },
   "source": [
    "#### Define \n",
    "change names in p1, p2, p3 to lowercase\n"
   ]
  },
  {
   "cell_type": "markdown",
   "metadata": {},
   "source": [
    "#### Code"
   ]
  },
  {
   "cell_type": "code",
   "execution_count": 67,
   "metadata": {
    "scrolled": true
   },
   "outputs": [
    {
     "data": {
      "text/html": [
       "<div>\n",
       "<style scoped>\n",
       "    .dataframe tbody tr th:only-of-type {\n",
       "        vertical-align: middle;\n",
       "    }\n",
       "\n",
       "    .dataframe tbody tr th {\n",
       "        vertical-align: top;\n",
       "    }\n",
       "\n",
       "    .dataframe thead th {\n",
       "        text-align: right;\n",
       "    }\n",
       "</style>\n",
       "<table border=\"1\" class=\"dataframe\">\n",
       "  <thead>\n",
       "    <tr style=\"text-align: right;\">\n",
       "      <th></th>\n",
       "      <th>tweet_id</th>\n",
       "      <th>jpg_url</th>\n",
       "      <th>img_num</th>\n",
       "      <th>p1</th>\n",
       "      <th>p1_conf</th>\n",
       "      <th>p1_dog</th>\n",
       "      <th>p2</th>\n",
       "      <th>p2_conf</th>\n",
       "      <th>p2_dog</th>\n",
       "      <th>p3</th>\n",
       "      <th>p3_conf</th>\n",
       "      <th>p3_dog</th>\n",
       "    </tr>\n",
       "  </thead>\n",
       "  <tbody>\n",
       "    <tr>\n",
       "      <th>0</th>\n",
       "      <td>666020888022790149</td>\n",
       "      <td>https://pbs.twimg.com/media/CT4udn0WwAA0aMy.jpg</td>\n",
       "      <td>1</td>\n",
       "      <td>Welsh_springer_spaniel</td>\n",
       "      <td>0.465074</td>\n",
       "      <td>True</td>\n",
       "      <td>collie</td>\n",
       "      <td>0.156665</td>\n",
       "      <td>True</td>\n",
       "      <td>Shetland_sheepdog</td>\n",
       "      <td>0.061428</td>\n",
       "      <td>True</td>\n",
       "    </tr>\n",
       "    <tr>\n",
       "      <th>1</th>\n",
       "      <td>666029285002620928</td>\n",
       "      <td>https://pbs.twimg.com/media/CT42GRgUYAA5iDo.jpg</td>\n",
       "      <td>1</td>\n",
       "      <td>redbone</td>\n",
       "      <td>0.506826</td>\n",
       "      <td>True</td>\n",
       "      <td>miniature_pinscher</td>\n",
       "      <td>0.074192</td>\n",
       "      <td>True</td>\n",
       "      <td>Rhodesian_ridgeback</td>\n",
       "      <td>0.072010</td>\n",
       "      <td>True</td>\n",
       "    </tr>\n",
       "    <tr>\n",
       "      <th>2</th>\n",
       "      <td>666033412701032449</td>\n",
       "      <td>https://pbs.twimg.com/media/CT4521TWwAEvMyu.jpg</td>\n",
       "      <td>1</td>\n",
       "      <td>German_shepherd</td>\n",
       "      <td>0.596461</td>\n",
       "      <td>True</td>\n",
       "      <td>malinois</td>\n",
       "      <td>0.138584</td>\n",
       "      <td>True</td>\n",
       "      <td>bloodhound</td>\n",
       "      <td>0.116197</td>\n",
       "      <td>True</td>\n",
       "    </tr>\n",
       "    <tr>\n",
       "      <th>3</th>\n",
       "      <td>666044226329800704</td>\n",
       "      <td>https://pbs.twimg.com/media/CT5Dr8HUEAA-lEu.jpg</td>\n",
       "      <td>1</td>\n",
       "      <td>Rhodesian_ridgeback</td>\n",
       "      <td>0.408143</td>\n",
       "      <td>True</td>\n",
       "      <td>redbone</td>\n",
       "      <td>0.360687</td>\n",
       "      <td>True</td>\n",
       "      <td>miniature_pinscher</td>\n",
       "      <td>0.222752</td>\n",
       "      <td>True</td>\n",
       "    </tr>\n",
       "    <tr>\n",
       "      <th>4</th>\n",
       "      <td>666049248165822465</td>\n",
       "      <td>https://pbs.twimg.com/media/CT5IQmsXIAAKY4A.jpg</td>\n",
       "      <td>1</td>\n",
       "      <td>miniature_pinscher</td>\n",
       "      <td>0.560311</td>\n",
       "      <td>True</td>\n",
       "      <td>Rottweiler</td>\n",
       "      <td>0.243682</td>\n",
       "      <td>True</td>\n",
       "      <td>Doberman</td>\n",
       "      <td>0.154629</td>\n",
       "      <td>True</td>\n",
       "    </tr>\n",
       "  </tbody>\n",
       "</table>\n",
       "</div>"
      ],
      "text/plain": [
       "             tweet_id                                          jpg_url  \\\n",
       "0  666020888022790149  https://pbs.twimg.com/media/CT4udn0WwAA0aMy.jpg   \n",
       "1  666029285002620928  https://pbs.twimg.com/media/CT42GRgUYAA5iDo.jpg   \n",
       "2  666033412701032449  https://pbs.twimg.com/media/CT4521TWwAEvMyu.jpg   \n",
       "3  666044226329800704  https://pbs.twimg.com/media/CT5Dr8HUEAA-lEu.jpg   \n",
       "4  666049248165822465  https://pbs.twimg.com/media/CT5IQmsXIAAKY4A.jpg   \n",
       "\n",
       "   img_num                      p1   p1_conf  p1_dog                  p2  \\\n",
       "0  1        Welsh_springer_spaniel  0.465074  True    collie               \n",
       "1  1        redbone                 0.506826  True    miniature_pinscher   \n",
       "2  1        German_shepherd         0.596461  True    malinois             \n",
       "3  1        Rhodesian_ridgeback     0.408143  True    redbone              \n",
       "4  1        miniature_pinscher      0.560311  True    Rottweiler           \n",
       "\n",
       "    p2_conf  p2_dog                   p3   p3_conf  p3_dog  \n",
       "0  0.156665  True    Shetland_sheepdog    0.061428  True    \n",
       "1  0.074192  True    Rhodesian_ridgeback  0.072010  True    \n",
       "2  0.138584  True    bloodhound           0.116197  True    \n",
       "3  0.360687  True    miniature_pinscher   0.222752  True    \n",
       "4  0.243682  True    Doberman             0.154629  True    "
      ]
     },
     "execution_count": 67,
     "metadata": {},
     "output_type": "execute_result"
    }
   ],
   "source": [
    "df_image_clean = df_image.copy()\n",
    "df_image_clean.head()"
   ]
  },
  {
   "cell_type": "code",
   "execution_count": 68,
   "metadata": {},
   "outputs": [],
   "source": [
    "df_image_clean.p1 = df_image_clean.p1.str.lower()\n",
    "df_image_clean.p2 = df_image_clean.p2.str.lower()\n",
    "df_image_clean.p3 = df_image_clean.p3.str.lower()"
   ]
  },
  {
   "cell_type": "markdown",
   "metadata": {},
   "source": [
    "#### Test"
   ]
  },
  {
   "cell_type": "code",
   "execution_count": 69,
   "metadata": {
    "scrolled": true
   },
   "outputs": [
    {
     "data": {
      "text/html": [
       "<div>\n",
       "<style scoped>\n",
       "    .dataframe tbody tr th:only-of-type {\n",
       "        vertical-align: middle;\n",
       "    }\n",
       "\n",
       "    .dataframe tbody tr th {\n",
       "        vertical-align: top;\n",
       "    }\n",
       "\n",
       "    .dataframe thead th {\n",
       "        text-align: right;\n",
       "    }\n",
       "</style>\n",
       "<table border=\"1\" class=\"dataframe\">\n",
       "  <thead>\n",
       "    <tr style=\"text-align: right;\">\n",
       "      <th></th>\n",
       "      <th>tweet_id</th>\n",
       "      <th>jpg_url</th>\n",
       "      <th>img_num</th>\n",
       "      <th>p1</th>\n",
       "      <th>p1_conf</th>\n",
       "      <th>p1_dog</th>\n",
       "      <th>p2</th>\n",
       "      <th>p2_conf</th>\n",
       "      <th>p2_dog</th>\n",
       "      <th>p3</th>\n",
       "      <th>p3_conf</th>\n",
       "      <th>p3_dog</th>\n",
       "    </tr>\n",
       "  </thead>\n",
       "  <tbody>\n",
       "    <tr>\n",
       "      <th>0</th>\n",
       "      <td>666020888022790149</td>\n",
       "      <td>https://pbs.twimg.com/media/CT4udn0WwAA0aMy.jpg</td>\n",
       "      <td>1</td>\n",
       "      <td>welsh_springer_spaniel</td>\n",
       "      <td>0.465074</td>\n",
       "      <td>True</td>\n",
       "      <td>collie</td>\n",
       "      <td>0.156665</td>\n",
       "      <td>True</td>\n",
       "      <td>shetland_sheepdog</td>\n",
       "      <td>0.061428</td>\n",
       "      <td>True</td>\n",
       "    </tr>\n",
       "    <tr>\n",
       "      <th>1</th>\n",
       "      <td>666029285002620928</td>\n",
       "      <td>https://pbs.twimg.com/media/CT42GRgUYAA5iDo.jpg</td>\n",
       "      <td>1</td>\n",
       "      <td>redbone</td>\n",
       "      <td>0.506826</td>\n",
       "      <td>True</td>\n",
       "      <td>miniature_pinscher</td>\n",
       "      <td>0.074192</td>\n",
       "      <td>True</td>\n",
       "      <td>rhodesian_ridgeback</td>\n",
       "      <td>0.072010</td>\n",
       "      <td>True</td>\n",
       "    </tr>\n",
       "    <tr>\n",
       "      <th>2</th>\n",
       "      <td>666033412701032449</td>\n",
       "      <td>https://pbs.twimg.com/media/CT4521TWwAEvMyu.jpg</td>\n",
       "      <td>1</td>\n",
       "      <td>german_shepherd</td>\n",
       "      <td>0.596461</td>\n",
       "      <td>True</td>\n",
       "      <td>malinois</td>\n",
       "      <td>0.138584</td>\n",
       "      <td>True</td>\n",
       "      <td>bloodhound</td>\n",
       "      <td>0.116197</td>\n",
       "      <td>True</td>\n",
       "    </tr>\n",
       "    <tr>\n",
       "      <th>3</th>\n",
       "      <td>666044226329800704</td>\n",
       "      <td>https://pbs.twimg.com/media/CT5Dr8HUEAA-lEu.jpg</td>\n",
       "      <td>1</td>\n",
       "      <td>rhodesian_ridgeback</td>\n",
       "      <td>0.408143</td>\n",
       "      <td>True</td>\n",
       "      <td>redbone</td>\n",
       "      <td>0.360687</td>\n",
       "      <td>True</td>\n",
       "      <td>miniature_pinscher</td>\n",
       "      <td>0.222752</td>\n",
       "      <td>True</td>\n",
       "    </tr>\n",
       "    <tr>\n",
       "      <th>4</th>\n",
       "      <td>666049248165822465</td>\n",
       "      <td>https://pbs.twimg.com/media/CT5IQmsXIAAKY4A.jpg</td>\n",
       "      <td>1</td>\n",
       "      <td>miniature_pinscher</td>\n",
       "      <td>0.560311</td>\n",
       "      <td>True</td>\n",
       "      <td>rottweiler</td>\n",
       "      <td>0.243682</td>\n",
       "      <td>True</td>\n",
       "      <td>doberman</td>\n",
       "      <td>0.154629</td>\n",
       "      <td>True</td>\n",
       "    </tr>\n",
       "    <tr>\n",
       "      <th>5</th>\n",
       "      <td>666050758794694657</td>\n",
       "      <td>https://pbs.twimg.com/media/CT5Jof1WUAEuVxN.jpg</td>\n",
       "      <td>1</td>\n",
       "      <td>bernese_mountain_dog</td>\n",
       "      <td>0.651137</td>\n",
       "      <td>True</td>\n",
       "      <td>english_springer</td>\n",
       "      <td>0.263788</td>\n",
       "      <td>True</td>\n",
       "      <td>greater_swiss_mountain_dog</td>\n",
       "      <td>0.016199</td>\n",
       "      <td>True</td>\n",
       "    </tr>\n",
       "    <tr>\n",
       "      <th>6</th>\n",
       "      <td>666051853826850816</td>\n",
       "      <td>https://pbs.twimg.com/media/CT5KoJ1WoAAJash.jpg</td>\n",
       "      <td>1</td>\n",
       "      <td>box_turtle</td>\n",
       "      <td>0.933012</td>\n",
       "      <td>False</td>\n",
       "      <td>mud_turtle</td>\n",
       "      <td>0.045885</td>\n",
       "      <td>False</td>\n",
       "      <td>terrapin</td>\n",
       "      <td>0.017885</td>\n",
       "      <td>False</td>\n",
       "    </tr>\n",
       "    <tr>\n",
       "      <th>7</th>\n",
       "      <td>666055525042405380</td>\n",
       "      <td>https://pbs.twimg.com/media/CT5N9tpXIAAifs1.jpg</td>\n",
       "      <td>1</td>\n",
       "      <td>chow</td>\n",
       "      <td>0.692517</td>\n",
       "      <td>True</td>\n",
       "      <td>tibetan_mastiff</td>\n",
       "      <td>0.058279</td>\n",
       "      <td>True</td>\n",
       "      <td>fur_coat</td>\n",
       "      <td>0.054449</td>\n",
       "      <td>False</td>\n",
       "    </tr>\n",
       "    <tr>\n",
       "      <th>8</th>\n",
       "      <td>666057090499244032</td>\n",
       "      <td>https://pbs.twimg.com/media/CT5PY90WoAAQGLo.jpg</td>\n",
       "      <td>1</td>\n",
       "      <td>shopping_cart</td>\n",
       "      <td>0.962465</td>\n",
       "      <td>False</td>\n",
       "      <td>shopping_basket</td>\n",
       "      <td>0.014594</td>\n",
       "      <td>False</td>\n",
       "      <td>golden_retriever</td>\n",
       "      <td>0.007959</td>\n",
       "      <td>True</td>\n",
       "    </tr>\n",
       "    <tr>\n",
       "      <th>9</th>\n",
       "      <td>666058600524156928</td>\n",
       "      <td>https://pbs.twimg.com/media/CT5Qw94XAAA_2dP.jpg</td>\n",
       "      <td>1</td>\n",
       "      <td>miniature_poodle</td>\n",
       "      <td>0.201493</td>\n",
       "      <td>True</td>\n",
       "      <td>komondor</td>\n",
       "      <td>0.192305</td>\n",
       "      <td>True</td>\n",
       "      <td>soft-coated_wheaten_terrier</td>\n",
       "      <td>0.082086</td>\n",
       "      <td>True</td>\n",
       "    </tr>\n",
       "  </tbody>\n",
       "</table>\n",
       "</div>"
      ],
      "text/plain": [
       "             tweet_id                                          jpg_url  \\\n",
       "0  666020888022790149  https://pbs.twimg.com/media/CT4udn0WwAA0aMy.jpg   \n",
       "1  666029285002620928  https://pbs.twimg.com/media/CT42GRgUYAA5iDo.jpg   \n",
       "2  666033412701032449  https://pbs.twimg.com/media/CT4521TWwAEvMyu.jpg   \n",
       "3  666044226329800704  https://pbs.twimg.com/media/CT5Dr8HUEAA-lEu.jpg   \n",
       "4  666049248165822465  https://pbs.twimg.com/media/CT5IQmsXIAAKY4A.jpg   \n",
       "5  666050758794694657  https://pbs.twimg.com/media/CT5Jof1WUAEuVxN.jpg   \n",
       "6  666051853826850816  https://pbs.twimg.com/media/CT5KoJ1WoAAJash.jpg   \n",
       "7  666055525042405380  https://pbs.twimg.com/media/CT5N9tpXIAAifs1.jpg   \n",
       "8  666057090499244032  https://pbs.twimg.com/media/CT5PY90WoAAQGLo.jpg   \n",
       "9  666058600524156928  https://pbs.twimg.com/media/CT5Qw94XAAA_2dP.jpg   \n",
       "\n",
       "   img_num                      p1   p1_conf  p1_dog                  p2  \\\n",
       "0  1        welsh_springer_spaniel  0.465074  True    collie               \n",
       "1  1        redbone                 0.506826  True    miniature_pinscher   \n",
       "2  1        german_shepherd         0.596461  True    malinois             \n",
       "3  1        rhodesian_ridgeback     0.408143  True    redbone              \n",
       "4  1        miniature_pinscher      0.560311  True    rottweiler           \n",
       "5  1        bernese_mountain_dog    0.651137  True    english_springer     \n",
       "6  1        box_turtle              0.933012  False   mud_turtle           \n",
       "7  1        chow                    0.692517  True    tibetan_mastiff      \n",
       "8  1        shopping_cart           0.962465  False   shopping_basket      \n",
       "9  1        miniature_poodle        0.201493  True    komondor             \n",
       "\n",
       "    p2_conf  p2_dog                           p3   p3_conf  p3_dog  \n",
       "0  0.156665  True    shetland_sheepdog            0.061428  True    \n",
       "1  0.074192  True    rhodesian_ridgeback          0.072010  True    \n",
       "2  0.138584  True    bloodhound                   0.116197  True    \n",
       "3  0.360687  True    miniature_pinscher           0.222752  True    \n",
       "4  0.243682  True    doberman                     0.154629  True    \n",
       "5  0.263788  True    greater_swiss_mountain_dog   0.016199  True    \n",
       "6  0.045885  False   terrapin                     0.017885  False   \n",
       "7  0.058279  True    fur_coat                     0.054449  False   \n",
       "8  0.014594  False   golden_retriever             0.007959  True    \n",
       "9  0.192305  True    soft-coated_wheaten_terrier  0.082086  True    "
      ]
     },
     "execution_count": 69,
     "metadata": {},
     "output_type": "execute_result"
    }
   ],
   "source": [
    "df_image_clean.head(10)"
   ]
  },
  {
   "cell_type": "markdown",
   "metadata": {},
   "source": [
    "### jason_data"
   ]
  },
  {
   "cell_type": "markdown",
   "metadata": {},
   "source": [
    "### Issue #1: Inaccurate \"id\" type"
   ]
  },
  {
   "cell_type": "markdown",
   "metadata": {
    "collapsed": true,
    "extensions": {
     "jupyter_dashboards": {
      "version": 1,
      "views": {
       "grid_default": {
        "hidden": true
       },
       "report_default": {
        "hidden": true
       }
      }
     }
    }
   },
   "source": [
    "#### Define \n",
    "\"id\" should be string type"
   ]
  },
  {
   "cell_type": "markdown",
   "metadata": {},
   "source": [
    "#### Code"
   ]
  },
  {
   "cell_type": "code",
   "execution_count": 70,
   "metadata": {},
   "outputs": [],
   "source": [
    "df_data_clean.id = df_data_clean.id.astype(str)"
   ]
  },
  {
   "cell_type": "markdown",
   "metadata": {},
   "source": [
    "#### Test"
   ]
  },
  {
   "cell_type": "code",
   "execution_count": 71,
   "metadata": {
    "scrolled": true
   },
   "outputs": [
    {
     "name": "stdout",
     "output_type": "stream",
     "text": [
      "<class 'pandas.core.frame.DataFrame'>\n",
      "RangeIndex: 2057 entries, 0 to 2056\n",
      "Data columns (total 3 columns):\n",
      " #   Column          Non-Null Count  Dtype \n",
      "---  ------          --------------  ----- \n",
      " 0   id              2057 non-null   object\n",
      " 1   favorite_count  2057 non-null   int64 \n",
      " 2   retweet_count   2057 non-null   int64 \n",
      "dtypes: int64(2), object(1)\n",
      "memory usage: 48.3+ KB\n"
     ]
    }
   ],
   "source": [
    "df_data_clean.info()"
   ]
  },
  {
   "cell_type": "markdown",
   "metadata": {},
   "source": [
    "### Tidiness issues"
   ]
  },
  {
   "cell_type": "markdown",
   "metadata": {},
   "source": [
    "### Issue #1: doggo, floofer, pupper, puppo all describe one property \"dog stage\" whcih violates tidiness rule, they should exist in one column."
   ]
  },
  {
   "cell_type": "markdown",
   "metadata": {
    "collapsed": true,
    "extensions": {
     "jupyter_dashboards": {
      "version": 1,
      "views": {
       "grid_default": {
        "hidden": true
       },
       "report_default": {
        "hidden": true
       }
      }
     }
    }
   },
   "source": [
    "#### Define \n",
    "* Melt the 4 columns with the dog stages\n",
    "* Manually check tweet with multiple stage description and update the correct type"
   ]
  },
  {
   "cell_type": "markdown",
   "metadata": {},
   "source": [
    "#### Code"
   ]
  },
  {
   "cell_type": "code",
   "execution_count": 72,
   "metadata": {},
   "outputs": [],
   "source": [
    "# Defining a function aimed at creating a column with all stage\n",
    "\n",
    "def dog_Stage(row):\n",
    "    # Defining a list to store the data\n",
    "    stage = []\n",
    "    # Setting the conditional\n",
    "    if row['doggo'] == 'doggo':\n",
    "        # Adding the entry to the list if it satisfies the condition\n",
    "        stage.append('doggo')\n",
    "    if row['floofer'] == 'floofer':\n",
    "        stage.append('floofer')\n",
    "    if row['pupper'] == 'pupper':\n",
    "        stage.append('pupper')\n",
    "    if row['puppo'] == 'puppo':\n",
    "        stage.append('puppo')\n",
    "    if len(stage) < 1: \n",
    "        row['stage'] = 'None'\n",
    "    else: \n",
    "        row['stage'] = ' and '.join(stage)\n",
    "    return row"
   ]
  },
  {
   "cell_type": "code",
   "execution_count": 73,
   "metadata": {},
   "outputs": [],
   "source": [
    "# Applying the \"dog-stage\" function to each record\n",
    "twitter_archive_clean = twitter_archive_clean.apply(dog_Stage, axis=1)"
   ]
  },
  {
   "cell_type": "code",
   "execution_count": 74,
   "metadata": {},
   "outputs": [
    {
     "data": {
      "text/html": [
       "<div>\n",
       "<style scoped>\n",
       "    .dataframe tbody tr th:only-of-type {\n",
       "        vertical-align: middle;\n",
       "    }\n",
       "\n",
       "    .dataframe tbody tr th {\n",
       "        vertical-align: top;\n",
       "    }\n",
       "\n",
       "    .dataframe thead th {\n",
       "        text-align: right;\n",
       "    }\n",
       "</style>\n",
       "<table border=\"1\" class=\"dataframe\">\n",
       "  <thead>\n",
       "    <tr style=\"text-align: right;\">\n",
       "      <th></th>\n",
       "      <th>tweet_id</th>\n",
       "      <th>timestamp</th>\n",
       "      <th>source</th>\n",
       "      <th>text</th>\n",
       "      <th>expanded_urls</th>\n",
       "      <th>rating_numerator</th>\n",
       "      <th>rating_denominator</th>\n",
       "      <th>name</th>\n",
       "      <th>doggo</th>\n",
       "      <th>floofer</th>\n",
       "      <th>pupper</th>\n",
       "      <th>puppo</th>\n",
       "      <th>stage</th>\n",
       "    </tr>\n",
       "  </thead>\n",
       "  <tbody>\n",
       "    <tr>\n",
       "      <th>0</th>\n",
       "      <td>892420643555336193</td>\n",
       "      <td>2017-08-01 16:23:56+00:00</td>\n",
       "      <td>Twitter for iPhone</td>\n",
       "      <td>This is Phineas. He's a mystical boy. Only ever appears in the hole of a donut. 13/10 https://t.co/MgUWQ76dJU</td>\n",
       "      <td>https://twitter.com/dog_rates/status/892420643555336193/photo/1</td>\n",
       "      <td>13</td>\n",
       "      <td>10</td>\n",
       "      <td>Phineas</td>\n",
       "      <td>None</td>\n",
       "      <td>None</td>\n",
       "      <td>None</td>\n",
       "      <td>None</td>\n",
       "      <td>None</td>\n",
       "    </tr>\n",
       "    <tr>\n",
       "      <th>1</th>\n",
       "      <td>892177421306343426</td>\n",
       "      <td>2017-08-01 00:17:27+00:00</td>\n",
       "      <td>Twitter for iPhone</td>\n",
       "      <td>This is Tilly. She's just checking pup on you. Hopes you're doing ok. If not, she's available for pats, snugs, boops, the whole bit. 13/10 https://t.co/0Xxu71qeIV</td>\n",
       "      <td>https://twitter.com/dog_rates/status/892177421306343426/photo/1</td>\n",
       "      <td>13</td>\n",
       "      <td>10</td>\n",
       "      <td>Tilly</td>\n",
       "      <td>None</td>\n",
       "      <td>None</td>\n",
       "      <td>None</td>\n",
       "      <td>None</td>\n",
       "      <td>None</td>\n",
       "    </tr>\n",
       "    <tr>\n",
       "      <th>2</th>\n",
       "      <td>891815181378084864</td>\n",
       "      <td>2017-07-31 00:18:03+00:00</td>\n",
       "      <td>Twitter for iPhone</td>\n",
       "      <td>This is Archie. He is a rare Norwegian Pouncing Corgo. Lives in the tall grass. You never know when one may strike. 12/10 https://t.co/wUnZnhtVJB</td>\n",
       "      <td>https://twitter.com/dog_rates/status/891815181378084864/photo/1</td>\n",
       "      <td>12</td>\n",
       "      <td>10</td>\n",
       "      <td>Archie</td>\n",
       "      <td>None</td>\n",
       "      <td>None</td>\n",
       "      <td>None</td>\n",
       "      <td>None</td>\n",
       "      <td>None</td>\n",
       "    </tr>\n",
       "    <tr>\n",
       "      <th>3</th>\n",
       "      <td>891689557279858688</td>\n",
       "      <td>2017-07-30 15:58:51+00:00</td>\n",
       "      <td>Twitter for iPhone</td>\n",
       "      <td>This is Darla. She commenced a snooze mid meal. 13/10 happens to the best of us https://t.co/tD36da7qLQ</td>\n",
       "      <td>https://twitter.com/dog_rates/status/891689557279858688/photo/1</td>\n",
       "      <td>13</td>\n",
       "      <td>10</td>\n",
       "      <td>Darla</td>\n",
       "      <td>None</td>\n",
       "      <td>None</td>\n",
       "      <td>None</td>\n",
       "      <td>None</td>\n",
       "      <td>None</td>\n",
       "    </tr>\n",
       "    <tr>\n",
       "      <th>4</th>\n",
       "      <td>891327558926688256</td>\n",
       "      <td>2017-07-29 16:00:24+00:00</td>\n",
       "      <td>Twitter for iPhone</td>\n",
       "      <td>This is Franklin. He would like you to stop calling him \"cute.\" He is a very fierce shark and should be respected as such. 12/10 #BarkWeek https://t.co/AtUZn91f7f</td>\n",
       "      <td>https://twitter.com/dog_rates/status/891327558926688256/photo/1</td>\n",
       "      <td>12</td>\n",
       "      <td>10</td>\n",
       "      <td>Franklin</td>\n",
       "      <td>None</td>\n",
       "      <td>None</td>\n",
       "      <td>None</td>\n",
       "      <td>None</td>\n",
       "      <td>None</td>\n",
       "    </tr>\n",
       "  </tbody>\n",
       "</table>\n",
       "</div>"
      ],
      "text/plain": [
       "             tweet_id                 timestamp              source  \\\n",
       "0  892420643555336193 2017-08-01 16:23:56+00:00  Twitter for iPhone   \n",
       "1  892177421306343426 2017-08-01 00:17:27+00:00  Twitter for iPhone   \n",
       "2  891815181378084864 2017-07-31 00:18:03+00:00  Twitter for iPhone   \n",
       "3  891689557279858688 2017-07-30 15:58:51+00:00  Twitter for iPhone   \n",
       "4  891327558926688256 2017-07-29 16:00:24+00:00  Twitter for iPhone   \n",
       "\n",
       "                                                                                                                                                                 text  \\\n",
       "0  This is Phineas. He's a mystical boy. Only ever appears in the hole of a donut. 13/10 https://t.co/MgUWQ76dJU                                                        \n",
       "1  This is Tilly. She's just checking pup on you. Hopes you're doing ok. If not, she's available for pats, snugs, boops, the whole bit. 13/10 https://t.co/0Xxu71qeIV   \n",
       "2  This is Archie. He is a rare Norwegian Pouncing Corgo. Lives in the tall grass. You never know when one may strike. 12/10 https://t.co/wUnZnhtVJB                    \n",
       "3  This is Darla. She commenced a snooze mid meal. 13/10 happens to the best of us https://t.co/tD36da7qLQ                                                              \n",
       "4  This is Franklin. He would like you to stop calling him \"cute.\" He is a very fierce shark and should be respected as such. 12/10 #BarkWeek https://t.co/AtUZn91f7f   \n",
       "\n",
       "                                                     expanded_urls  \\\n",
       "0  https://twitter.com/dog_rates/status/892420643555336193/photo/1   \n",
       "1  https://twitter.com/dog_rates/status/892177421306343426/photo/1   \n",
       "2  https://twitter.com/dog_rates/status/891815181378084864/photo/1   \n",
       "3  https://twitter.com/dog_rates/status/891689557279858688/photo/1   \n",
       "4  https://twitter.com/dog_rates/status/891327558926688256/photo/1   \n",
       "\n",
       "   rating_numerator  rating_denominator      name doggo floofer pupper puppo  \\\n",
       "0  13                10                  Phineas   None  None    None   None   \n",
       "1  13                10                  Tilly     None  None    None   None   \n",
       "2  12                10                  Archie    None  None    None   None   \n",
       "3  13                10                  Darla     None  None    None   None   \n",
       "4  12                10                  Franklin  None  None    None   None   \n",
       "\n",
       "  stage  \n",
       "0  None  \n",
       "1  None  \n",
       "2  None  \n",
       "3  None  \n",
       "4  None  "
      ]
     },
     "execution_count": 74,
     "metadata": {},
     "output_type": "execute_result"
    }
   ],
   "source": [
    "twitter_archive_clean.head()"
   ]
  },
  {
   "cell_type": "code",
   "execution_count": 75,
   "metadata": {},
   "outputs": [],
   "source": [
    "# drop 'doggo','floofer','pupper' and 'puppo' columns\n",
    "twitter_archive_clean = twitter_archive_clean.drop(['doggo','floofer','pupper','puppo'], axis = 1)"
   ]
  },
  {
   "cell_type": "code",
   "execution_count": 76,
   "metadata": {},
   "outputs": [
    {
     "name": "stdout",
     "output_type": "stream",
     "text": [
      "<class 'pandas.core.frame.DataFrame'>\n",
      "RangeIndex: 2082 entries, 0 to 2081\n",
      "Data columns (total 9 columns):\n",
      " #   Column              Non-Null Count  Dtype              \n",
      "---  ------              --------------  -----              \n",
      " 0   tweet_id            2082 non-null   object             \n",
      " 1   timestamp           2082 non-null   datetime64[ns, UTC]\n",
      " 2   source              2082 non-null   object             \n",
      " 3   text                2082 non-null   object             \n",
      " 4   expanded_urls       2082 non-null   object             \n",
      " 5   rating_numerator    2082 non-null   int64              \n",
      " 6   rating_denominator  2082 non-null   int64              \n",
      " 7   name                2082 non-null   object             \n",
      " 8   stage               2082 non-null   object             \n",
      "dtypes: datetime64[ns, UTC](1), int64(2), object(6)\n",
      "memory usage: 146.5+ KB\n"
     ]
    }
   ],
   "source": [
    "twitter_archive_clean.info()"
   ]
  },
  {
   "cell_type": "code",
   "execution_count": 77,
   "metadata": {},
   "outputs": [
    {
     "data": {
      "text/plain": [
       "None                 1746\n",
       "pupper               221 \n",
       "doggo                72  \n",
       "puppo                23  \n",
       "doggo and pupper     9   \n",
       "floofer              9   \n",
       "doggo and puppo      1   \n",
       "doggo and floofer    1   \n",
       "Name: stage, dtype: int64"
      ]
     },
     "execution_count": 77,
     "metadata": {},
     "output_type": "execute_result"
    }
   ],
   "source": [
    "twitter_archive_clean['stage'].value_counts()"
   ]
  },
  {
   "cell_type": "code",
   "execution_count": 78,
   "metadata": {},
   "outputs": [
    {
     "data": {
      "text/plain": [
       "357    https://twitter.com/dog_rates/status/817777686764523521/photo/1\n",
       "414    https://twitter.com/dog_rates/status/808106460588765185/photo/1\n",
       "444    https://twitter.com/dog_rates/status/801115127852503040/photo/1\n",
       "534    https://twitter.com/dog_rates/status/785639753186217984/photo/1\n",
       "560    https://twitter.com/dog_rates/status/781308096455073793/photo/1\n",
       "687    https://twitter.com/dog_rates/status/759793422261743616/photo/1\n",
       "745    https://twitter.com/dog_rates/status/751583847268179968/photo/1\n",
       "844    https://twitter.com/dog_rates/status/741067306818797568/photo/1\n",
       "893    https://twitter.com/dog_rates/status/733109485275860992/photo/1\n",
       "Name: expanded_urls, dtype: object"
      ]
     },
     "execution_count": 78,
     "metadata": {},
     "output_type": "execute_result"
    }
   ],
   "source": [
    "twitter_archive_clean.query('stage == \"doggo and pupper\"')['expanded_urls']"
   ]
  },
  {
   "cell_type": "code",
   "execution_count": 79,
   "metadata": {},
   "outputs": [
    {
     "data": {
      "text/plain": [
       "161    https://twitter.com/dog_rates/status/854010172552949760/photo/1\n",
       "Name: expanded_urls, dtype: object"
      ]
     },
     "execution_count": 79,
     "metadata": {},
     "output_type": "execute_result"
    }
   ],
   "source": [
    "twitter_archive_clean.query('stage == \"doggo and floofer\"')['expanded_urls']"
   ]
  },
  {
   "cell_type": "code",
   "execution_count": 80,
   "metadata": {
    "scrolled": true
   },
   "outputs": [
    {
     "data": {
      "text/plain": [
       "154    https://twitter.com/dog_rates/status/855851453814013952/photo/1\n",
       "Name: expanded_urls, dtype: object"
      ]
     },
     "execution_count": 80,
     "metadata": {},
     "output_type": "execute_result"
    }
   ],
   "source": [
    "twitter_archive_clean.query('stage == \"doggo and puppo\"')['expanded_urls']"
   ]
  },
  {
   "cell_type": "markdown",
   "metadata": {},
   "source": [
    "__Manually check above 11 tweets and update each stage type__\n",
    "    \n",
    "    * 357 pupper\n",
    "    * 414 correct, doggo and pupper\n",
    "    * 444 doggo\n",
    "    * 534 doggo\n",
    "    * 560 correct, doggo and pupper\n",
    "    * 687 correct, doggo and pupper\n",
    "    * 745 doggo\n",
    "    * 844 correct, doggo and pupper\n",
    "    * 893 correct, doggo and pupper\n",
    "    * 161 floofer\n",
    "    * 154 puppo"
   ]
  },
  {
   "cell_type": "code",
   "execution_count": 81,
   "metadata": {},
   "outputs": [],
   "source": [
    "# manually change \"stage\" to the right description\n",
    "twitter_archive_clean.loc[twitter_archive_clean.index == 357, 'stage'] = 'pupper'\n",
    "twitter_archive_clean.loc[twitter_archive_clean.index == 444, 'stage'] = 'doggo'\n",
    "twitter_archive_clean.loc[twitter_archive_clean.index == 534, 'stage'] = 'doggo'\n",
    "twitter_archive_clean.loc[twitter_archive_clean.index == 745, 'stage'] = 'doggo'\n",
    "twitter_archive_clean.loc[twitter_archive_clean.index == 161, 'stage'] = 'floofer'\n",
    "twitter_archive_clean.loc[twitter_archive_clean.index == 154, 'stage'] = 'puppo'"
   ]
  },
  {
   "cell_type": "markdown",
   "metadata": {},
   "source": [
    "#### Test"
   ]
  },
  {
   "cell_type": "code",
   "execution_count": 82,
   "metadata": {},
   "outputs": [
    {
     "name": "stdout",
     "output_type": "stream",
     "text": [
      "<class 'pandas.core.frame.DataFrame'>\n",
      "RangeIndex: 2082 entries, 0 to 2081\n",
      "Data columns (total 9 columns):\n",
      " #   Column              Non-Null Count  Dtype              \n",
      "---  ------              --------------  -----              \n",
      " 0   tweet_id            2082 non-null   object             \n",
      " 1   timestamp           2082 non-null   datetime64[ns, UTC]\n",
      " 2   source              2082 non-null   object             \n",
      " 3   text                2082 non-null   object             \n",
      " 4   expanded_urls       2082 non-null   object             \n",
      " 5   rating_numerator    2082 non-null   int64              \n",
      " 6   rating_denominator  2082 non-null   int64              \n",
      " 7   name                2082 non-null   object             \n",
      " 8   stage               2082 non-null   object             \n",
      "dtypes: datetime64[ns, UTC](1), int64(2), object(6)\n",
      "memory usage: 146.5+ KB\n"
     ]
    }
   ],
   "source": [
    "twitter_archive_clean.info()"
   ]
  },
  {
   "cell_type": "markdown",
   "metadata": {},
   "source": [
    "### Issue #2: The dog breed prediction with the highest confidence level can be combined with the tweet_archive table to make the information more comprehensive"
   ]
  },
  {
   "cell_type": "markdown",
   "metadata": {
    "collapsed": true,
    "extensions": {
     "jupyter_dashboards": {
      "version": 1,
      "views": {
       "grid_default": {
        "hidden": true
       },
       "report_default": {
        "hidden": true
       }
      }
     }
    }
   },
   "source": [
    "#### Define \n",
    "* create new columns called \"breed\" and \"confidence\". Check each \"p1_dog\", \"p2_dog\", \"p3_dog\" column and choose the column which is True and put its predicted dog breed into \"breed\" column. Similarly, put its corresponding confidence into \"confidence\" column.\n",
    "* For the tweet which can be predicted by the algorithm, fill \"None\" and 0 to the \"breed\" and \"confidence\" column, respectively.\n",
    "* Then merge twitter_archive_clean table with df_image_clean table based on \"tweet_id\"."
   ]
  },
  {
   "cell_type": "markdown",
   "metadata": {},
   "source": [
    "#### Code"
   ]
  },
  {
   "cell_type": "code",
   "execution_count": 83,
   "metadata": {},
   "outputs": [],
   "source": [
    "# define \"breed\" function\n",
    "def breed(c):\n",
    "    if c['p1_dog'] == True: return c['p1']\n",
    "    elif c['p2_dog'] == True: return c['p2']\n",
    "    elif c['p3_dog'] == True: return c['p3']\n",
    "    else: return \"None\"\n",
    "\n",
    "df_image_clean['breed'] = df_image_clean.apply(breed, axis = 1)"
   ]
  },
  {
   "cell_type": "code",
   "execution_count": 84,
   "metadata": {},
   "outputs": [],
   "source": [
    "# define \"confidence\" function\n",
    "def confidence(c):\n",
    "    if c['p1_dog'] == True: return c['p1_conf']\n",
    "    elif c['p2_dog'] == True: return c['p2_conf']\n",
    "    elif c['p3_dog'] == True: return c['p3_conf']\n",
    "    else: return 0\n",
    "\n",
    "df_image_clean['confidence'] = df_image_clean.apply(confidence, axis = 1)"
   ]
  },
  {
   "cell_type": "code",
   "execution_count": 85,
   "metadata": {
    "scrolled": true
   },
   "outputs": [
    {
     "data": {
      "text/html": [
       "<div>\n",
       "<style scoped>\n",
       "    .dataframe tbody tr th:only-of-type {\n",
       "        vertical-align: middle;\n",
       "    }\n",
       "\n",
       "    .dataframe tbody tr th {\n",
       "        vertical-align: top;\n",
       "    }\n",
       "\n",
       "    .dataframe thead th {\n",
       "        text-align: right;\n",
       "    }\n",
       "</style>\n",
       "<table border=\"1\" class=\"dataframe\">\n",
       "  <thead>\n",
       "    <tr style=\"text-align: right;\">\n",
       "      <th></th>\n",
       "      <th>tweet_id</th>\n",
       "      <th>jpg_url</th>\n",
       "      <th>img_num</th>\n",
       "      <th>p1</th>\n",
       "      <th>p1_conf</th>\n",
       "      <th>p1_dog</th>\n",
       "      <th>p2</th>\n",
       "      <th>p2_conf</th>\n",
       "      <th>p2_dog</th>\n",
       "      <th>p3</th>\n",
       "      <th>p3_conf</th>\n",
       "      <th>p3_dog</th>\n",
       "      <th>breed</th>\n",
       "      <th>confidence</th>\n",
       "    </tr>\n",
       "  </thead>\n",
       "  <tbody>\n",
       "    <tr>\n",
       "      <th>0</th>\n",
       "      <td>666020888022790149</td>\n",
       "      <td>https://pbs.twimg.com/media/CT4udn0WwAA0aMy.jpg</td>\n",
       "      <td>1</td>\n",
       "      <td>welsh_springer_spaniel</td>\n",
       "      <td>0.465074</td>\n",
       "      <td>True</td>\n",
       "      <td>collie</td>\n",
       "      <td>0.156665</td>\n",
       "      <td>True</td>\n",
       "      <td>shetland_sheepdog</td>\n",
       "      <td>0.061428</td>\n",
       "      <td>True</td>\n",
       "      <td>welsh_springer_spaniel</td>\n",
       "      <td>0.465074</td>\n",
       "    </tr>\n",
       "    <tr>\n",
       "      <th>1</th>\n",
       "      <td>666029285002620928</td>\n",
       "      <td>https://pbs.twimg.com/media/CT42GRgUYAA5iDo.jpg</td>\n",
       "      <td>1</td>\n",
       "      <td>redbone</td>\n",
       "      <td>0.506826</td>\n",
       "      <td>True</td>\n",
       "      <td>miniature_pinscher</td>\n",
       "      <td>0.074192</td>\n",
       "      <td>True</td>\n",
       "      <td>rhodesian_ridgeback</td>\n",
       "      <td>0.072010</td>\n",
       "      <td>True</td>\n",
       "      <td>redbone</td>\n",
       "      <td>0.506826</td>\n",
       "    </tr>\n",
       "    <tr>\n",
       "      <th>2</th>\n",
       "      <td>666033412701032449</td>\n",
       "      <td>https://pbs.twimg.com/media/CT4521TWwAEvMyu.jpg</td>\n",
       "      <td>1</td>\n",
       "      <td>german_shepherd</td>\n",
       "      <td>0.596461</td>\n",
       "      <td>True</td>\n",
       "      <td>malinois</td>\n",
       "      <td>0.138584</td>\n",
       "      <td>True</td>\n",
       "      <td>bloodhound</td>\n",
       "      <td>0.116197</td>\n",
       "      <td>True</td>\n",
       "      <td>german_shepherd</td>\n",
       "      <td>0.596461</td>\n",
       "    </tr>\n",
       "    <tr>\n",
       "      <th>3</th>\n",
       "      <td>666044226329800704</td>\n",
       "      <td>https://pbs.twimg.com/media/CT5Dr8HUEAA-lEu.jpg</td>\n",
       "      <td>1</td>\n",
       "      <td>rhodesian_ridgeback</td>\n",
       "      <td>0.408143</td>\n",
       "      <td>True</td>\n",
       "      <td>redbone</td>\n",
       "      <td>0.360687</td>\n",
       "      <td>True</td>\n",
       "      <td>miniature_pinscher</td>\n",
       "      <td>0.222752</td>\n",
       "      <td>True</td>\n",
       "      <td>rhodesian_ridgeback</td>\n",
       "      <td>0.408143</td>\n",
       "    </tr>\n",
       "    <tr>\n",
       "      <th>4</th>\n",
       "      <td>666049248165822465</td>\n",
       "      <td>https://pbs.twimg.com/media/CT5IQmsXIAAKY4A.jpg</td>\n",
       "      <td>1</td>\n",
       "      <td>miniature_pinscher</td>\n",
       "      <td>0.560311</td>\n",
       "      <td>True</td>\n",
       "      <td>rottweiler</td>\n",
       "      <td>0.243682</td>\n",
       "      <td>True</td>\n",
       "      <td>doberman</td>\n",
       "      <td>0.154629</td>\n",
       "      <td>True</td>\n",
       "      <td>miniature_pinscher</td>\n",
       "      <td>0.560311</td>\n",
       "    </tr>\n",
       "  </tbody>\n",
       "</table>\n",
       "</div>"
      ],
      "text/plain": [
       "             tweet_id                                          jpg_url  \\\n",
       "0  666020888022790149  https://pbs.twimg.com/media/CT4udn0WwAA0aMy.jpg   \n",
       "1  666029285002620928  https://pbs.twimg.com/media/CT42GRgUYAA5iDo.jpg   \n",
       "2  666033412701032449  https://pbs.twimg.com/media/CT4521TWwAEvMyu.jpg   \n",
       "3  666044226329800704  https://pbs.twimg.com/media/CT5Dr8HUEAA-lEu.jpg   \n",
       "4  666049248165822465  https://pbs.twimg.com/media/CT5IQmsXIAAKY4A.jpg   \n",
       "\n",
       "   img_num                      p1   p1_conf  p1_dog                  p2  \\\n",
       "0  1        welsh_springer_spaniel  0.465074  True    collie               \n",
       "1  1        redbone                 0.506826  True    miniature_pinscher   \n",
       "2  1        german_shepherd         0.596461  True    malinois             \n",
       "3  1        rhodesian_ridgeback     0.408143  True    redbone              \n",
       "4  1        miniature_pinscher      0.560311  True    rottweiler           \n",
       "\n",
       "    p2_conf  p2_dog                   p3   p3_conf  p3_dog  \\\n",
       "0  0.156665  True    shetland_sheepdog    0.061428  True     \n",
       "1  0.074192  True    rhodesian_ridgeback  0.072010  True     \n",
       "2  0.138584  True    bloodhound           0.116197  True     \n",
       "3  0.360687  True    miniature_pinscher   0.222752  True     \n",
       "4  0.243682  True    doberman             0.154629  True     \n",
       "\n",
       "                    breed  confidence  \n",
       "0  welsh_springer_spaniel  0.465074    \n",
       "1  redbone                 0.506826    \n",
       "2  german_shepherd         0.596461    \n",
       "3  rhodesian_ridgeback     0.408143    \n",
       "4  miniature_pinscher      0.560311    "
      ]
     },
     "execution_count": 85,
     "metadata": {},
     "output_type": "execute_result"
    }
   ],
   "source": [
    "df_image_clean.head()"
   ]
  },
  {
   "cell_type": "code",
   "execution_count": 86,
   "metadata": {},
   "outputs": [],
   "source": [
    "df_image_clean.tweet_id = df_image_clean.tweet_id.astype('str')"
   ]
  },
  {
   "cell_type": "code",
   "execution_count": 87,
   "metadata": {},
   "outputs": [
    {
     "name": "stdout",
     "output_type": "stream",
     "text": [
      "<class 'pandas.core.frame.DataFrame'>\n",
      "RangeIndex: 2075 entries, 0 to 2074\n",
      "Data columns (total 14 columns):\n",
      " #   Column      Non-Null Count  Dtype  \n",
      "---  ------      --------------  -----  \n",
      " 0   tweet_id    2075 non-null   object \n",
      " 1   jpg_url     2075 non-null   object \n",
      " 2   img_num     2075 non-null   int64  \n",
      " 3   p1          2075 non-null   object \n",
      " 4   p1_conf     2075 non-null   float64\n",
      " 5   p1_dog      2075 non-null   bool   \n",
      " 6   p2          2075 non-null   object \n",
      " 7   p2_conf     2075 non-null   float64\n",
      " 8   p2_dog      2075 non-null   bool   \n",
      " 9   p3          2075 non-null   object \n",
      " 10  p3_conf     2075 non-null   float64\n",
      " 11  p3_dog      2075 non-null   bool   \n",
      " 12  breed       2075 non-null   object \n",
      " 13  confidence  2075 non-null   float64\n",
      "dtypes: bool(3), float64(4), int64(1), object(6)\n",
      "memory usage: 184.5+ KB\n"
     ]
    }
   ],
   "source": [
    "df_image_clean.info()"
   ]
  },
  {
   "cell_type": "code",
   "execution_count": 88,
   "metadata": {},
   "outputs": [],
   "source": [
    "# Now join two tables\n",
    "join_col = ['tweet_id','breed','confidence']\n",
    "twitter_archive_clean = pd.merge(twitter_archive_clean, df_image_clean[join_col], on = 'tweet_id', how = 'inner')"
   ]
  },
  {
   "cell_type": "code",
   "execution_count": 89,
   "metadata": {},
   "outputs": [],
   "source": [
    "# drop \"breed\" and \"confidence\" columns in df_image_clean table\n",
    "df_image_clean = df_image_clean.drop(['breed','confidence'], axis = 1)"
   ]
  },
  {
   "cell_type": "markdown",
   "metadata": {},
   "source": [
    "#### Test"
   ]
  },
  {
   "cell_type": "code",
   "execution_count": 90,
   "metadata": {},
   "outputs": [
    {
     "data": {
      "text/html": [
       "<div>\n",
       "<style scoped>\n",
       "    .dataframe tbody tr th:only-of-type {\n",
       "        vertical-align: middle;\n",
       "    }\n",
       "\n",
       "    .dataframe tbody tr th {\n",
       "        vertical-align: top;\n",
       "    }\n",
       "\n",
       "    .dataframe thead th {\n",
       "        text-align: right;\n",
       "    }\n",
       "</style>\n",
       "<table border=\"1\" class=\"dataframe\">\n",
       "  <thead>\n",
       "    <tr style=\"text-align: right;\">\n",
       "      <th></th>\n",
       "      <th>tweet_id</th>\n",
       "      <th>timestamp</th>\n",
       "      <th>source</th>\n",
       "      <th>text</th>\n",
       "      <th>expanded_urls</th>\n",
       "      <th>rating_numerator</th>\n",
       "      <th>rating_denominator</th>\n",
       "      <th>name</th>\n",
       "      <th>stage</th>\n",
       "      <th>breed</th>\n",
       "      <th>confidence</th>\n",
       "    </tr>\n",
       "  </thead>\n",
       "  <tbody>\n",
       "    <tr>\n",
       "      <th>0</th>\n",
       "      <td>892420643555336193</td>\n",
       "      <td>2017-08-01 16:23:56+00:00</td>\n",
       "      <td>Twitter for iPhone</td>\n",
       "      <td>This is Phineas. He's a mystical boy. Only ever appears in the hole of a donut. 13/10 https://t.co/MgUWQ76dJU</td>\n",
       "      <td>https://twitter.com/dog_rates/status/892420643555336193/photo/1</td>\n",
       "      <td>13</td>\n",
       "      <td>10</td>\n",
       "      <td>Phineas</td>\n",
       "      <td>None</td>\n",
       "      <td>None</td>\n",
       "      <td>0.000000</td>\n",
       "    </tr>\n",
       "    <tr>\n",
       "      <th>1</th>\n",
       "      <td>892177421306343426</td>\n",
       "      <td>2017-08-01 00:17:27+00:00</td>\n",
       "      <td>Twitter for iPhone</td>\n",
       "      <td>This is Tilly. She's just checking pup on you. Hopes you're doing ok. If not, she's available for pats, snugs, boops, the whole bit. 13/10 https://t.co/0Xxu71qeIV</td>\n",
       "      <td>https://twitter.com/dog_rates/status/892177421306343426/photo/1</td>\n",
       "      <td>13</td>\n",
       "      <td>10</td>\n",
       "      <td>Tilly</td>\n",
       "      <td>None</td>\n",
       "      <td>chihuahua</td>\n",
       "      <td>0.323581</td>\n",
       "    </tr>\n",
       "    <tr>\n",
       "      <th>2</th>\n",
       "      <td>891815181378084864</td>\n",
       "      <td>2017-07-31 00:18:03+00:00</td>\n",
       "      <td>Twitter for iPhone</td>\n",
       "      <td>This is Archie. He is a rare Norwegian Pouncing Corgo. Lives in the tall grass. You never know when one may strike. 12/10 https://t.co/wUnZnhtVJB</td>\n",
       "      <td>https://twitter.com/dog_rates/status/891815181378084864/photo/1</td>\n",
       "      <td>12</td>\n",
       "      <td>10</td>\n",
       "      <td>Archie</td>\n",
       "      <td>None</td>\n",
       "      <td>chihuahua</td>\n",
       "      <td>0.716012</td>\n",
       "    </tr>\n",
       "    <tr>\n",
       "      <th>3</th>\n",
       "      <td>891689557279858688</td>\n",
       "      <td>2017-07-30 15:58:51+00:00</td>\n",
       "      <td>Twitter for iPhone</td>\n",
       "      <td>This is Darla. She commenced a snooze mid meal. 13/10 happens to the best of us https://t.co/tD36da7qLQ</td>\n",
       "      <td>https://twitter.com/dog_rates/status/891689557279858688/photo/1</td>\n",
       "      <td>13</td>\n",
       "      <td>10</td>\n",
       "      <td>Darla</td>\n",
       "      <td>None</td>\n",
       "      <td>labrador_retriever</td>\n",
       "      <td>0.168086</td>\n",
       "    </tr>\n",
       "    <tr>\n",
       "      <th>4</th>\n",
       "      <td>891327558926688256</td>\n",
       "      <td>2017-07-29 16:00:24+00:00</td>\n",
       "      <td>Twitter for iPhone</td>\n",
       "      <td>This is Franklin. He would like you to stop calling him \"cute.\" He is a very fierce shark and should be respected as such. 12/10 #BarkWeek https://t.co/AtUZn91f7f</td>\n",
       "      <td>https://twitter.com/dog_rates/status/891327558926688256/photo/1</td>\n",
       "      <td>12</td>\n",
       "      <td>10</td>\n",
       "      <td>Franklin</td>\n",
       "      <td>None</td>\n",
       "      <td>basset</td>\n",
       "      <td>0.555712</td>\n",
       "    </tr>\n",
       "  </tbody>\n",
       "</table>\n",
       "</div>"
      ],
      "text/plain": [
       "             tweet_id                 timestamp              source  \\\n",
       "0  892420643555336193 2017-08-01 16:23:56+00:00  Twitter for iPhone   \n",
       "1  892177421306343426 2017-08-01 00:17:27+00:00  Twitter for iPhone   \n",
       "2  891815181378084864 2017-07-31 00:18:03+00:00  Twitter for iPhone   \n",
       "3  891689557279858688 2017-07-30 15:58:51+00:00  Twitter for iPhone   \n",
       "4  891327558926688256 2017-07-29 16:00:24+00:00  Twitter for iPhone   \n",
       "\n",
       "                                                                                                                                                                 text  \\\n",
       "0  This is Phineas. He's a mystical boy. Only ever appears in the hole of a donut. 13/10 https://t.co/MgUWQ76dJU                                                        \n",
       "1  This is Tilly. She's just checking pup on you. Hopes you're doing ok. If not, she's available for pats, snugs, boops, the whole bit. 13/10 https://t.co/0Xxu71qeIV   \n",
       "2  This is Archie. He is a rare Norwegian Pouncing Corgo. Lives in the tall grass. You never know when one may strike. 12/10 https://t.co/wUnZnhtVJB                    \n",
       "3  This is Darla. She commenced a snooze mid meal. 13/10 happens to the best of us https://t.co/tD36da7qLQ                                                              \n",
       "4  This is Franklin. He would like you to stop calling him \"cute.\" He is a very fierce shark and should be respected as such. 12/10 #BarkWeek https://t.co/AtUZn91f7f   \n",
       "\n",
       "                                                     expanded_urls  \\\n",
       "0  https://twitter.com/dog_rates/status/892420643555336193/photo/1   \n",
       "1  https://twitter.com/dog_rates/status/892177421306343426/photo/1   \n",
       "2  https://twitter.com/dog_rates/status/891815181378084864/photo/1   \n",
       "3  https://twitter.com/dog_rates/status/891689557279858688/photo/1   \n",
       "4  https://twitter.com/dog_rates/status/891327558926688256/photo/1   \n",
       "\n",
       "   rating_numerator  rating_denominator      name stage               breed  \\\n",
       "0  13                10                  Phineas   None  None                 \n",
       "1  13                10                  Tilly     None  chihuahua            \n",
       "2  12                10                  Archie    None  chihuahua            \n",
       "3  13                10                  Darla     None  labrador_retriever   \n",
       "4  12                10                  Franklin  None  basset               \n",
       "\n",
       "   confidence  \n",
       "0  0.000000    \n",
       "1  0.323581    \n",
       "2  0.716012    \n",
       "3  0.168086    \n",
       "4  0.555712    "
      ]
     },
     "execution_count": 90,
     "metadata": {},
     "output_type": "execute_result"
    }
   ],
   "source": [
    "twitter_archive_clean.head()"
   ]
  },
  {
   "cell_type": "markdown",
   "metadata": {},
   "source": [
    "### Issue #3: json dataframe should be combined with first table to make information more comprehensive"
   ]
  },
  {
   "cell_type": "markdown",
   "metadata": {
    "collapsed": true,
    "extensions": {
     "jupyter_dashboards": {
      "version": 1,
      "views": {
       "grid_default": {
        "hidden": true
       },
       "report_default": {
        "hidden": true
       }
      }
     }
    }
   },
   "source": [
    "#### Define \n",
    "join jsnn \"favoriate\" and \"retweet_count\" with the tweet_archive_clean table"
   ]
  },
  {
   "cell_type": "markdown",
   "metadata": {},
   "source": [
    "#### Code"
   ]
  },
  {
   "cell_type": "code",
   "execution_count": 91,
   "metadata": {
    "scrolled": false
   },
   "outputs": [
    {
     "data": {
      "text/html": [
       "<div>\n",
       "<style scoped>\n",
       "    .dataframe tbody tr th:only-of-type {\n",
       "        vertical-align: middle;\n",
       "    }\n",
       "\n",
       "    .dataframe tbody tr th {\n",
       "        vertical-align: top;\n",
       "    }\n",
       "\n",
       "    .dataframe thead th {\n",
       "        text-align: right;\n",
       "    }\n",
       "</style>\n",
       "<table border=\"1\" class=\"dataframe\">\n",
       "  <thead>\n",
       "    <tr style=\"text-align: right;\">\n",
       "      <th></th>\n",
       "      <th>id</th>\n",
       "      <th>favorite_count</th>\n",
       "      <th>retweet_count</th>\n",
       "    </tr>\n",
       "  </thead>\n",
       "  <tbody>\n",
       "    <tr>\n",
       "      <th>0</th>\n",
       "      <td>666020888022790149</td>\n",
       "      <td>2319</td>\n",
       "      <td>435</td>\n",
       "    </tr>\n",
       "    <tr>\n",
       "      <th>1</th>\n",
       "      <td>666029285002620928</td>\n",
       "      <td>114</td>\n",
       "      <td>40</td>\n",
       "    </tr>\n",
       "    <tr>\n",
       "      <th>2</th>\n",
       "      <td>666033412701032449</td>\n",
       "      <td>102</td>\n",
       "      <td>37</td>\n",
       "    </tr>\n",
       "    <tr>\n",
       "      <th>3</th>\n",
       "      <td>666044226329800704</td>\n",
       "      <td>251</td>\n",
       "      <td>118</td>\n",
       "    </tr>\n",
       "    <tr>\n",
       "      <th>4</th>\n",
       "      <td>666049248165822465</td>\n",
       "      <td>91</td>\n",
       "      <td>37</td>\n",
       "    </tr>\n",
       "  </tbody>\n",
       "</table>\n",
       "</div>"
      ],
      "text/plain": [
       "                   id  favorite_count  retweet_count\n",
       "0  666020888022790149  2319            435          \n",
       "1  666029285002620928  114             40           \n",
       "2  666033412701032449  102             37           \n",
       "3  666044226329800704  251             118          \n",
       "4  666049248165822465  91              37           "
      ]
     },
     "execution_count": 91,
     "metadata": {},
     "output_type": "execute_result"
    }
   ],
   "source": [
    "df_data_clean.head()"
   ]
  },
  {
   "cell_type": "code",
   "execution_count": 92,
   "metadata": {},
   "outputs": [
    {
     "name": "stdout",
     "output_type": "stream",
     "text": [
      "<class 'pandas.core.frame.DataFrame'>\n",
      "RangeIndex: 2057 entries, 0 to 2056\n",
      "Data columns (total 3 columns):\n",
      " #   Column          Non-Null Count  Dtype \n",
      "---  ------          --------------  ----- \n",
      " 0   id              2057 non-null   object\n",
      " 1   favorite_count  2057 non-null   int64 \n",
      " 2   retweet_count   2057 non-null   int64 \n",
      "dtypes: int64(2), object(1)\n",
      "memory usage: 48.3+ KB\n"
     ]
    }
   ],
   "source": [
    "df_data_clean.info()"
   ]
  },
  {
   "cell_type": "code",
   "execution_count": 93,
   "metadata": {},
   "outputs": [],
   "source": [
    "# before joining, change name from \"id\" to \"tweet_id\"\n",
    "df_data_clean = df_data_clean.rename(columns = {'id': 'tweet_id'})"
   ]
  },
  {
   "cell_type": "code",
   "execution_count": 94,
   "metadata": {},
   "outputs": [
    {
     "data": {
      "text/html": [
       "<div>\n",
       "<style scoped>\n",
       "    .dataframe tbody tr th:only-of-type {\n",
       "        vertical-align: middle;\n",
       "    }\n",
       "\n",
       "    .dataframe tbody tr th {\n",
       "        vertical-align: top;\n",
       "    }\n",
       "\n",
       "    .dataframe thead th {\n",
       "        text-align: right;\n",
       "    }\n",
       "</style>\n",
       "<table border=\"1\" class=\"dataframe\">\n",
       "  <thead>\n",
       "    <tr style=\"text-align: right;\">\n",
       "      <th></th>\n",
       "      <th>tweet_id</th>\n",
       "      <th>favorite_count</th>\n",
       "      <th>retweet_count</th>\n",
       "    </tr>\n",
       "  </thead>\n",
       "  <tbody>\n",
       "    <tr>\n",
       "      <th>0</th>\n",
       "      <td>666020888022790149</td>\n",
       "      <td>2319</td>\n",
       "      <td>435</td>\n",
       "    </tr>\n",
       "    <tr>\n",
       "      <th>1</th>\n",
       "      <td>666029285002620928</td>\n",
       "      <td>114</td>\n",
       "      <td>40</td>\n",
       "    </tr>\n",
       "    <tr>\n",
       "      <th>2</th>\n",
       "      <td>666033412701032449</td>\n",
       "      <td>102</td>\n",
       "      <td>37</td>\n",
       "    </tr>\n",
       "    <tr>\n",
       "      <th>3</th>\n",
       "      <td>666044226329800704</td>\n",
       "      <td>251</td>\n",
       "      <td>118</td>\n",
       "    </tr>\n",
       "    <tr>\n",
       "      <th>4</th>\n",
       "      <td>666049248165822465</td>\n",
       "      <td>91</td>\n",
       "      <td>37</td>\n",
       "    </tr>\n",
       "  </tbody>\n",
       "</table>\n",
       "</div>"
      ],
      "text/plain": [
       "             tweet_id  favorite_count  retweet_count\n",
       "0  666020888022790149  2319            435          \n",
       "1  666029285002620928  114             40           \n",
       "2  666033412701032449  102             37           \n",
       "3  666044226329800704  251             118          \n",
       "4  666049248165822465  91              37           "
      ]
     },
     "execution_count": 94,
     "metadata": {},
     "output_type": "execute_result"
    }
   ],
   "source": [
    "df_data_clean.head()"
   ]
  },
  {
   "cell_type": "code",
   "execution_count": 95,
   "metadata": {},
   "outputs": [],
   "source": [
    "twitter_archive_clean = pd.merge(twitter_archive_clean, df_data_clean, on = 'tweet_id', how = 'left')"
   ]
  },
  {
   "cell_type": "code",
   "execution_count": 96,
   "metadata": {
    "scrolled": false
   },
   "outputs": [
    {
     "name": "stdout",
     "output_type": "stream",
     "text": [
      "<class 'pandas.core.frame.DataFrame'>\n",
      "Int64Index: 1956 entries, 0 to 1955\n",
      "Data columns (total 13 columns):\n",
      " #   Column              Non-Null Count  Dtype              \n",
      "---  ------              --------------  -----              \n",
      " 0   tweet_id            1956 non-null   object             \n",
      " 1   timestamp           1956 non-null   datetime64[ns, UTC]\n",
      " 2   source              1956 non-null   object             \n",
      " 3   text                1956 non-null   object             \n",
      " 4   expanded_urls       1956 non-null   object             \n",
      " 5   rating_numerator    1956 non-null   int64              \n",
      " 6   rating_denominator  1956 non-null   int64              \n",
      " 7   name                1956 non-null   object             \n",
      " 8   stage               1956 non-null   object             \n",
      " 9   breed               1956 non-null   object             \n",
      " 10  confidence          1956 non-null   float64            \n",
      " 11  favorite_count      1948 non-null   float64            \n",
      " 12  retweet_count       1948 non-null   float64            \n",
      "dtypes: datetime64[ns, UTC](1), float64(3), int64(2), object(7)\n",
      "memory usage: 213.9+ KB\n"
     ]
    }
   ],
   "source": [
    "twitter_archive_clean.info()"
   ]
  },
  {
   "cell_type": "markdown",
   "metadata": {},
   "source": [
    "### Note:\n",
    "\n",
    "* After joining, types of \"favorite_count\" and \"retweet_count\" become float, we should change them back to the int\n",
    "* Also, there are some missing  values in these two columns which need to be removed\n"
   ]
  },
  {
   "cell_type": "code",
   "execution_count": 97,
   "metadata": {},
   "outputs": [],
   "source": [
    "twitter_archive_clean['favorite_count'] = pd.to_numeric(twitter_archive_clean['favorite_count'], errors='coerce').astype('Int64')\n",
    "twitter_archive_clean['retweet_count'] = pd.to_numeric(twitter_archive_clean['retweet_count'], errors='coerce').astype('Int64')"
   ]
  },
  {
   "cell_type": "markdown",
   "metadata": {},
   "source": [
    "#### Test"
   ]
  },
  {
   "cell_type": "code",
   "execution_count": 98,
   "metadata": {
    "scrolled": true
   },
   "outputs": [
    {
     "name": "stdout",
     "output_type": "stream",
     "text": [
      "<class 'pandas.core.frame.DataFrame'>\n",
      "Int64Index: 1956 entries, 0 to 1955\n",
      "Data columns (total 13 columns):\n",
      " #   Column              Non-Null Count  Dtype              \n",
      "---  ------              --------------  -----              \n",
      " 0   tweet_id            1956 non-null   object             \n",
      " 1   timestamp           1956 non-null   datetime64[ns, UTC]\n",
      " 2   source              1956 non-null   object             \n",
      " 3   text                1956 non-null   object             \n",
      " 4   expanded_urls       1956 non-null   object             \n",
      " 5   rating_numerator    1956 non-null   int64              \n",
      " 6   rating_denominator  1956 non-null   int64              \n",
      " 7   name                1956 non-null   object             \n",
      " 8   stage               1956 non-null   object             \n",
      " 9   breed               1956 non-null   object             \n",
      " 10  confidence          1956 non-null   float64            \n",
      " 11  favorite_count      1948 non-null   Int64              \n",
      " 12  retweet_count       1948 non-null   Int64              \n",
      "dtypes: Int64(2), datetime64[ns, UTC](1), float64(1), int64(2), object(7)\n",
      "memory usage: 217.8+ KB\n"
     ]
    }
   ],
   "source": [
    "twitter_archive_clean.info()"
   ]
  },
  {
   "cell_type": "code",
   "execution_count": 99,
   "metadata": {},
   "outputs": [
    {
     "data": {
      "text/html": [
       "<div>\n",
       "<style scoped>\n",
       "    .dataframe tbody tr th:only-of-type {\n",
       "        vertical-align: middle;\n",
       "    }\n",
       "\n",
       "    .dataframe tbody tr th {\n",
       "        vertical-align: top;\n",
       "    }\n",
       "\n",
       "    .dataframe thead th {\n",
       "        text-align: right;\n",
       "    }\n",
       "</style>\n",
       "<table border=\"1\" class=\"dataframe\">\n",
       "  <thead>\n",
       "    <tr style=\"text-align: right;\">\n",
       "      <th></th>\n",
       "      <th>tweet_id</th>\n",
       "      <th>timestamp</th>\n",
       "      <th>source</th>\n",
       "      <th>text</th>\n",
       "      <th>expanded_urls</th>\n",
       "      <th>rating_numerator</th>\n",
       "      <th>rating_denominator</th>\n",
       "      <th>name</th>\n",
       "      <th>stage</th>\n",
       "      <th>breed</th>\n",
       "      <th>confidence</th>\n",
       "      <th>favorite_count</th>\n",
       "      <th>retweet_count</th>\n",
       "    </tr>\n",
       "  </thead>\n",
       "  <tbody>\n",
       "    <tr>\n",
       "      <th>0</th>\n",
       "      <td>892420643555336193</td>\n",
       "      <td>2017-08-01 16:23:56+00:00</td>\n",
       "      <td>Twitter for iPhone</td>\n",
       "      <td>This is Phineas. He's a mystical boy. Only ever appears in the hole of a donut. 13/10 https://t.co/MgUWQ76dJU</td>\n",
       "      <td>https://twitter.com/dog_rates/status/892420643555336193/photo/1</td>\n",
       "      <td>13</td>\n",
       "      <td>10</td>\n",
       "      <td>Phineas</td>\n",
       "      <td>None</td>\n",
       "      <td>None</td>\n",
       "      <td>0.000000</td>\n",
       "      <td>34449</td>\n",
       "      <td>7162</td>\n",
       "    </tr>\n",
       "    <tr>\n",
       "      <th>1</th>\n",
       "      <td>892177421306343426</td>\n",
       "      <td>2017-08-01 00:17:27+00:00</td>\n",
       "      <td>Twitter for iPhone</td>\n",
       "      <td>This is Tilly. She's just checking pup on you. Hopes you're doing ok. If not, she's available for pats, snugs, boops, the whole bit. 13/10 https://t.co/0Xxu71qeIV</td>\n",
       "      <td>https://twitter.com/dog_rates/status/892177421306343426/photo/1</td>\n",
       "      <td>13</td>\n",
       "      <td>10</td>\n",
       "      <td>Tilly</td>\n",
       "      <td>None</td>\n",
       "      <td>chihuahua</td>\n",
       "      <td>0.323581</td>\n",
       "      <td>29876</td>\n",
       "      <td>5384</td>\n",
       "    </tr>\n",
       "    <tr>\n",
       "      <th>2</th>\n",
       "      <td>891815181378084864</td>\n",
       "      <td>2017-07-31 00:18:03+00:00</td>\n",
       "      <td>Twitter for iPhone</td>\n",
       "      <td>This is Archie. He is a rare Norwegian Pouncing Corgo. Lives in the tall grass. You never know when one may strike. 12/10 https://t.co/wUnZnhtVJB</td>\n",
       "      <td>https://twitter.com/dog_rates/status/891815181378084864/photo/1</td>\n",
       "      <td>12</td>\n",
       "      <td>10</td>\n",
       "      <td>Archie</td>\n",
       "      <td>None</td>\n",
       "      <td>chihuahua</td>\n",
       "      <td>0.716012</td>\n",
       "      <td>22492</td>\n",
       "      <td>3551</td>\n",
       "    </tr>\n",
       "    <tr>\n",
       "      <th>3</th>\n",
       "      <td>891689557279858688</td>\n",
       "      <td>2017-07-30 15:58:51+00:00</td>\n",
       "      <td>Twitter for iPhone</td>\n",
       "      <td>This is Darla. She commenced a snooze mid meal. 13/10 happens to the best of us https://t.co/tD36da7qLQ</td>\n",
       "      <td>https://twitter.com/dog_rates/status/891689557279858688/photo/1</td>\n",
       "      <td>13</td>\n",
       "      <td>10</td>\n",
       "      <td>Darla</td>\n",
       "      <td>None</td>\n",
       "      <td>labrador_retriever</td>\n",
       "      <td>0.168086</td>\n",
       "      <td>37629</td>\n",
       "      <td>7370</td>\n",
       "    </tr>\n",
       "    <tr>\n",
       "      <th>4</th>\n",
       "      <td>891327558926688256</td>\n",
       "      <td>2017-07-29 16:00:24+00:00</td>\n",
       "      <td>Twitter for iPhone</td>\n",
       "      <td>This is Franklin. He would like you to stop calling him \"cute.\" He is a very fierce shark and should be respected as such. 12/10 #BarkWeek https://t.co/AtUZn91f7f</td>\n",
       "      <td>https://twitter.com/dog_rates/status/891327558926688256/photo/1</td>\n",
       "      <td>12</td>\n",
       "      <td>10</td>\n",
       "      <td>Franklin</td>\n",
       "      <td>None</td>\n",
       "      <td>basset</td>\n",
       "      <td>0.555712</td>\n",
       "      <td>35951</td>\n",
       "      <td>7919</td>\n",
       "    </tr>\n",
       "  </tbody>\n",
       "</table>\n",
       "</div>"
      ],
      "text/plain": [
       "             tweet_id                 timestamp              source  \\\n",
       "0  892420643555336193 2017-08-01 16:23:56+00:00  Twitter for iPhone   \n",
       "1  892177421306343426 2017-08-01 00:17:27+00:00  Twitter for iPhone   \n",
       "2  891815181378084864 2017-07-31 00:18:03+00:00  Twitter for iPhone   \n",
       "3  891689557279858688 2017-07-30 15:58:51+00:00  Twitter for iPhone   \n",
       "4  891327558926688256 2017-07-29 16:00:24+00:00  Twitter for iPhone   \n",
       "\n",
       "                                                                                                                                                                 text  \\\n",
       "0  This is Phineas. He's a mystical boy. Only ever appears in the hole of a donut. 13/10 https://t.co/MgUWQ76dJU                                                        \n",
       "1  This is Tilly. She's just checking pup on you. Hopes you're doing ok. If not, she's available for pats, snugs, boops, the whole bit. 13/10 https://t.co/0Xxu71qeIV   \n",
       "2  This is Archie. He is a rare Norwegian Pouncing Corgo. Lives in the tall grass. You never know when one may strike. 12/10 https://t.co/wUnZnhtVJB                    \n",
       "3  This is Darla. She commenced a snooze mid meal. 13/10 happens to the best of us https://t.co/tD36da7qLQ                                                              \n",
       "4  This is Franklin. He would like you to stop calling him \"cute.\" He is a very fierce shark and should be respected as such. 12/10 #BarkWeek https://t.co/AtUZn91f7f   \n",
       "\n",
       "                                                     expanded_urls  \\\n",
       "0  https://twitter.com/dog_rates/status/892420643555336193/photo/1   \n",
       "1  https://twitter.com/dog_rates/status/892177421306343426/photo/1   \n",
       "2  https://twitter.com/dog_rates/status/891815181378084864/photo/1   \n",
       "3  https://twitter.com/dog_rates/status/891689557279858688/photo/1   \n",
       "4  https://twitter.com/dog_rates/status/891327558926688256/photo/1   \n",
       "\n",
       "   rating_numerator  rating_denominator      name stage               breed  \\\n",
       "0  13                10                  Phineas   None  None                 \n",
       "1  13                10                  Tilly     None  chihuahua            \n",
       "2  12                10                  Archie    None  chihuahua            \n",
       "3  13                10                  Darla     None  labrador_retriever   \n",
       "4  12                10                  Franklin  None  basset               \n",
       "\n",
       "   confidence  favorite_count  retweet_count  \n",
       "0  0.000000    34449           7162           \n",
       "1  0.323581    29876           5384           \n",
       "2  0.716012    22492           3551           \n",
       "3  0.168086    37629           7370           \n",
       "4  0.555712    35951           7919           "
      ]
     },
     "execution_count": 99,
     "metadata": {},
     "output_type": "execute_result"
    }
   ],
   "source": [
    "twitter_archive_clean.head()"
   ]
  },
  {
   "cell_type": "markdown",
   "metadata": {},
   "source": [
    "### Issue #4: Adjust column positions in twitter_archive_clean table to make reading more easily"
   ]
  },
  {
   "cell_type": "markdown",
   "metadata": {
    "collapsed": true,
    "extensions": {
     "jupyter_dashboards": {
      "version": 1,
      "views": {
       "grid_default": {
        "hidden": true
       },
       "report_default": {
        "hidden": true
       }
      }
     }
    }
   },
   "source": [
    "#### Define \n",
    "Put number columns such as \"rating\", \"favoriate_count\", \"retweet_count\" before text columns"
   ]
  },
  {
   "cell_type": "markdown",
   "metadata": {},
   "source": [
    "#### Code"
   ]
  },
  {
   "cell_type": "code",
   "execution_count": 100,
   "metadata": {},
   "outputs": [
    {
     "name": "stdout",
     "output_type": "stream",
     "text": [
      "['tweet_id', 'timestamp', 'source', 'text', 'expanded_urls', 'rating_numerator', 'rating_denominator', 'name', 'stage', 'breed', 'confidence', 'favorite_count', 'retweet_count']\n"
     ]
    }
   ],
   "source": [
    "col_list = list(twitter_archive_clean)\n",
    "print(col_list)"
   ]
  },
  {
   "cell_type": "code",
   "execution_count": 101,
   "metadata": {},
   "outputs": [],
   "source": [
    "# adjust new positions\n",
    "new_pos = ['tweet_id', 'timestamp','rating_numerator', 'rating_denominator','favorite_count', \n",
    "           'retweet_count','name', 'stage', 'breed', 'confidence',\n",
    "          'source', 'text', 'expanded_urls']\n",
    "twitter_archive_clean = twitter_archive_clean[new_pos]"
   ]
  },
  {
   "cell_type": "markdown",
   "metadata": {},
   "source": [
    "#### Test"
   ]
  },
  {
   "cell_type": "code",
   "execution_count": 102,
   "metadata": {},
   "outputs": [
    {
     "data": {
      "text/html": [
       "<div>\n",
       "<style scoped>\n",
       "    .dataframe tbody tr th:only-of-type {\n",
       "        vertical-align: middle;\n",
       "    }\n",
       "\n",
       "    .dataframe tbody tr th {\n",
       "        vertical-align: top;\n",
       "    }\n",
       "\n",
       "    .dataframe thead th {\n",
       "        text-align: right;\n",
       "    }\n",
       "</style>\n",
       "<table border=\"1\" class=\"dataframe\">\n",
       "  <thead>\n",
       "    <tr style=\"text-align: right;\">\n",
       "      <th></th>\n",
       "      <th>tweet_id</th>\n",
       "      <th>timestamp</th>\n",
       "      <th>rating_numerator</th>\n",
       "      <th>rating_denominator</th>\n",
       "      <th>favorite_count</th>\n",
       "      <th>retweet_count</th>\n",
       "      <th>name</th>\n",
       "      <th>stage</th>\n",
       "      <th>breed</th>\n",
       "      <th>confidence</th>\n",
       "      <th>source</th>\n",
       "      <th>text</th>\n",
       "      <th>expanded_urls</th>\n",
       "    </tr>\n",
       "  </thead>\n",
       "  <tbody>\n",
       "    <tr>\n",
       "      <th>0</th>\n",
       "      <td>892420643555336193</td>\n",
       "      <td>2017-08-01 16:23:56+00:00</td>\n",
       "      <td>13</td>\n",
       "      <td>10</td>\n",
       "      <td>34449</td>\n",
       "      <td>7162</td>\n",
       "      <td>Phineas</td>\n",
       "      <td>None</td>\n",
       "      <td>None</td>\n",
       "      <td>0.000000</td>\n",
       "      <td>Twitter for iPhone</td>\n",
       "      <td>This is Phineas. He's a mystical boy. Only ever appears in the hole of a donut. 13/10 https://t.co/MgUWQ76dJU</td>\n",
       "      <td>https://twitter.com/dog_rates/status/892420643555336193/photo/1</td>\n",
       "    </tr>\n",
       "    <tr>\n",
       "      <th>1</th>\n",
       "      <td>892177421306343426</td>\n",
       "      <td>2017-08-01 00:17:27+00:00</td>\n",
       "      <td>13</td>\n",
       "      <td>10</td>\n",
       "      <td>29876</td>\n",
       "      <td>5384</td>\n",
       "      <td>Tilly</td>\n",
       "      <td>None</td>\n",
       "      <td>chihuahua</td>\n",
       "      <td>0.323581</td>\n",
       "      <td>Twitter for iPhone</td>\n",
       "      <td>This is Tilly. She's just checking pup on you. Hopes you're doing ok. If not, she's available for pats, snugs, boops, the whole bit. 13/10 https://t.co/0Xxu71qeIV</td>\n",
       "      <td>https://twitter.com/dog_rates/status/892177421306343426/photo/1</td>\n",
       "    </tr>\n",
       "  </tbody>\n",
       "</table>\n",
       "</div>"
      ],
      "text/plain": [
       "             tweet_id                 timestamp  rating_numerator  \\\n",
       "0  892420643555336193 2017-08-01 16:23:56+00:00  13                 \n",
       "1  892177421306343426 2017-08-01 00:17:27+00:00  13                 \n",
       "\n",
       "   rating_denominator  favorite_count  retweet_count     name stage  \\\n",
       "0  10                  34449           7162           Phineas  None   \n",
       "1  10                  29876           5384           Tilly    None   \n",
       "\n",
       "       breed  confidence              source  \\\n",
       "0  None       0.000000    Twitter for iPhone   \n",
       "1  chihuahua  0.323581    Twitter for iPhone   \n",
       "\n",
       "                                                                                                                                                                 text  \\\n",
       "0  This is Phineas. He's a mystical boy. Only ever appears in the hole of a donut. 13/10 https://t.co/MgUWQ76dJU                                                        \n",
       "1  This is Tilly. She's just checking pup on you. Hopes you're doing ok. If not, she's available for pats, snugs, boops, the whole bit. 13/10 https://t.co/0Xxu71qeIV   \n",
       "\n",
       "                                                     expanded_urls  \n",
       "0  https://twitter.com/dog_rates/status/892420643555336193/photo/1  \n",
       "1  https://twitter.com/dog_rates/status/892177421306343426/photo/1  "
      ]
     },
     "execution_count": 102,
     "metadata": {},
     "output_type": "execute_result"
    }
   ],
   "source": [
    "twitter_archive_clean.head(2)"
   ]
  },
  {
   "cell_type": "markdown",
   "metadata": {},
   "source": [
    "## Storing Data\n",
    "Save gathered, assessed, and cleaned master dataset to a CSV file named \"twitter_archive_master.csv\"."
   ]
  },
  {
   "cell_type": "code",
   "execution_count": 103,
   "metadata": {},
   "outputs": [],
   "source": [
    "twitter_archive_clean.to_csv('twitter_archive_master.csv', index =False)"
   ]
  },
  {
   "cell_type": "markdown",
   "metadata": {},
   "source": [
    "## Analyzing and Visualizing Data\n",
    "In this section, analyze and visualize your wrangled data. You must produce at least **three (3) insights and one (1) visualization.**"
   ]
  },
  {
   "cell_type": "code",
   "execution_count": 257,
   "metadata": {},
   "outputs": [],
   "source": [
    "import matplotlib.pyplot as plt\n",
    "%matplotlib inline\n",
    "import seaborn as sns"
   ]
  },
  {
   "cell_type": "code",
   "execution_count": 194,
   "metadata": {
    "scrolled": true
   },
   "outputs": [
    {
     "data": {
      "text/html": [
       "<div>\n",
       "<style scoped>\n",
       "    .dataframe tbody tr th:only-of-type {\n",
       "        vertical-align: middle;\n",
       "    }\n",
       "\n",
       "    .dataframe tbody tr th {\n",
       "        vertical-align: top;\n",
       "    }\n",
       "\n",
       "    .dataframe thead th {\n",
       "        text-align: right;\n",
       "    }\n",
       "</style>\n",
       "<table border=\"1\" class=\"dataframe\">\n",
       "  <thead>\n",
       "    <tr style=\"text-align: right;\">\n",
       "      <th></th>\n",
       "      <th>tweet_id</th>\n",
       "      <th>timestamp</th>\n",
       "      <th>rating_numerator</th>\n",
       "      <th>rating_denominator</th>\n",
       "      <th>favorite_count</th>\n",
       "      <th>retweet_count</th>\n",
       "      <th>name</th>\n",
       "      <th>stage</th>\n",
       "      <th>breed</th>\n",
       "      <th>confidence</th>\n",
       "      <th>source</th>\n",
       "      <th>text</th>\n",
       "      <th>expanded_urls</th>\n",
       "    </tr>\n",
       "  </thead>\n",
       "  <tbody>\n",
       "    <tr>\n",
       "      <th>0</th>\n",
       "      <td>892420643555336193</td>\n",
       "      <td>2017-08-01 16:23:56+00:00</td>\n",
       "      <td>13</td>\n",
       "      <td>10</td>\n",
       "      <td>34449</td>\n",
       "      <td>7162</td>\n",
       "      <td>Phineas</td>\n",
       "      <td>None</td>\n",
       "      <td>None</td>\n",
       "      <td>0.0</td>\n",
       "      <td>Twitter for iPhone</td>\n",
       "      <td>This is Phineas. He's a mystical boy. Only ever appears in the hole of a donut. 13/10 https://t.co/MgUWQ76dJU</td>\n",
       "      <td>https://twitter.com/dog_rates/status/892420643555336193/photo/1</td>\n",
       "    </tr>\n",
       "  </tbody>\n",
       "</table>\n",
       "</div>"
      ],
      "text/plain": [
       "             tweet_id                 timestamp  rating_numerator  \\\n",
       "0  892420643555336193 2017-08-01 16:23:56+00:00  13                 \n",
       "\n",
       "   rating_denominator  favorite_count  retweet_count     name stage breed  \\\n",
       "0  10                  34449           7162           Phineas  None  None   \n",
       "\n",
       "   confidence              source  \\\n",
       "0  0.0         Twitter for iPhone   \n",
       "\n",
       "                                                                                                            text  \\\n",
       "0  This is Phineas. He's a mystical boy. Only ever appears in the hole of a donut. 13/10 https://t.co/MgUWQ76dJU   \n",
       "\n",
       "                                                     expanded_urls  \n",
       "0  https://twitter.com/dog_rates/status/892420643555336193/photo/1  "
      ]
     },
     "execution_count": 194,
     "metadata": {},
     "output_type": "execute_result"
    }
   ],
   "source": [
    "we_rate_dogs = twitter_archive_clean.copy()\n",
    "we_rate_dogs.head(1)"
   ]
  },
  {
   "cell_type": "markdown",
   "metadata": {},
   "source": [
    "### 1. Statistics"
   ]
  },
  {
   "cell_type": "code",
   "execution_count": 206,
   "metadata": {},
   "outputs": [
    {
     "data": {
      "text/html": [
       "<div>\n",
       "<style scoped>\n",
       "    .dataframe tbody tr th:only-of-type {\n",
       "        vertical-align: middle;\n",
       "    }\n",
       "\n",
       "    .dataframe tbody tr th {\n",
       "        vertical-align: top;\n",
       "    }\n",
       "\n",
       "    .dataframe thead th {\n",
       "        text-align: right;\n",
       "    }\n",
       "</style>\n",
       "<table border=\"1\" class=\"dataframe\">\n",
       "  <thead>\n",
       "    <tr style=\"text-align: right;\">\n",
       "      <th></th>\n",
       "      <th>rating_numerator</th>\n",
       "      <th>rating_denominator</th>\n",
       "      <th>favorite_count</th>\n",
       "      <th>retweet_count</th>\n",
       "    </tr>\n",
       "  </thead>\n",
       "  <tbody>\n",
       "    <tr>\n",
       "      <th>count</th>\n",
       "      <td>1956.000000</td>\n",
       "      <td>1956.0</td>\n",
       "      <td>1948.000000</td>\n",
       "      <td>1948.000000</td>\n",
       "    </tr>\n",
       "    <tr>\n",
       "      <th>mean</th>\n",
       "      <td>10.538344</td>\n",
       "      <td>10.0</td>\n",
       "      <td>7929.744353</td>\n",
       "      <td>2314.364476</td>\n",
       "    </tr>\n",
       "    <tr>\n",
       "      <th>std</th>\n",
       "      <td>2.172618</td>\n",
       "      <td>0.0</td>\n",
       "      <td>11674.833950</td>\n",
       "      <td>4142.818756</td>\n",
       "    </tr>\n",
       "    <tr>\n",
       "      <th>min</th>\n",
       "      <td>0.000000</td>\n",
       "      <td>10.0</td>\n",
       "      <td>67.000000</td>\n",
       "      <td>11.000000</td>\n",
       "    </tr>\n",
       "    <tr>\n",
       "      <th>25%</th>\n",
       "      <td>10.000000</td>\n",
       "      <td>10.0</td>\n",
       "      <td>1661.500000</td>\n",
       "      <td>511.750000</td>\n",
       "    </tr>\n",
       "    <tr>\n",
       "      <th>50%</th>\n",
       "      <td>11.000000</td>\n",
       "      <td>10.0</td>\n",
       "      <td>3561.500000</td>\n",
       "      <td>1111.500000</td>\n",
       "    </tr>\n",
       "    <tr>\n",
       "      <th>75%</th>\n",
       "      <td>12.000000</td>\n",
       "      <td>10.0</td>\n",
       "      <td>9903.500000</td>\n",
       "      <td>2637.750000</td>\n",
       "    </tr>\n",
       "    <tr>\n",
       "      <th>max</th>\n",
       "      <td>14.000000</td>\n",
       "      <td>10.0</td>\n",
       "      <td>147592.000000</td>\n",
       "      <td>72425.000000</td>\n",
       "    </tr>\n",
       "  </tbody>\n",
       "</table>\n",
       "</div>"
      ],
      "text/plain": [
       "       rating_numerator  rating_denominator  favorite_count  retweet_count\n",
       "count  1956.000000       1956.0              1948.000000     1948.000000  \n",
       "mean   10.538344         10.0                7929.744353     2314.364476  \n",
       "std    2.172618          0.0                 11674.833950    4142.818756  \n",
       "min    0.000000          10.0                67.000000       11.000000    \n",
       "25%    10.000000         10.0                1661.500000     511.750000   \n",
       "50%    11.000000         10.0                3561.500000     1111.500000  \n",
       "75%    12.000000         10.0                9903.500000     2637.750000  \n",
       "max    14.000000         10.0                147592.000000   72425.000000 "
      ]
     },
     "execution_count": 206,
     "metadata": {},
     "output_type": "execute_result"
    }
   ],
   "source": [
    "we_rate_dogs[['rating_numerator','rating_denominator','favorite_count','retweet_count']].describe()"
   ]
  },
  {
   "cell_type": "markdown",
   "metadata": {},
   "source": [
    "### 2. Distribution of rating (numerator)"
   ]
  },
  {
   "cell_type": "code",
   "execution_count": 197,
   "metadata": {
    "scrolled": true
   },
   "outputs": [
    {
     "data": {
      "image/png": "[encoded data removed]",
      "text/plain": [
       "<Figure size 432x288 with 1 Axes>"
      ]
     },
     "metadata": {},
     "output_type": "display_data"
    }
   ],
   "source": [
    "plt.hist(we_rate_dogs['rating_numerator'], alpha = 0.7)\n",
    "plt.title('Rating Distribution')\n",
    "plt.xlabel('raing')\n",
    "plt.ylabel('number of tweets');"
   ]
  },
  {
   "cell_type": "code",
   "execution_count": 200,
   "metadata": {},
   "outputs": [
    {
     "name": "stdout",
     "output_type": "stream",
     "text": [
      "There are 1547 tweets with ratings bigger than 10\n",
      "The percentage of tweets with ratings bigger than 10 is 79%\n"
     ]
    }
   ],
   "source": [
    "number = sum(we_rate_dogs['rating_numerator'] >= 10)\n",
    "percentage = sum(we_rate_dogs['rating_numerator'] >= 10) / len(we_rate_dogs['rating_numerator'])\n",
    "print('There are {} tweets with ratings bigger than 10'.format(number))\n",
    "print('The percentage of tweets with ratings bigger than 10 is {}%'.format(int(percentage * 100)))"
   ]
  },
  {
   "cell_type": "markdown",
   "metadata": {},
   "source": [
    "### Note:\n",
    "* From rating histogram, we can clearly see most ratings are bigger than 10. The descriptive statistics also tells us that 75% of ratings are between 10 and 14 inclusive.\n",
    "* More specifically, there are 1547 tweets with ratings bigger than 10 and its percentage is 79%."
   ]
  },
  {
   "cell_type": "markdown",
   "metadata": {},
   "source": [
    "### 3. Which tweet is the most favorited (and also most retweeted)? "
   ]
  },
  {
   "cell_type": "code",
   "execution_count": 219,
   "metadata": {
    "scrolled": true
   },
   "outputs": [
    {
     "data": {
      "text/html": [
       "<div>\n",
       "<style scoped>\n",
       "    .dataframe tbody tr th:only-of-type {\n",
       "        vertical-align: middle;\n",
       "    }\n",
       "\n",
       "    .dataframe tbody tr th {\n",
       "        vertical-align: top;\n",
       "    }\n",
       "\n",
       "    .dataframe thead th {\n",
       "        text-align: right;\n",
       "    }\n",
       "</style>\n",
       "<table border=\"1\" class=\"dataframe\">\n",
       "  <thead>\n",
       "    <tr style=\"text-align: right;\">\n",
       "      <th></th>\n",
       "      <th>tweet_id</th>\n",
       "      <th>timestamp</th>\n",
       "      <th>rating_numerator</th>\n",
       "      <th>rating_denominator</th>\n",
       "      <th>favorite_count</th>\n",
       "      <th>retweet_count</th>\n",
       "      <th>name</th>\n",
       "      <th>stage</th>\n",
       "      <th>breed</th>\n",
       "      <th>confidence</th>\n",
       "      <th>source</th>\n",
       "      <th>text</th>\n",
       "      <th>expanded_urls</th>\n",
       "    </tr>\n",
       "  </thead>\n",
       "  <tbody>\n",
       "    <tr>\n",
       "      <th>765</th>\n",
       "      <td>744234799360020481</td>\n",
       "      <td>2016-06-18 18:26:18+00:00</td>\n",
       "      <td>13</td>\n",
       "      <td>10</td>\n",
       "      <td>147592</td>\n",
       "      <td>72425</td>\n",
       "      <td>None</td>\n",
       "      <td>doggo</td>\n",
       "      <td>labrador_retriever</td>\n",
       "      <td>0.825333</td>\n",
       "      <td>Twitter for iPhone</td>\n",
       "      <td>Here's a doggo realizing you can stand in a pool. 13/10 enlightened af (vid by Tina Conrad) https://t.co/7wE9LTEXC4</td>\n",
       "      <td>https://twitter.com/dog_rates/status/744234799360020481/photo/1</td>\n",
       "    </tr>\n",
       "  </tbody>\n",
       "</table>\n",
       "</div>"
      ],
      "text/plain": [
       "               tweet_id                 timestamp  rating_numerator  \\\n",
       "765  744234799360020481 2016-06-18 18:26:18+00:00  13                 \n",
       "\n",
       "     rating_denominator  favorite_count  retweet_count  name  stage  \\\n",
       "765  10                  147592          72425          None  doggo   \n",
       "\n",
       "                  breed  confidence              source  \\\n",
       "765  labrador_retriever  0.825333    Twitter for iPhone   \n",
       "\n",
       "                                                                                                                    text  \\\n",
       "765  Here's a doggo realizing you can stand in a pool. 13/10 enlightened af (vid by Tina Conrad) https://t.co/7wE9LTEXC4   \n",
       "\n",
       "                                                       expanded_urls  \n",
       "765  https://twitter.com/dog_rates/status/744234799360020481/photo/1  "
      ]
     },
     "execution_count": 219,
     "metadata": {},
     "output_type": "execute_result"
    }
   ],
   "source": [
    "we_rate_dogs.query('favorite_count == 147592', engine = 'python')"
   ]
  },
  {
   "cell_type": "markdown",
   "metadata": {},
   "source": [
    "![Image of favorite tweet](favorite_image.jpg)"
   ]
  },
  {
   "cell_type": "markdown",
   "metadata": {},
   "source": [
    "### 4. Which is the distribution of stage?"
   ]
  },
  {
   "cell_type": "code",
   "execution_count": 220,
   "metadata": {},
   "outputs": [],
   "source": [
    "stage = we_rate_dogs['stage'].value_counts()"
   ]
  },
  {
   "cell_type": "code",
   "execution_count": 221,
   "metadata": {
    "scrolled": false
   },
   "outputs": [
    {
     "data": {
      "image/png": "[encoded data removed]",
      "text/plain": [
       "<Figure size 720x360 with 1 Axes>"
      ]
     },
     "metadata": {},
     "output_type": "display_data"
    }
   ],
   "source": [
    "plt.figure(figsize = (10,5))\n",
    "plt.style.use('ggplot')\n",
    "stage.plot(kind = 'bar', alpha = 0.7)\n",
    "plt.title('Stage Distribution')\n",
    "plt.xlabel('stage')\n",
    "plt.ylabel('counts')\n",
    "plt.xticks(rotation=0);"
   ]
  },
  {
   "cell_type": "code",
   "execution_count": 222,
   "metadata": {},
   "outputs": [
    {
     "name": "stdout",
     "output_type": "stream",
     "text": [
      "There are 303 tweets of which dog stages can be identified\n",
      "The percentage is 15%\n"
     ]
    }
   ],
   "source": [
    "count = len(we_rate_dogs.query('stage != \"None\"'))\n",
    "percentage = count / len(we_rate_dogs['stage']) * 100\n",
    "print('There are {} tweets of which dog stages can be identified'.format(count))\n",
    "print('The percentage is {}%'.format(int(percentage)))"
   ]
  },
  {
   "cell_type": "markdown",
   "metadata": {},
   "source": [
    "### Note:\n",
    "* It is obvious only a small portion of tweets (15%) can be identified dog stages."
   ]
  },
  {
   "cell_type": "markdown",
   "metadata": {},
   "source": [
    "### 5.Top 10 dog breeds among all tweets"
   ]
  },
  {
   "cell_type": "code",
   "execution_count": 223,
   "metadata": {},
   "outputs": [
    {
     "data": {
      "text/plain": [
       "golden_retriever      154\n",
       "labrador_retriever    103\n",
       "pembroke              94 \n",
       "chihuahua             90 \n",
       "pug                   62 \n",
       "toy_poodle            50 \n",
       "chow                  47 \n",
       "samoyed               42 \n",
       "pomeranian            41 \n",
       "malamute              33 \n",
       "Name: breed, dtype: int64"
      ]
     },
     "execution_count": 223,
     "metadata": {},
     "output_type": "execute_result"
    }
   ],
   "source": [
    "breed_10 = we_rate_dogs.query('breed != \"None\"')['breed'].value_counts().head(10)\n",
    "breed_10"
   ]
  },
  {
   "cell_type": "code",
   "execution_count": 234,
   "metadata": {},
   "outputs": [
    {
     "data": {
      "image/png": "[encoded data removed]",
      "text/plain": [
       "<Figure size 432x288 with 1 Axes>"
      ]
     },
     "metadata": {},
     "output_type": "display_data"
    }
   ],
   "source": [
    "plt.style.use('ggplot')\n",
    "plt.barh(breed_10.index, breed_10)\n",
    "plt.title('Top 10 breeds by tweet counts')\n",
    "plt.xlabel('tweet counts')\n",
    "plt.ylabel('breed type')\n",
    "plt.gca().invert_yaxis();"
   ]
  },
  {
   "cell_type": "markdown",
   "metadata": {},
   "source": [
    "### Note:\n",
    "* Among tweets whose dogs breed can be identified by the algorithm, Top 10 breeds are shownn as above\n",
    "* The most common breed is \"golden_retriever\" which has 154 counts."
   ]
  },
  {
   "cell_type": "markdown",
   "metadata": {},
   "source": [
    "### 6. Top 10 breeds with the most favorite counts"
   ]
  },
  {
   "cell_type": "code",
   "execution_count": 225,
   "metadata": {},
   "outputs": [
    {
     "data": {
      "text/plain": [
       "breed\n",
       "golden_retriever      1710974\n",
       "labrador_retriever    1041230\n",
       "pembroke              922938 \n",
       "chihuahua             680624 \n",
       "french_bulldog        536123 \n",
       "samoyed               491382 \n",
       "chow                  394552 \n",
       "cocker_spaniel        359374 \n",
       "pug                   332072 \n",
       "malamute              310720 \n",
       "Name: favorite_count, dtype: Int64"
      ]
     },
     "execution_count": 225,
     "metadata": {},
     "output_type": "execute_result"
    }
   ],
   "source": [
    "breed_10_fav = we_rate_dogs.query('breed != \"None\"').groupby(['breed'])['favorite_count'].sum()\n",
    "breed_10_fav = breed_10_fav.sort_values(ascending = False).head(10)\n",
    "breed_10_fav"
   ]
  },
  {
   "cell_type": "code",
   "execution_count": 237,
   "metadata": {
    "scrolled": true
   },
   "outputs": [
    {
     "data": {
      "image/png": "[encoded data removed]",
      "text/plain": [
       "<Figure size 432x288 with 1 Axes>"
      ]
     },
     "metadata": {},
     "output_type": "display_data"
    }
   ],
   "source": [
    "plt.barh(breed_10_fav.index, breed_10_fav, color = 'g')\n",
    "plt.title('Top 10 breeds by favorite counts')\n",
    "plt.xlabel('favorite counts')\n",
    "plt.ylabel('breed type')\n",
    "plt.gca().invert_yaxis();"
   ]
  },
  {
   "cell_type": "markdown",
   "metadata": {},
   "source": [
    "### Note:\n",
    "* From this bar chart, we know it is sitll golden_retriever has the most total favorite counts, up to 1710974.\n",
    "* This result matches well with top 10 breeds by tweet counts which makes a lot sense."
   ]
  },
  {
   "cell_type": "markdown",
   "metadata": {},
   "source": [
    "### 7. Ratings for top 10 breeds (based on favorite counts)"
   ]
  },
  {
   "cell_type": "code",
   "execution_count": 243,
   "metadata": {},
   "outputs": [
    {
     "data": {
      "text/plain": [
       "['golden_retriever',\n",
       " 'labrador_retriever',\n",
       " 'pembroke',\n",
       " 'chihuahua',\n",
       " 'french_bulldog',\n",
       " 'samoyed',\n",
       " 'chow',\n",
       " 'cocker_spaniel',\n",
       " 'pug',\n",
       " 'malamute']"
      ]
     },
     "execution_count": 243,
     "metadata": {},
     "output_type": "execute_result"
    }
   ],
   "source": [
    "breed_list = breed_10_fav.index.tolist()\n",
    "breed_list"
   ]
  },
  {
   "cell_type": "code",
   "execution_count": 276,
   "metadata": {},
   "outputs": [
    {
     "data": {
      "image/png": "[encoded data removed]",
      "text/plain": [
       "<Figure size 1080x720 with 1 Axes>"
      ]
     },
     "metadata": {
      "needs_background": "light"
     },
     "output_type": "display_data"
    }
   ],
   "source": [
    "plt.figure(figsize = (15, 10))\n",
    "bplot = sns.boxplot(y = 'breed', x = 'rating_numerator',\n",
    "                    data = we_rate_dogs, \n",
    "                    orient = 'h',\n",
    "                    order = breed_list)\n",
    "plt.xlim(0, 16)\n",
    "\n",
    "plt.title('Rating distribution versus breeds', fontsize = 20)\n",
    "plt.xlabel('rating number', fontsize = 15)\n",
    "plt.ylabel('breeds', fontsize = 15);"
   ]
  },
  {
   "cell_type": "markdown",
   "metadata": {},
   "source": [
    "### Note:\n",
    "* From this boxplot, we can see the most ratings for the top 10 breeds range between 10 and 12. Some breeds have outliers."
   ]
  },
  {
   "cell_type": "markdown",
   "metadata": {},
   "source": [
    "### 8. Multivariate visualization: retweet counts versus favorite counts over ratings\n",
    "\n"
   ]
  },
  {
   "cell_type": "code",
   "execution_count": 290,
   "metadata": {
    "scrolled": true
   },
   "outputs": [
    {
     "name": "stdout",
     "output_type": "stream",
     "text": [
      "<class 'pandas.core.frame.DataFrame'>\n",
      "Int64Index: 1956 entries, 0 to 1955\n",
      "Data columns (total 13 columns):\n",
      " #   Column              Non-Null Count  Dtype              \n",
      "---  ------              --------------  -----              \n",
      " 0   tweet_id            1956 non-null   object             \n",
      " 1   timestamp           1956 non-null   datetime64[ns, UTC]\n",
      " 2   rating_numerator    1956 non-null   int64              \n",
      " 3   rating_denominator  1956 non-null   int64              \n",
      " 4   favorite_count      1948 non-null   Int64              \n",
      " 5   retweet_count       1948 non-null   Int64              \n",
      " 6   name                1956 non-null   object             \n",
      " 7   stage               1956 non-null   object             \n",
      " 8   breed               1956 non-null   object             \n",
      " 9   confidence          1956 non-null   float64            \n",
      " 10  source              1956 non-null   object             \n",
      " 11  text                1956 non-null   object             \n",
      " 12  expanded_urls       1956 non-null   object             \n",
      "dtypes: Int64(2), datetime64[ns, UTC](1), float64(1), int64(2), object(7)\n",
      "memory usage: 297.8+ KB\n"
     ]
    }
   ],
   "source": [
    "we_rate_dogs.info()"
   ]
  },
  {
   "cell_type": "code",
   "execution_count": 305,
   "metadata": {},
   "outputs": [
    {
     "data": {
      "image/png": "[encoded data removed]",
      "text/plain": [
       "<Figure size 1080x936 with 2 Axes>"
      ]
     },
     "metadata": {
      "needs_background": "light"
     },
     "output_type": "display_data"
    }
   ],
   "source": [
    "from matplotlib import cm\n",
    "plt.figure(figsize = (15,13))\n",
    "cmap = cm.get_cmap('Spectral')\n",
    "color = we_rate_dogs[we_rate_dogs['rating_numerator'].notnull() & we_rate_dogs['favorite_count'].notnull()]['rating_numerator']\n",
    "x = we_rate_dogs[we_rate_dogs['favorite_count'].notnull()]['favorite_count']\n",
    "y = we_rate_dogs[we_rate_dogs['retweet_count'].notnull()]['retweet_count']\n",
    "plt.xscale('log')\n",
    "plt.yscale('log')\n",
    "plt.scatter(x, y, c = color, cmap = cmap, s = 20, alpha = 0.7)\n",
    "\n",
    "# title and labels\n",
    "plt.title('Retweet counts versus favorite counts over ratings', fontsize = 20)\n",
    "plt.xlabel('favorite counts / log10', fontsize = 15)\n",
    "plt.ylabel('retweet counts / log10', fontsize = 15)\n",
    "\n",
    "# colour bar\n",
    "cbar = plt.colorbar()\n",
    "cbar.set_label('Rating');"
   ]
  },
  {
   "cell_type": "markdown",
   "metadata": {},
   "source": [
    "### Note:\n",
    "* As expected, relationship between retweet counts and favorite counts are positively correlated. It says if a users likes a tweet, it is more likely that the user will retweet it.\n",
    "* Also, the popular tweet will get a higher rating (dark purple dots)."
   ]
  },
  {
   "cell_type": "markdown",
   "metadata": {},
   "source": [
    "### 8. Retweet counts versus time the tweet was posted"
   ]
  },
  {
   "cell_type": "code",
   "execution_count": 307,
   "metadata": {},
   "outputs": [],
   "source": [
    "df_hour = we_rate_dogs.copy()"
   ]
  },
  {
   "cell_type": "code",
   "execution_count": 321,
   "metadata": {},
   "outputs": [
    {
     "name": "stdout",
     "output_type": "stream",
     "text": [
      "<class 'pandas.core.frame.DataFrame'>\n",
      "Int64Index: 1956 entries, 0 to 1955\n",
      "Data columns (total 14 columns):\n",
      " #   Column              Non-Null Count  Dtype              \n",
      "---  ------              --------------  -----              \n",
      " 0   tweet_id            1956 non-null   object             \n",
      " 1   timestamp           1956 non-null   datetime64[ns, UTC]\n",
      " 2   rating_numerator    1956 non-null   int64              \n",
      " 3   rating_denominator  1956 non-null   int64              \n",
      " 4   favorite_count      1948 non-null   Int64              \n",
      " 5   retweet_count       1948 non-null   Int64              \n",
      " 6   name                1956 non-null   object             \n",
      " 7   stage               1956 non-null   object             \n",
      " 8   breed               1956 non-null   object             \n",
      " 9   confidence          1956 non-null   float64            \n",
      " 10  source              1956 non-null   object             \n",
      " 11  text                1956 non-null   object             \n",
      " 12  expanded_urls       1956 non-null   object             \n",
      " 13  hour                1956 non-null   int64              \n",
      "dtypes: Int64(2), datetime64[ns, UTC](1), float64(1), int64(3), object(7)\n",
      "memory usage: 313.0+ KB\n"
     ]
    }
   ],
   "source": [
    "df_hour.info()"
   ]
  },
  {
   "cell_type": "code",
   "execution_count": 341,
   "metadata": {
    "scrolled": false
   },
   "outputs": [
    {
     "data": {
      "image/png": "[encoded data removed]",
      "text/plain": [
       "<Figure size 576x360 with 1 Axes>"
      ]
     },
     "metadata": {},
     "output_type": "display_data"
    }
   ],
   "source": [
    "plt.figure(figsize = (8,5))\n",
    "df_hour['hour'] = df_hour.timestamp.apply(lambda x: x.hour)\n",
    "row = df_hour[df_hour['retweet_count'].notnull()]\n",
    "plt.bar(row['hour'], row['retweet_count'], color = 'b', alpha = 0.7)\n",
    "plt.title('Retweet counts versus hour when the tweet was posted')\n",
    "plt.xlabel('time/hour')\n",
    "plt.ylabel('retweet counts')\n",
    "plt.xticks(np.arange(0, 24, step=1));"
   ]
  },
  {
   "cell_type": "markdown",
   "metadata": {},
   "source": [
    "### Note:\n",
    "* From this barplot, we know that if the tweet was posted on afternoon 6 pm, it has the highest retweet counts.However, if it was posted on the morning between 7-12 am, people barely retweet it. It is reasonable because people usually don't have time to check tweets in the morning."
   ]
  }
 ],
 "metadata": {
  "extensions": {
   "jupyter_dashboards": {
    "activeView": "report_default",
    "version": 1,
    "views": {
     "grid_default": {
      "cellMargin": 10,
      "defaultCellHeight": 20,
      "maxColumns": 12,
      "name": "grid",
      "type": "grid"
     },
     "report_default": {
      "name": "report",
      "type": "report"
     }
    }
   }
  },
  "kernelspec": {
   "display_name": "Python 3",
   "language": "python",
   "name": "python3"
  },
  "language_info": {
   "codemirror_mode": {
    "name": "ipython",
    "version": 3
   },
   "file_extension": ".py",
   "mimetype": "text/x-python",
   "name": "python",
   "nbconvert_exporter": "python",
   "pygments_lexer": "ipython3",
   "version": "3.8.8"
  }
 },
 "nbformat": 4,
 "nbformat_minor": 2
}
